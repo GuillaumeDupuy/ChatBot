{
 "cells": [
  {
   "cell_type": "markdown",
   "metadata": {},
   "source": [
    "## Import Libraries"
   ]
  },
  {
   "cell_type": "code",
   "execution_count": 24,
   "metadata": {},
   "outputs": [],
   "source": [
    "import tensorflow as tf\n",
    "import numpy as np\n",
    "import pandas as pd\n",
    "import matplotlib.pyplot as plt\n",
    "import seaborn as sns\n",
    "from tensorflow.keras.layers import TextVectorization\n",
    "import re,string\n",
    "from tensorflow.keras.layers import LSTM,Dense,Embedding,Dropout,LayerNormalization"
   ]
  },
  {
   "cell_type": "markdown",
   "metadata": {},
   "source": [
    "## Dataset"
   ]
  },
  {
   "cell_type": "code",
   "execution_count": 25,
   "metadata": {},
   "outputs": [],
   "source": [
    "df = pd.read_csv('questions_answers.csv', sep='\\t')"
   ]
  },
  {
   "cell_type": "markdown",
   "metadata": {},
   "source": [
    "### Explore the dataset"
   ]
  },
  {
   "cell_type": "code",
   "execution_count": 26,
   "metadata": {},
   "outputs": [
    {
     "data": {
      "text/html": [
       "<div>\n",
       "<style scoped>\n",
       "    .dataframe tbody tr th:only-of-type {\n",
       "        vertical-align: middle;\n",
       "    }\n",
       "\n",
       "    .dataframe tbody tr th {\n",
       "        vertical-align: top;\n",
       "    }\n",
       "\n",
       "    .dataframe thead th {\n",
       "        text-align: right;\n",
       "    }\n",
       "</style>\n",
       "<table border=\"1\" class=\"dataframe\">\n",
       "  <thead>\n",
       "    <tr style=\"text-align: right;\">\n",
       "      <th></th>\n",
       "      <th>question</th>\n",
       "      <th>reponse</th>\n",
       "    </tr>\n",
       "  </thead>\n",
       "  <tbody>\n",
       "    <tr>\n",
       "      <th>0</th>\n",
       "      <td>hi, how are you doing?</td>\n",
       "      <td>i'm fine. how about yourself?</td>\n",
       "    </tr>\n",
       "    <tr>\n",
       "      <th>1</th>\n",
       "      <td>i'm fine. how about yourself?</td>\n",
       "      <td>i'm pretty good. thanks for asking.</td>\n",
       "    </tr>\n",
       "    <tr>\n",
       "      <th>2</th>\n",
       "      <td>i'm pretty good. thanks for asking.</td>\n",
       "      <td>no problem. so how have you been?</td>\n",
       "    </tr>\n",
       "    <tr>\n",
       "      <th>3</th>\n",
       "      <td>no problem. so how have you been?</td>\n",
       "      <td>i've been great. what about you?</td>\n",
       "    </tr>\n",
       "    <tr>\n",
       "      <th>4</th>\n",
       "      <td>i've been great. what about you?</td>\n",
       "      <td>i've been good. i'm in school right now.</td>\n",
       "    </tr>\n",
       "  </tbody>\n",
       "</table>\n",
       "</div>"
      ],
      "text/plain": [
       "                              question  \\\n",
       "0               hi, how are you doing?   \n",
       "1        i'm fine. how about yourself?   \n",
       "2  i'm pretty good. thanks for asking.   \n",
       "3    no problem. so how have you been?   \n",
       "4     i've been great. what about you?   \n",
       "\n",
       "                                    reponse  \n",
       "0             i'm fine. how about yourself?  \n",
       "1       i'm pretty good. thanks for asking.  \n",
       "2         no problem. so how have you been?  \n",
       "3          i've been great. what about you?  \n",
       "4  i've been good. i'm in school right now.  "
      ]
     },
     "execution_count": 26,
     "metadata": {},
     "output_type": "execute_result"
    }
   ],
   "source": [
    "df.head()"
   ]
  },
  {
   "cell_type": "code",
   "execution_count": 27,
   "metadata": {},
   "outputs": [
    {
     "data": {
      "text/plain": [
       "(3725, 2)"
      ]
     },
     "execution_count": 27,
     "metadata": {},
     "output_type": "execute_result"
    }
   ],
   "source": [
    "df.shape"
   ]
  },
  {
   "cell_type": "markdown",
   "metadata": {},
   "source": [
    "## Data Preprocessing"
   ]
  },
  {
   "cell_type": "code",
   "execution_count": 28,
   "metadata": {},
   "outputs": [],
   "source": [
    "df['question tokens']=df['question'].apply(lambda x:len(x.split()))\n",
    "df['reponse tokens']=df['reponse'].apply(lambda x:len(x.split()))"
   ]
  },
  {
   "cell_type": "code",
   "execution_count": 29,
   "metadata": {},
   "outputs": [
    {
     "data": {
      "text/html": [
       "<div>\n",
       "<style scoped>\n",
       "    .dataframe tbody tr th:only-of-type {\n",
       "        vertical-align: middle;\n",
       "    }\n",
       "\n",
       "    .dataframe tbody tr th {\n",
       "        vertical-align: top;\n",
       "    }\n",
       "\n",
       "    .dataframe thead th {\n",
       "        text-align: right;\n",
       "    }\n",
       "</style>\n",
       "<table border=\"1\" class=\"dataframe\">\n",
       "  <thead>\n",
       "    <tr style=\"text-align: right;\">\n",
       "      <th></th>\n",
       "      <th>question</th>\n",
       "      <th>reponse</th>\n",
       "      <th>question tokens</th>\n",
       "      <th>reponse tokens</th>\n",
       "    </tr>\n",
       "  </thead>\n",
       "  <tbody>\n",
       "    <tr>\n",
       "      <th>0</th>\n",
       "      <td>hi, how are you doing?</td>\n",
       "      <td>i'm fine. how about yourself?</td>\n",
       "      <td>5</td>\n",
       "      <td>5</td>\n",
       "    </tr>\n",
       "    <tr>\n",
       "      <th>1</th>\n",
       "      <td>i'm fine. how about yourself?</td>\n",
       "      <td>i'm pretty good. thanks for asking.</td>\n",
       "      <td>5</td>\n",
       "      <td>6</td>\n",
       "    </tr>\n",
       "    <tr>\n",
       "      <th>2</th>\n",
       "      <td>i'm pretty good. thanks for asking.</td>\n",
       "      <td>no problem. so how have you been?</td>\n",
       "      <td>6</td>\n",
       "      <td>7</td>\n",
       "    </tr>\n",
       "    <tr>\n",
       "      <th>3</th>\n",
       "      <td>no problem. so how have you been?</td>\n",
       "      <td>i've been great. what about you?</td>\n",
       "      <td>7</td>\n",
       "      <td>6</td>\n",
       "    </tr>\n",
       "    <tr>\n",
       "      <th>4</th>\n",
       "      <td>i've been great. what about you?</td>\n",
       "      <td>i've been good. i'm in school right now.</td>\n",
       "      <td>6</td>\n",
       "      <td>8</td>\n",
       "    </tr>\n",
       "    <tr>\n",
       "      <th>...</th>\n",
       "      <td>...</td>\n",
       "      <td>...</td>\n",
       "      <td>...</td>\n",
       "      <td>...</td>\n",
       "    </tr>\n",
       "    <tr>\n",
       "      <th>3720</th>\n",
       "      <td>that's a good question. maybe it's not old age.</td>\n",
       "      <td>are you right-handed?</td>\n",
       "      <td>9</td>\n",
       "      <td>3</td>\n",
       "    </tr>\n",
       "    <tr>\n",
       "      <th>3721</th>\n",
       "      <td>are you right-handed?</td>\n",
       "      <td>yes. all my life.</td>\n",
       "      <td>3</td>\n",
       "      <td>4</td>\n",
       "    </tr>\n",
       "    <tr>\n",
       "      <th>3722</th>\n",
       "      <td>yes. all my life.</td>\n",
       "      <td>you're wearing out your right hand. stop using...</td>\n",
       "      <td>4</td>\n",
       "      <td>11</td>\n",
       "    </tr>\n",
       "    <tr>\n",
       "      <th>3723</th>\n",
       "      <td>you're wearing out your right hand. stop using...</td>\n",
       "      <td>but i do all my writing with my right hand.</td>\n",
       "      <td>11</td>\n",
       "      <td>10</td>\n",
       "    </tr>\n",
       "    <tr>\n",
       "      <th>3724</th>\n",
       "      <td>but i do all my writing with my right hand.</td>\n",
       "      <td>start typing instead. that way your left hand ...</td>\n",
       "      <td>10</td>\n",
       "      <td>13</td>\n",
       "    </tr>\n",
       "  </tbody>\n",
       "</table>\n",
       "<p>3725 rows × 4 columns</p>\n",
       "</div>"
      ],
      "text/plain": [
       "                                               question  \\\n",
       "0                                hi, how are you doing?   \n",
       "1                         i'm fine. how about yourself?   \n",
       "2                   i'm pretty good. thanks for asking.   \n",
       "3                     no problem. so how have you been?   \n",
       "4                      i've been great. what about you?   \n",
       "...                                                 ...   \n",
       "3720    that's a good question. maybe it's not old age.   \n",
       "3721                              are you right-handed?   \n",
       "3722                                  yes. all my life.   \n",
       "3723  you're wearing out your right hand. stop using...   \n",
       "3724        but i do all my writing with my right hand.   \n",
       "\n",
       "                                                reponse  question tokens  \\\n",
       "0                         i'm fine. how about yourself?                5   \n",
       "1                   i'm pretty good. thanks for asking.                5   \n",
       "2                     no problem. so how have you been?                6   \n",
       "3                      i've been great. what about you?                7   \n",
       "4              i've been good. i'm in school right now.                6   \n",
       "...                                                 ...              ...   \n",
       "3720                              are you right-handed?                9   \n",
       "3721                                  yes. all my life.                3   \n",
       "3722  you're wearing out your right hand. stop using...                4   \n",
       "3723        but i do all my writing with my right hand.               11   \n",
       "3724  start typing instead. that way your left hand ...               10   \n",
       "\n",
       "      reponse tokens  \n",
       "0                  5  \n",
       "1                  6  \n",
       "2                  7  \n",
       "3                  6  \n",
       "4                  8  \n",
       "...              ...  \n",
       "3720               3  \n",
       "3721               4  \n",
       "3722              11  \n",
       "3723              10  \n",
       "3724              13  \n",
       "\n",
       "[3725 rows x 4 columns]"
      ]
     },
     "execution_count": 29,
     "metadata": {},
     "output_type": "execute_result"
    }
   ],
   "source": [
    "df"
   ]
  },
  {
   "cell_type": "markdown",
   "metadata": {},
   "source": [
    "### Plot the number of tokens in each sentence"
   ]
  },
  {
   "cell_type": "code",
   "execution_count": 30,
   "metadata": {},
   "outputs": [
    {
     "data": {
      "image/png": "[encoded data removed]",
      "text/plain": [
       "<Figure size 1440x360 with 2 Axes>"
      ]
     },
     "metadata": {},
     "output_type": "display_data"
    },
    {
     "data": {
      "image/png": "[encoded data removed]",
      "text/plain": [
       "<Figure size 432x432 with 3 Axes>"
      ]
     },
     "metadata": {},
     "output_type": "display_data"
    }
   ],
   "source": [
    "plt.style.use('fivethirtyeight')\n",
    "fig,ax=plt.subplots(nrows=1,ncols=2,figsize=(20,5))\n",
    "sns.set_palette('Set2')\n",
    "sns.histplot(x=df['question tokens'],data=df,kde=True,ax=ax[0])\n",
    "sns.histplot(x=df['reponse tokens'],data=df,kde=True,ax=ax[1])\n",
    "sns.jointplot(x='question tokens',y='reponse tokens',data=df,kind='kde',fill=True,cmap='YlGnBu')\n",
    "plt.show()"
   ]
  },
  {
   "cell_type": "markdown",
   "metadata": {},
   "source": [
    "### Clean the text"
   ]
  },
  {
   "cell_type": "code",
   "execution_count": 31,
   "metadata": {},
   "outputs": [],
   "source": [
    "def clean_text(text):\n",
    "    text=re.sub('-',' ',text.lower())\n",
    "    text=re.sub('[.]',' . ',text)\n",
    "    text=re.sub('[1]',' 1 ',text)\n",
    "    text=re.sub('[2]',' 2 ',text)\n",
    "    text=re.sub('[3]',' 3 ',text)\n",
    "    text=re.sub('[4]',' 4 ',text)\n",
    "    text=re.sub('[5]',' 5 ',text)\n",
    "    text=re.sub('[6]',' 6 ',text)\n",
    "    text=re.sub('[7]',' 7 ',text)\n",
    "    text=re.sub('[8]',' 8 ',text)\n",
    "    text=re.sub('[9]',' 9 ',text)\n",
    "    text=re.sub('[0]',' 0 ',text)\n",
    "    text=re.sub('[,]',' , ',text)\n",
    "    text=re.sub('[?]',' ? ',text)\n",
    "    text=re.sub('[!]',' ! ',text)\n",
    "    text=re.sub('[$]',' $ ',text)\n",
    "    text=re.sub('[&]',' & ',text)\n",
    "    text=re.sub('[/]',' / ',text)\n",
    "    text=re.sub('[:]',' : ',text)\n",
    "    text=re.sub('[;]',' ; ',text)\n",
    "    text=re.sub('[*]',' * ',text)\n",
    "    text=re.sub('[\\']',' \\' ',text)\n",
    "    text=re.sub('[\\\"]',' \\\" ',text)\n",
    "    text=re.sub('\\t',' ',text)\n",
    "    return text"
   ]
  },
  {
   "cell_type": "code",
   "execution_count": 32,
   "metadata": {},
   "outputs": [
    {
     "data": {
      "text/html": [
       "<div>\n",
       "<style scoped>\n",
       "    .dataframe tbody tr th:only-of-type {\n",
       "        vertical-align: middle;\n",
       "    }\n",
       "\n",
       "    .dataframe tbody tr th {\n",
       "        vertical-align: top;\n",
       "    }\n",
       "\n",
       "    .dataframe thead th {\n",
       "        text-align: right;\n",
       "    }\n",
       "</style>\n",
       "<table border=\"1\" class=\"dataframe\">\n",
       "  <thead>\n",
       "    <tr style=\"text-align: right;\">\n",
       "      <th></th>\n",
       "      <th>question</th>\n",
       "      <th>reponse</th>\n",
       "      <th>encoder_inputs</th>\n",
       "      <th>decoder_targets</th>\n",
       "      <th>decoder_inputs</th>\n",
       "    </tr>\n",
       "  </thead>\n",
       "  <tbody>\n",
       "    <tr>\n",
       "      <th>0</th>\n",
       "      <td>hi, how are you doing?</td>\n",
       "      <td>i'm fine. how about yourself?</td>\n",
       "      <td>hi ,  how are you doing ?</td>\n",
       "      <td>i ' m fine .  how about yourself ?  &lt;end&gt;</td>\n",
       "      <td>&lt;start&gt; i ' m fine .  how about yourself ?  &lt;end&gt;</td>\n",
       "    </tr>\n",
       "    <tr>\n",
       "      <th>1</th>\n",
       "      <td>i'm fine. how about yourself?</td>\n",
       "      <td>i'm pretty good. thanks for asking.</td>\n",
       "      <td>i ' m fine .  how about yourself ?</td>\n",
       "      <td>i ' m pretty good .  thanks for asking .  &lt;end&gt;</td>\n",
       "      <td>&lt;start&gt; i ' m pretty good .  thanks for asking...</td>\n",
       "    </tr>\n",
       "    <tr>\n",
       "      <th>2</th>\n",
       "      <td>i'm pretty good. thanks for asking.</td>\n",
       "      <td>no problem. so how have you been?</td>\n",
       "      <td>i ' m pretty good .  thanks for asking .</td>\n",
       "      <td>no problem .  so how have you been ?  &lt;end&gt;</td>\n",
       "      <td>&lt;start&gt; no problem .  so how have you been ?  ...</td>\n",
       "    </tr>\n",
       "    <tr>\n",
       "      <th>3</th>\n",
       "      <td>no problem. so how have you been?</td>\n",
       "      <td>i've been great. what about you?</td>\n",
       "      <td>no problem .  so how have you been ?</td>\n",
       "      <td>i ' ve been great .  what about you ?  &lt;end&gt;</td>\n",
       "      <td>&lt;start&gt; i ' ve been great .  what about you ? ...</td>\n",
       "    </tr>\n",
       "    <tr>\n",
       "      <th>4</th>\n",
       "      <td>i've been great. what about you?</td>\n",
       "      <td>i've been good. i'm in school right now.</td>\n",
       "      <td>i ' ve been great .  what about you ?</td>\n",
       "      <td>i ' ve been good .  i ' m in school right now ...</td>\n",
       "      <td>&lt;start&gt; i ' ve been good .  i ' m in school ri...</td>\n",
       "    </tr>\n",
       "    <tr>\n",
       "      <th>5</th>\n",
       "      <td>i've been good. i'm in school right now.</td>\n",
       "      <td>what school do you go to?</td>\n",
       "      <td>i ' ve been good .  i ' m in school right now .</td>\n",
       "      <td>what school do you go to ?  &lt;end&gt;</td>\n",
       "      <td>&lt;start&gt; what school do you go to ?  &lt;end&gt;</td>\n",
       "    </tr>\n",
       "    <tr>\n",
       "      <th>6</th>\n",
       "      <td>what school do you go to?</td>\n",
       "      <td>i go to pcc.</td>\n",
       "      <td>what school do you go to ?</td>\n",
       "      <td>i go to pcc .  &lt;end&gt;</td>\n",
       "      <td>&lt;start&gt; i go to pcc .  &lt;end&gt;</td>\n",
       "    </tr>\n",
       "    <tr>\n",
       "      <th>7</th>\n",
       "      <td>i go to pcc.</td>\n",
       "      <td>do you like it there?</td>\n",
       "      <td>i go to pcc .</td>\n",
       "      <td>do you like it there ?  &lt;end&gt;</td>\n",
       "      <td>&lt;start&gt; do you like it there ?  &lt;end&gt;</td>\n",
       "    </tr>\n",
       "    <tr>\n",
       "      <th>8</th>\n",
       "      <td>do you like it there?</td>\n",
       "      <td>it's okay. it's a really big campus.</td>\n",
       "      <td>do you like it there ?</td>\n",
       "      <td>it ' s okay .  it ' s a really big campus .  &lt;...</td>\n",
       "      <td>&lt;start&gt; it ' s okay .  it ' s a really big cam...</td>\n",
       "    </tr>\n",
       "    <tr>\n",
       "      <th>9</th>\n",
       "      <td>it's okay. it's a really big campus.</td>\n",
       "      <td>good luck with school.</td>\n",
       "      <td>it ' s okay .  it ' s a really big campus .</td>\n",
       "      <td>good luck with school .  &lt;end&gt;</td>\n",
       "      <td>&lt;start&gt; good luck with school .  &lt;end&gt;</td>\n",
       "    </tr>\n",
       "  </tbody>\n",
       "</table>\n",
       "</div>"
      ],
      "text/plain": [
       "                                   question  \\\n",
       "0                    hi, how are you doing?   \n",
       "1             i'm fine. how about yourself?   \n",
       "2       i'm pretty good. thanks for asking.   \n",
       "3         no problem. so how have you been?   \n",
       "4          i've been great. what about you?   \n",
       "5  i've been good. i'm in school right now.   \n",
       "6                 what school do you go to?   \n",
       "7                              i go to pcc.   \n",
       "8                     do you like it there?   \n",
       "9      it's okay. it's a really big campus.   \n",
       "\n",
       "                                    reponse  \\\n",
       "0             i'm fine. how about yourself?   \n",
       "1       i'm pretty good. thanks for asking.   \n",
       "2         no problem. so how have you been?   \n",
       "3          i've been great. what about you?   \n",
       "4  i've been good. i'm in school right now.   \n",
       "5                 what school do you go to?   \n",
       "6                              i go to pcc.   \n",
       "7                     do you like it there?   \n",
       "8      it's okay. it's a really big campus.   \n",
       "9                    good luck with school.   \n",
       "\n",
       "                                     encoder_inputs  \\\n",
       "0                        hi ,  how are you doing ?    \n",
       "1               i ' m fine .  how about yourself ?    \n",
       "2         i ' m pretty good .  thanks for asking .    \n",
       "3             no problem .  so how have you been ?    \n",
       "4            i ' ve been great .  what about you ?    \n",
       "5  i ' ve been good .  i ' m in school right now .    \n",
       "6                       what school do you go to ?    \n",
       "7                                    i go to pcc .    \n",
       "8                           do you like it there ?    \n",
       "9      it ' s okay .  it ' s a really big campus .    \n",
       "\n",
       "                                     decoder_targets  \\\n",
       "0          i ' m fine .  how about yourself ?  <end>   \n",
       "1    i ' m pretty good .  thanks for asking .  <end>   \n",
       "2        no problem .  so how have you been ?  <end>   \n",
       "3       i ' ve been great .  what about you ?  <end>   \n",
       "4  i ' ve been good .  i ' m in school right now ...   \n",
       "5                  what school do you go to ?  <end>   \n",
       "6                               i go to pcc .  <end>   \n",
       "7                      do you like it there ?  <end>   \n",
       "8  it ' s okay .  it ' s a really big campus .  <...   \n",
       "9                     good luck with school .  <end>   \n",
       "\n",
       "                                      decoder_inputs  \n",
       "0  <start> i ' m fine .  how about yourself ?  <end>  \n",
       "1  <start> i ' m pretty good .  thanks for asking...  \n",
       "2  <start> no problem .  so how have you been ?  ...  \n",
       "3  <start> i ' ve been great .  what about you ? ...  \n",
       "4  <start> i ' ve been good .  i ' m in school ri...  \n",
       "5          <start> what school do you go to ?  <end>  \n",
       "6                       <start> i go to pcc .  <end>  \n",
       "7              <start> do you like it there ?  <end>  \n",
       "8  <start> it ' s okay .  it ' s a really big cam...  \n",
       "9             <start> good luck with school .  <end>  "
      ]
     },
     "execution_count": 32,
     "metadata": {},
     "output_type": "execute_result"
    }
   ],
   "source": [
    "# Dropping Unnecessary Columns\n",
    "df.drop(columns=['reponse tokens','question tokens'],axis=1,inplace=True)\n",
    "# Cleaning Text Data\n",
    "df['encoder_inputs']=df['question'].apply(clean_text)\n",
    "df['decoder_targets']=df['reponse'].apply(clean_text)+' <end>'\n",
    "df['decoder_inputs']='<start> '+df['reponse'].apply(clean_text)+' <end>'\n",
    "\n",
    "df.head(10)"
   ]
  },
  {
   "cell_type": "code",
   "execution_count": 33,
   "metadata": {},
   "outputs": [],
   "source": [
    "# Counting Tokens in Encoder, Decoder Inputs & Decoder Targets\n",
    "df['encoder input tokens']=df['encoder_inputs'].apply(lambda x:len(x.split()))\n",
    "df['decoder input tokens']=df['decoder_inputs'].apply(lambda x:len(x.split()))\n",
    "df['decoder target tokens']=df['decoder_targets'].apply(lambda x:len(x.split()))"
   ]
  },
  {
   "cell_type": "markdown",
   "metadata": {},
   "source": [
    "### Visualizes token distributions in questions and responses, and their density relationship."
   ]
  },
  {
   "cell_type": "code",
   "execution_count": 34,
   "metadata": {},
   "outputs": [
    {
     "data": {
      "image/png": "[encoded data removed]",
      "text/plain": [
       "<Figure size 1440x360 with 3 Axes>"
      ]
     },
     "metadata": {},
     "output_type": "display_data"
    },
    {
     "data": {
      "image/png": "[encoded data removed]",
      "text/plain": [
       "<Figure size 432x432 with 3 Axes>"
      ]
     },
     "metadata": {},
     "output_type": "display_data"
    }
   ],
   "source": [
    "plt.style.use('fivethirtyeight')\n",
    "fig,ax=plt.subplots(nrows=1,ncols=3,figsize=(20,5))\n",
    "sns.set_palette('Set2')\n",
    "sns.histplot(x=df['encoder input tokens'],data=df,kde=True,ax=ax[0])\n",
    "sns.histplot(x=df['decoder input tokens'],data=df,kde=True,ax=ax[1])\n",
    "sns.histplot(x=df['decoder target tokens'],data=df,kde=True,ax=ax[2])\n",
    "sns.jointplot(x='encoder input tokens',y='decoder target tokens',data=df,kind='kde',fill=True,cmap='YlGnBu')\n",
    "plt.show()"
   ]
  },
  {
   "cell_type": "code",
   "execution_count": 35,
   "metadata": {},
   "outputs": [
    {
     "name": "stdout",
     "output_type": "stream",
     "text": [
      "After preprocessing: for example ,  if your birth date is january  1  2  ,   1  9  8  7  ,  write  0  1  /  1  2  /  8  7  . \n",
      "Max encoder input length: 27\n",
      "Max decoder input length: 29\n",
      "Max decoder target length: 28\n"
     ]
    }
   ],
   "source": [
    "print(f\"After preprocessing: {' '.join(df[df['encoder input tokens'].max()==df['encoder input tokens']]['encoder_inputs'].values.tolist())}\")\n",
    "print(f\"Max encoder input length: {df['encoder input tokens'].max()}\")\n",
    "print(f\"Max decoder input length: {df['decoder input tokens'].max()}\")\n",
    "print(f\"Max decoder target length: {df['decoder target tokens'].max()}\")\n",
    "\n",
    "df.drop(columns=['question','reponse','encoder input tokens','decoder input tokens','decoder target tokens'],axis=1,inplace=True)"
   ]
  },
  {
   "cell_type": "code",
   "execution_count": 36,
   "metadata": {},
   "outputs": [],
   "source": [
    "# Model Parameters & Hyperparameters with LSTM\n",
    "params={\n",
    "    \"vocab_size\":2500,\n",
    "    \"max_sequence_length\":30,\n",
    "    \"learning_rate\":0.008,\n",
    "    \"batch_size\":149,\n",
    "    \"lstm_cells\":256,\n",
    "    \"embedding_dim\":256,\n",
    "    \"buffer_size\":10000\n",
    "}\n",
    "learning_rate=params['learning_rate']\n",
    "batch_size=params['batch_size']\n",
    "embedding_dim=params['embedding_dim']\n",
    "lstm_cells=params['lstm_cells']\n",
    "vocab_size=params['vocab_size']\n",
    "buffer_size=params['buffer_size']\n",
    "max_sequence_length=params['max_sequence_length']"
   ]
  },
  {
   "cell_type": "code",
   "execution_count": 37,
   "metadata": {},
   "outputs": [
    {
     "data": {
      "text/html": [
       "<div>\n",
       "<style scoped>\n",
       "    .dataframe tbody tr th:only-of-type {\n",
       "        vertical-align: middle;\n",
       "    }\n",
       "\n",
       "    .dataframe tbody tr th {\n",
       "        vertical-align: top;\n",
       "    }\n",
       "\n",
       "    .dataframe thead th {\n",
       "        text-align: right;\n",
       "    }\n",
       "</style>\n",
       "<table border=\"1\" class=\"dataframe\">\n",
       "  <thead>\n",
       "    <tr style=\"text-align: right;\">\n",
       "      <th></th>\n",
       "      <th>encoder_inputs</th>\n",
       "      <th>decoder_targets</th>\n",
       "      <th>decoder_inputs</th>\n",
       "    </tr>\n",
       "  </thead>\n",
       "  <tbody>\n",
       "    <tr>\n",
       "      <th>0</th>\n",
       "      <td>hi ,  how are you doing ?</td>\n",
       "      <td>i ' m fine .  how about yourself ?  &lt;end&gt;</td>\n",
       "      <td>&lt;start&gt; i ' m fine .  how about yourself ?  &lt;end&gt;</td>\n",
       "    </tr>\n",
       "    <tr>\n",
       "      <th>1</th>\n",
       "      <td>i ' m fine .  how about yourself ?</td>\n",
       "      <td>i ' m pretty good .  thanks for asking .  &lt;end&gt;</td>\n",
       "      <td>&lt;start&gt; i ' m pretty good .  thanks for asking...</td>\n",
       "    </tr>\n",
       "    <tr>\n",
       "      <th>2</th>\n",
       "      <td>i ' m pretty good .  thanks for asking .</td>\n",
       "      <td>no problem .  so how have you been ?  &lt;end&gt;</td>\n",
       "      <td>&lt;start&gt; no problem .  so how have you been ?  ...</td>\n",
       "    </tr>\n",
       "    <tr>\n",
       "      <th>3</th>\n",
       "      <td>no problem .  so how have you been ?</td>\n",
       "      <td>i ' ve been great .  what about you ?  &lt;end&gt;</td>\n",
       "      <td>&lt;start&gt; i ' ve been great .  what about you ? ...</td>\n",
       "    </tr>\n",
       "    <tr>\n",
       "      <th>4</th>\n",
       "      <td>i ' ve been great .  what about you ?</td>\n",
       "      <td>i ' ve been good .  i ' m in school right now ...</td>\n",
       "      <td>&lt;start&gt; i ' ve been good .  i ' m in school ri...</td>\n",
       "    </tr>\n",
       "    <tr>\n",
       "      <th>5</th>\n",
       "      <td>i ' ve been good .  i ' m in school right now .</td>\n",
       "      <td>what school do you go to ?  &lt;end&gt;</td>\n",
       "      <td>&lt;start&gt; what school do you go to ?  &lt;end&gt;</td>\n",
       "    </tr>\n",
       "    <tr>\n",
       "      <th>6</th>\n",
       "      <td>what school do you go to ?</td>\n",
       "      <td>i go to pcc .  &lt;end&gt;</td>\n",
       "      <td>&lt;start&gt; i go to pcc .  &lt;end&gt;</td>\n",
       "    </tr>\n",
       "    <tr>\n",
       "      <th>7</th>\n",
       "      <td>i go to pcc .</td>\n",
       "      <td>do you like it there ?  &lt;end&gt;</td>\n",
       "      <td>&lt;start&gt; do you like it there ?  &lt;end&gt;</td>\n",
       "    </tr>\n",
       "    <tr>\n",
       "      <th>8</th>\n",
       "      <td>do you like it there ?</td>\n",
       "      <td>it ' s okay .  it ' s a really big campus .  &lt;...</td>\n",
       "      <td>&lt;start&gt; it ' s okay .  it ' s a really big cam...</td>\n",
       "    </tr>\n",
       "    <tr>\n",
       "      <th>9</th>\n",
       "      <td>it ' s okay .  it ' s a really big campus .</td>\n",
       "      <td>good luck with school .  &lt;end&gt;</td>\n",
       "      <td>&lt;start&gt; good luck with school .  &lt;end&gt;</td>\n",
       "    </tr>\n",
       "  </tbody>\n",
       "</table>\n",
       "</div>"
      ],
      "text/plain": [
       "                                     encoder_inputs  \\\n",
       "0                        hi ,  how are you doing ?    \n",
       "1               i ' m fine .  how about yourself ?    \n",
       "2         i ' m pretty good .  thanks for asking .    \n",
       "3             no problem .  so how have you been ?    \n",
       "4            i ' ve been great .  what about you ?    \n",
       "5  i ' ve been good .  i ' m in school right now .    \n",
       "6                       what school do you go to ?    \n",
       "7                                    i go to pcc .    \n",
       "8                           do you like it there ?    \n",
       "9      it ' s okay .  it ' s a really big campus .    \n",
       "\n",
       "                                     decoder_targets  \\\n",
       "0          i ' m fine .  how about yourself ?  <end>   \n",
       "1    i ' m pretty good .  thanks for asking .  <end>   \n",
       "2        no problem .  so how have you been ?  <end>   \n",
       "3       i ' ve been great .  what about you ?  <end>   \n",
       "4  i ' ve been good .  i ' m in school right now ...   \n",
       "5                  what school do you go to ?  <end>   \n",
       "6                               i go to pcc .  <end>   \n",
       "7                      do you like it there ?  <end>   \n",
       "8  it ' s okay .  it ' s a really big campus .  <...   \n",
       "9                     good luck with school .  <end>   \n",
       "\n",
       "                                      decoder_inputs  \n",
       "0  <start> i ' m fine .  how about yourself ?  <end>  \n",
       "1  <start> i ' m pretty good .  thanks for asking...  \n",
       "2  <start> no problem .  so how have you been ?  ...  \n",
       "3  <start> i ' ve been great .  what about you ? ...  \n",
       "4  <start> i ' ve been good .  i ' m in school ri...  \n",
       "5          <start> what school do you go to ?  <end>  \n",
       "6                       <start> i go to pcc .  <end>  \n",
       "7              <start> do you like it there ?  <end>  \n",
       "8  <start> it ' s okay .  it ' s a really big cam...  \n",
       "9             <start> good luck with school .  <end>  "
      ]
     },
     "execution_count": 37,
     "metadata": {},
     "output_type": "execute_result"
    }
   ],
   "source": [
    "df.head(10)"
   ]
  },
  {
   "cell_type": "markdown",
   "metadata": {},
   "source": [
    "## Tokenization"
   ]
  },
  {
   "cell_type": "markdown",
   "metadata": {},
   "source": [
    "### Configures text vectorization, adapting it to both inputs and targets, and displays the updated vocabulary size and top tokens."
   ]
  },
  {
   "cell_type": "code",
   "execution_count": 38,
   "metadata": {},
   "outputs": [
    {
     "name": "stdout",
     "output_type": "stream",
     "text": [
      "Vocab size: 2443\n",
      "['', '[UNK]', '<end>', '.', '<start>', \"'\", 'i', '?', 'you', ',', 'the', 'to']\n"
     ]
    }
   ],
   "source": [
    "vectorize_layer=TextVectorization(\n",
    "    max_tokens=vocab_size,\n",
    "    standardize=None,\n",
    "    output_mode='int',\n",
    "    output_sequence_length=max_sequence_length\n",
    ")\n",
    "vectorize_layer.adapt(df['encoder_inputs']+' '+df['decoder_targets']+' <start> <end>')\n",
    "vocab_size=len(vectorize_layer.get_vocabulary())\n",
    "print(f'Vocab size: {len(vectorize_layer.get_vocabulary())}')\n",
    "print(f'{vectorize_layer.get_vocabulary()[:12]}')"
   ]
  },
  {
   "cell_type": "markdown",
   "metadata": {},
   "source": [
    "### Converts text to IDs and back, showcasing shapes of model inputs and outputs."
   ]
  },
  {
   "cell_type": "code",
   "execution_count": 39,
   "metadata": {},
   "outputs": [
    {
     "name": "stdout",
     "output_type": "stream",
     "text": [
      "Question sentence: Qui sont les personnes qui travaillent la terre ?\n",
      "Question to tokens: [1 1 1 1 1 1 1 1 7 0]\n",
      "Encoder input shape: (3725, 30)\n",
      "Decoder input shape: (3725, 30)\n",
      "Decoder target shape: (3725, 30)\n"
     ]
    }
   ],
   "source": [
    "def sequences2ids(sequence):\n",
    "    return vectorize_layer(sequence)\n",
    "\n",
    "def ids2sequences(ids):\n",
    "    decode=''\n",
    "    if type(ids)==int:\n",
    "        ids=[ids]\n",
    "    for id in ids:\n",
    "        decode+=vectorize_layer.get_vocabulary()[id]+' '\n",
    "    return decode\n",
    "\n",
    "x=sequences2ids(df['encoder_inputs'])\n",
    "yd=sequences2ids(df['decoder_inputs'])\n",
    "y=sequences2ids(df['decoder_targets'])\n",
    "\n",
    "print(f'Question sentence: Qui sont les personnes qui travaillent la terre ?')\n",
    "print(f'Question to tokens: {sequences2ids(\"Qui sont les personnes qui travaillent la terre ?\")[:10]}')\n",
    "print(f'Encoder input shape: {x.shape}')\n",
    "print(f'Decoder input shape: {yd.shape}')\n",
    "print(f'Decoder target shape: {y.shape}')"
   ]
  },
  {
   "cell_type": "code",
   "execution_count": 40,
   "metadata": {},
   "outputs": [
    {
     "name": "stdout",
     "output_type": "stream",
     "text": [
      "Encoder input: [1971    9   45   24    8  194    7    0    0    0    0    0] ...\n",
      "Decoder input: [  4   6   5  38 646   3  45  41 563   7   2   0] ...\n",
      "Decoder target: [  6   5  38 646   3  45  41 563   7   2   0   0] ...\n"
     ]
    }
   ],
   "source": [
    "print(f'Encoder input: {x[0][:12]} ...')\n",
    "print(f'Decoder input: {yd[0][:12]} ...')    # shifted by one time step of the target as input to decoder is the output of the previous timestep\n",
    "print(f'Decoder target: {y[0][:12]} ...')"
   ]
  },
  {
   "cell_type": "markdown",
   "metadata": {},
   "source": [
    "### Prepares training and validation datasets, details data batching and shapes."
   ]
  },
  {
   "cell_type": "code",
   "execution_count": 41,
   "metadata": {},
   "outputs": [
    {
     "name": "stdout",
     "output_type": "stream",
     "text": [
      "Number of train batches: 23\n",
      "Number of training data: 3427\n",
      "Number of validation batches: 3\n",
      "Number of validation data: 447\n",
      "Encoder Input shape (with batches): (149, 30)\n",
      "Decoder Input shape (with batches): (149, 30)\n",
      "Target Output shape (with batches): (149, 30)\n"
     ]
    }
   ],
   "source": [
    "data=tf.data.Dataset.from_tensor_slices((x,yd,y))\n",
    "data=data.shuffle(buffer_size)\n",
    "\n",
    "train_data=data.take(int(.9*len(data)))\n",
    "train_data=train_data.cache()\n",
    "train_data=train_data.shuffle(buffer_size)\n",
    "train_data=train_data.batch(batch_size)\n",
    "train_data=train_data.prefetch(tf.data.AUTOTUNE)\n",
    "train_data_iterator=train_data.as_numpy_iterator()\n",
    "\n",
    "val_data=data.skip(int(.9*len(data))).take(int(.1*len(data)))\n",
    "val_data=val_data.batch(batch_size)\n",
    "val_data=val_data.prefetch(tf.data.AUTOTUNE)\n",
    "\n",
    "_=train_data_iterator.next()\n",
    "print(f'Number of train batches: {len(train_data)}')\n",
    "print(f'Number of training data: {len(train_data)*batch_size}')\n",
    "print(f'Number of validation batches: {len(val_data)}')\n",
    "print(f'Number of validation data: {len(val_data)*batch_size}')\n",
    "print(f'Encoder Input shape (with batches): {_[0].shape}')\n",
    "print(f'Decoder Input shape (with batches): {_[1].shape}')\n",
    "print(f'Target Output shape (with batches): {_[2].shape}')"
   ]
  },
  {
   "cell_type": "markdown",
   "metadata": {},
   "source": [
    "## Build Models"
   ]
  },
  {
   "cell_type": "markdown",
   "metadata": {},
   "source": [
    "### Build Encoder"
   ]
  },
  {
   "cell_type": "markdown",
   "metadata": {},
   "source": [
    "### Defines an Encoder class for a Seq2Seq model, embedding inputs and processing them through LSTM."
   ]
  },
  {
   "cell_type": "code",
   "execution_count": 42,
   "metadata": {},
   "outputs": [
    {
     "data": {
      "text/plain": [
       "(<tf.Tensor: shape=(149, 256), dtype=float32, numpy=\n",
       " array([[ 0.00365355, -0.10150773,  0.02193609, ..., -0.17392603,\n",
       "         -0.04627816,  0.13783707],\n",
       "        [-0.16027111, -0.09598479, -0.07460954, ..., -0.03273502,\n",
       "         -0.23657407, -0.13044526],\n",
       "        [-0.01570487, -0.04228086, -0.06129317, ..., -0.10733669,\n",
       "         -0.02184573,  0.00722946],\n",
       "        ...,\n",
       "        [-0.18475197, -0.07738408, -0.07749932, ..., -0.15452863,\n",
       "         -0.28452682, -0.02481479],\n",
       "        [-0.19978301,  0.07585975,  0.17388311, ...,  0.11342715,\n",
       "         -0.11611998,  0.05492564],\n",
       "        [ 0.01447767, -0.06803377, -0.06786793, ..., -0.03559692,\n",
       "          0.01125973, -0.01029266]], dtype=float32)>,\n",
       " <tf.Tensor: shape=(149, 256), dtype=float32, numpy=\n",
       " array([[ 0.01016357, -0.288562  ,  0.05352268, ..., -0.26314175,\n",
       "         -0.08510429,  0.34197968],\n",
       "        [-0.3280071 , -0.14012054, -0.19538572, ..., -0.05819339,\n",
       "         -0.3977765 , -0.26602048],\n",
       "        [-0.04150655, -0.1179687 , -0.15023732, ..., -0.1682739 ,\n",
       "         -0.03865667,  0.01687121],\n",
       "        ...,\n",
       "        [-0.3841576 , -0.11313599, -0.21089241, ..., -0.28362647,\n",
       "         -0.504899  , -0.04996591],\n",
       "        [-0.4381855 ,  0.11384204,  0.5045131 , ...,  0.21072711,\n",
       "         -0.18453905,  0.10658185],\n",
       "        [ 0.03777787, -0.18868831, -0.15940315, ..., -0.05489851,\n",
       "          0.01971527, -0.02394654]], dtype=float32)>)"
      ]
     },
     "execution_count": 42,
     "metadata": {},
     "output_type": "execute_result"
    }
   ],
   "source": [
    "class Encoder(tf.keras.models.Model):\n",
    "    def __init__(self,units,embedding_dim,vocab_size,*args,**kwargs) -> None:\n",
    "        super().__init__(*args,**kwargs)\n",
    "        self.units=units\n",
    "        self.vocab_size=vocab_size\n",
    "        self.embedding_dim=embedding_dim\n",
    "        self.embedding=Embedding(\n",
    "            vocab_size,\n",
    "            embedding_dim,\n",
    "            name='encoder_embedding',\n",
    "            mask_zero=True,\n",
    "            embeddings_initializer=tf.keras.initializers.GlorotNormal()\n",
    "        )\n",
    "        self.normalize=LayerNormalization()\n",
    "        self.lstm=LSTM(\n",
    "            units,\n",
    "            dropout=.4,\n",
    "            return_state=True,\n",
    "            return_sequences=True,\n",
    "            name='encoder_lstm',\n",
    "            kernel_initializer=tf.keras.initializers.GlorotNormal()\n",
    "        )\n",
    "    \n",
    "    def call(self,encoder_inputs):\n",
    "        self.inputs=encoder_inputs\n",
    "        x=self.embedding(encoder_inputs)\n",
    "        x=self.normalize(x)\n",
    "        x=Dropout(.4)(x)\n",
    "        encoder_outputs,encoder_state_h,encoder_state_c=self.lstm(x)\n",
    "        self.outputs=[encoder_state_h,encoder_state_c]\n",
    "        return encoder_state_h,encoder_state_c\n",
    "\n",
    "encoder=Encoder(lstm_cells,embedding_dim,vocab_size,name='encoder')\n",
    "encoder.call(_[0])"
   ]
  },
  {
   "cell_type": "markdown",
   "metadata": {},
   "source": [
    "### Build Decoder"
   ]
  },
  {
   "cell_type": "markdown",
   "metadata": {},
   "source": [
    "### Implements a Decoder class with embedding, LSTM, and dense layers, integrating encoder states for Seq2Seq processing."
   ]
  },
  {
   "cell_type": "code",
   "execution_count": 43,
   "metadata": {},
   "outputs": [
    {
     "data": {
      "text/plain": [
       "<tf.Tensor: shape=(1, 30, 2443), dtype=float32, numpy=\n",
       "array([[[1.0275231e-04, 1.3377893e-05, 4.2974515e-04, ...,\n",
       "         7.4073512e-05, 1.7822610e-04, 9.1411290e-05],\n",
       "        [1.6117885e-05, 3.0563162e-05, 1.4018206e-04, ...,\n",
       "         9.0525784e-05, 3.0547660e-04, 1.7171068e-04],\n",
       "        [9.7866869e-06, 7.8508907e-05, 3.6104574e-04, ...,\n",
       "         9.9273006e-05, 3.0107509e-05, 2.7374731e-04],\n",
       "        ...,\n",
       "        [3.2067139e-05, 2.3081418e-05, 6.8208080e-04, ...,\n",
       "         6.1513914e-05, 5.6304951e-05, 3.4676370e-05],\n",
       "        [3.2067124e-05, 2.3081418e-05, 6.8208080e-04, ...,\n",
       "         6.1513914e-05, 5.6304951e-05, 3.4676370e-05],\n",
       "        [3.2067124e-05, 2.3081418e-05, 6.8208080e-04, ...,\n",
       "         6.1513914e-05, 5.6304951e-05, 3.4676370e-05]]], dtype=float32)>"
      ]
     },
     "execution_count": 43,
     "metadata": {},
     "output_type": "execute_result"
    }
   ],
   "source": [
    "class Decoder(tf.keras.models.Model):\n",
    "    def __init__(self,units,embedding_dim,vocab_size,*args,**kwargs) -> None:\n",
    "        super().__init__(*args,**kwargs)\n",
    "        self.units=units\n",
    "        self.embedding_dim=embedding_dim\n",
    "        self.vocab_size=vocab_size\n",
    "        self.embedding=Embedding(\n",
    "            vocab_size,\n",
    "            embedding_dim,\n",
    "            name='decoder_embedding',\n",
    "            mask_zero=True,\n",
    "            embeddings_initializer=tf.keras.initializers.HeNormal()\n",
    "        )\n",
    "        self.normalize=LayerNormalization()\n",
    "        self.lstm=LSTM(\n",
    "            units,\n",
    "            dropout=.4,\n",
    "            return_state=True,\n",
    "            return_sequences=True,\n",
    "            name='decoder_lstm',\n",
    "            kernel_initializer=tf.keras.initializers.HeNormal()\n",
    "        )\n",
    "        self.fc=Dense(\n",
    "            vocab_size,\n",
    "            activation='softmax',\n",
    "            name='decoder_dense',\n",
    "            kernel_initializer=tf.keras.initializers.HeNormal()\n",
    "        )\n",
    "    \n",
    "    def call(self,decoder_inputs,encoder_states):\n",
    "        x=self.embedding(decoder_inputs)\n",
    "        x=self.normalize(x)\n",
    "        x=Dropout(.4)(x)\n",
    "        x,decoder_state_h,decoder_state_c=self.lstm(x,initial_state=encoder_states)\n",
    "        x=self.normalize(x)\n",
    "        x=Dropout(.4)(x)\n",
    "        return self.fc(x)\n",
    "\n",
    "decoder=Decoder(lstm_cells,embedding_dim,vocab_size,name='decoder')\n",
    "decoder(_[1][:1],encoder(_[0][:1]))"
   ]
  },
  {
   "cell_type": "markdown",
   "metadata": {},
   "source": [
    "### Build Training Model"
   ]
  },
  {
   "cell_type": "markdown",
   "metadata": {},
   "source": [
    "### Integrates Encoder and Decoder into a ChatBotTrainer model, including custom training, testing, and metric evaluation logic."
   ]
  },
  {
   "cell_type": "code",
   "execution_count": 44,
   "metadata": {},
   "outputs": [],
   "source": [
    "class ChatBotTrainer(tf.keras.models.Model):\n",
    "    def __init__(self,encoder,decoder,*args,**kwargs):\n",
    "        super().__init__(*args,**kwargs)\n",
    "        self.encoder=encoder\n",
    "        self.decoder=decoder\n",
    "\n",
    "    def loss_fn(self,y_true,y_pred):\n",
    "        loss=self.loss(y_true,y_pred)\n",
    "        mask=tf.math.logical_not(tf.math.equal(y_true,0))\n",
    "        mask=tf.cast(mask,dtype=loss.dtype)\n",
    "        loss*=mask\n",
    "        return tf.reduce_mean(loss)\n",
    "    \n",
    "    def accuracy_fn(self,y_true,y_pred):\n",
    "        pred_values = tf.cast(tf.argmax(y_pred, axis=-1), dtype='int64')\n",
    "        correct = tf.cast(tf.equal(y_true, pred_values), dtype='float64')\n",
    "        mask = tf.cast(tf.greater(y_true, 0), dtype='float64')\n",
    "        n_correct = tf.keras.backend.sum(mask * correct)\n",
    "        n_total = tf.keras.backend.sum(mask)\n",
    "        return n_correct / n_total\n",
    "\n",
    "    def call(self,inputs):\n",
    "        encoder_inputs,decoder_inputs=inputs\n",
    "        encoder_states=self.encoder(encoder_inputs)\n",
    "        return self.decoder(decoder_inputs,encoder_states)\n",
    "\n",
    "    def train_step(self,batch):\n",
    "        encoder_inputs,decoder_inputs,y=batch\n",
    "        with tf.GradientTape() as tape:\n",
    "            encoder_states=self.encoder(encoder_inputs,training=True)\n",
    "            y_pred=self.decoder(decoder_inputs,encoder_states,training=True)\n",
    "            loss=self.loss_fn(y,y_pred)\n",
    "            acc=self.accuracy_fn(y,y_pred)\n",
    "\n",
    "        variables=self.encoder.trainable_variables+self.decoder.trainable_variables\n",
    "        grads=tape.gradient(loss,variables)\n",
    "        self.optimizer.apply_gradients(zip(grads,variables))\n",
    "        metrics={'loss':loss,'accuracy':acc}\n",
    "        return metrics\n",
    "    \n",
    "    def test_step(self,batch):\n",
    "        encoder_inputs,decoder_inputs,y=batch\n",
    "        encoder_states=self.encoder(encoder_inputs,training=True)\n",
    "        y_pred=self.decoder(decoder_inputs,encoder_states,training=True)\n",
    "        loss=self.loss_fn(y,y_pred)\n",
    "        acc=self.accuracy_fn(y,y_pred)\n",
    "        metrics={'loss':loss,'accuracy':acc}\n",
    "        return metrics"
   ]
  },
  {
   "cell_type": "markdown",
   "metadata": {},
   "source": [
    "### Configures and compiles the ChatBotTrainer model for training, setting up loss function, optimizer, and metrics."
   ]
  },
  {
   "cell_type": "code",
   "execution_count": 45,
   "metadata": {},
   "outputs": [
    {
     "data": {
      "text/plain": [
       "<tf.Tensor: shape=(149, 30, 2443), dtype=float32, numpy=\n",
       "array([[[1.02752412e-04, 1.33779013e-05, 4.29744978e-04, ...,\n",
       "         7.40734831e-05, 1.78226197e-04, 9.14111661e-05],\n",
       "        [1.61178887e-05, 3.05631547e-05, 1.40182092e-04, ...,\n",
       "         9.05258930e-05, 3.05476802e-04, 1.71710562e-04],\n",
       "        [9.78668504e-06, 7.85088923e-05, 3.61045502e-04, ...,\n",
       "         9.92731293e-05, 3.01075033e-05, 2.73746991e-04],\n",
       "        ...,\n",
       "        [3.20671897e-05, 2.30814312e-05, 6.82080572e-04, ...,\n",
       "         6.15139215e-05, 5.63048998e-05, 3.46763700e-05],\n",
       "        [3.20671897e-05, 2.30814312e-05, 6.82080572e-04, ...,\n",
       "         6.15139215e-05, 5.63048998e-05, 3.46763700e-05],\n",
       "        [3.20671897e-05, 2.30814312e-05, 6.82080572e-04, ...,\n",
       "         6.15139215e-05, 5.63048998e-05, 3.46763700e-05]],\n",
       "\n",
       "       [[8.84755354e-05, 1.23044461e-04, 6.16221165e-04, ...,\n",
       "         1.33030670e-04, 4.45328405e-05, 1.76798087e-04],\n",
       "        [7.64103897e-05, 1.52841691e-04, 1.76198679e-04, ...,\n",
       "         4.77359354e-05, 8.72378951e-05, 5.13515144e-04],\n",
       "        [1.68648894e-05, 7.88073157e-05, 1.27743784e-04, ...,\n",
       "         4.10647008e-05, 2.86352370e-05, 5.54152764e-04],\n",
       "        ...,\n",
       "        [6.22349180e-05, 1.10569918e-05, 3.10568867e-04, ...,\n",
       "         4.01819234e-05, 2.01386705e-04, 1.49816960e-05],\n",
       "        [6.22349180e-05, 1.10569918e-05, 3.10568867e-04, ...,\n",
       "         4.01819234e-05, 2.01386720e-04, 1.49816979e-05],\n",
       "        [6.22349180e-05, 1.10569918e-05, 3.10568867e-04, ...,\n",
       "         4.01819234e-05, 2.01386705e-04, 1.49816960e-05]],\n",
       "\n",
       "       [[8.09928388e-05, 1.49482739e-05, 7.17750168e-04, ...,\n",
       "         1.21933117e-04, 9.52255650e-05, 9.89415639e-05],\n",
       "        [8.77420553e-06, 9.80600589e-07, 1.33929105e-04, ...,\n",
       "         6.09280942e-05, 1.16055962e-04, 7.57257512e-04],\n",
       "        [5.37520737e-06, 6.90192246e-06, 2.34792053e-04, ...,\n",
       "         7.83724681e-05, 2.09263890e-05, 4.85564175e-04],\n",
       "        ...,\n",
       "        [4.28427120e-05, 1.58729545e-05, 2.28610312e-04, ...,\n",
       "         3.19043393e-05, 1.15699819e-04, 3.11340373e-05],\n",
       "        [4.28427120e-05, 1.58729545e-05, 2.28610312e-04, ...,\n",
       "         3.19043393e-05, 1.15699826e-04, 3.11340373e-05],\n",
       "        [4.28427120e-05, 1.58729545e-05, 2.28610312e-04, ...,\n",
       "         3.19043393e-05, 1.15699819e-04, 3.11340373e-05]],\n",
       "\n",
       "       ...,\n",
       "\n",
       "       [[7.90678823e-05, 2.17576293e-04, 6.16484787e-04, ...,\n",
       "         6.54640462e-05, 4.93139014e-05, 2.42000911e-04],\n",
       "        [4.25506914e-05, 2.53895618e-04, 6.00553816e-04, ...,\n",
       "         4.19506687e-05, 7.19835516e-05, 7.20887256e-05],\n",
       "        [1.10108056e-04, 1.44672478e-04, 2.11921390e-04, ...,\n",
       "         5.16977598e-05, 5.47879499e-05, 2.79986736e-04],\n",
       "        ...,\n",
       "        [2.87214007e-05, 2.77447325e-05, 6.19625440e-04, ...,\n",
       "         2.33125738e-05, 1.76061306e-03, 7.92783158e-06],\n",
       "        [2.87214007e-05, 2.77447325e-05, 6.19625440e-04, ...,\n",
       "         2.33125738e-05, 1.76061306e-03, 7.92783158e-06],\n",
       "        [2.87214007e-05, 2.77447325e-05, 6.19625440e-04, ...,\n",
       "         2.33125738e-05, 1.76061306e-03, 7.92783158e-06]],\n",
       "\n",
       "       [[1.23606980e-04, 1.11742098e-04, 6.47369307e-04, ...,\n",
       "         3.47003879e-05, 2.89628861e-05, 2.46627606e-04],\n",
       "        [1.75089754e-05, 1.33276364e-04, 8.23850511e-04, ...,\n",
       "         3.55997618e-05, 9.28083318e-05, 4.95214335e-05],\n",
       "        [2.44608982e-05, 1.78021422e-04, 3.75523535e-03, ...,\n",
       "         3.19484061e-05, 1.07704967e-04, 1.36131915e-04],\n",
       "        ...,\n",
       "        [5.09354577e-05, 5.33092643e-05, 1.05018937e-03, ...,\n",
       "         1.50837423e-05, 2.28566947e-04, 1.69682316e-05],\n",
       "        [5.09354577e-05, 5.33092643e-05, 1.05018937e-03, ...,\n",
       "         1.50837423e-05, 2.28566947e-04, 1.69682316e-05],\n",
       "        [5.09354577e-05, 5.33092643e-05, 1.05018937e-03, ...,\n",
       "         1.50837423e-05, 2.28566947e-04, 1.69682316e-05]],\n",
       "\n",
       "       [[1.40401055e-04, 7.57033877e-06, 1.22513808e-03, ...,\n",
       "         9.72058624e-05, 9.09081136e-05, 2.12906554e-04],\n",
       "        [1.22412730e-05, 1.14395070e-05, 7.92224542e-04, ...,\n",
       "         4.63929864e-05, 3.74918345e-05, 2.49085133e-04],\n",
       "        [9.53985909e-06, 6.39605787e-05, 3.42769898e-04, ...,\n",
       "         8.08093046e-06, 2.53455801e-05, 1.96017296e-04],\n",
       "        ...,\n",
       "        [1.78487026e-04, 1.75284404e-05, 1.88535952e-04, ...,\n",
       "         2.07554258e-05, 3.00803862e-04, 9.75527928e-06],\n",
       "        [1.78486967e-04, 1.75284622e-05, 1.88535982e-04, ...,\n",
       "         2.07554203e-05, 3.00803920e-04, 9.75528565e-06],\n",
       "        [1.78486967e-04, 1.75284622e-05, 1.88535982e-04, ...,\n",
       "         2.07554203e-05, 3.00803920e-04, 9.75528565e-06]]], dtype=float32)>"
      ]
     },
     "execution_count": 45,
     "metadata": {},
     "output_type": "execute_result"
    }
   ],
   "source": [
    "model=ChatBotTrainer(encoder,decoder,name='chatbot_trainer')\n",
    "model.compile(\n",
    "    loss=tf.keras.losses.SparseCategoricalCrossentropy(),\n",
    "    optimizer=tf.keras.optimizers.Adam(learning_rate=learning_rate),\n",
    "    weighted_metrics=['loss','accuracy']\n",
    ")\n",
    "model(_[:2])"
   ]
  },
  {
   "cell_type": "markdown",
   "metadata": {},
   "source": [
    "## Train Model"
   ]
  },
  {
   "cell_type": "code",
   "execution_count": 46,
   "metadata": {},
   "outputs": [
    {
     "name": "stdout",
     "output_type": "stream",
     "text": [
      "Epoch 1/100\n"
     ]
    },
    {
     "name": "stdout",
     "output_type": "stream",
     "text": [
      "23/23 [==============================] - ETA: 0s - loss: 1.6610 - accuracy: 0.2192\n",
      "Epoch 1: val_loss improved from inf to 1.31637, saving model to ckpt\n",
      "WARNING:tensorflow:Model's `__init__()` arguments contain non-serializable objects. Please implement a `get_config()` method in the subclassed Model for proper saving and loading. Defaulting to empty config.\n",
      "WARNING:tensorflow:Model's `__init__()` arguments contain non-serializable objects. Please implement a `get_config()` method in the subclassed Model for proper saving and loading. Defaulting to empty config.\n"
     ]
    },
    {
     "name": "stderr",
     "output_type": "stream",
     "text": [
      "WARNING:absl:Found untraced functions such as _update_step_xla, lstm_cell_2_layer_call_fn, lstm_cell_2_layer_call_and_return_conditional_losses, lstm_cell_3_layer_call_fn, lstm_cell_3_layer_call_and_return_conditional_losses while saving (showing 5 of 5). These functions will not be directly callable after loading.\n"
     ]
    },
    {
     "name": "stdout",
     "output_type": "stream",
     "text": [
      "INFO:tensorflow:Assets written to: ckpt\\assets\n"
     ]
    },
    {
     "name": "stderr",
     "output_type": "stream",
     "text": [
      "INFO:tensorflow:Assets written to: ckpt\\assets\n"
     ]
    },
    {
     "name": "stdout",
     "output_type": "stream",
     "text": [
      "WARNING:tensorflow:Model's `__init__()` arguments contain non-serializable objects. Please implement a `get_config()` method in the subclassed Model for proper saving and loading. Defaulting to empty config.\n"
     ]
    },
    {
     "name": "stderr",
     "output_type": "stream",
     "text": [
      "WARNING:tensorflow:Model's `__init__()` arguments contain non-serializable objects. Please implement a `get_config()` method in the subclassed Model for proper saving and loading. Defaulting to empty config.\n"
     ]
    },
    {
     "name": "stdout",
     "output_type": "stream",
     "text": [
      "WARNING:tensorflow:Model's `__init__()` arguments contain non-serializable objects. Please implement a `get_config()` method in the subclassed Model for proper saving and loading. Defaulting to empty config.\n"
     ]
    },
    {
     "name": "stderr",
     "output_type": "stream",
     "text": [
      "WARNING:tensorflow:Model's `__init__()` arguments contain non-serializable objects. Please implement a `get_config()` method in the subclassed Model for proper saving and loading. Defaulting to empty config.\n"
     ]
    },
    {
     "name": "stdout",
     "output_type": "stream",
     "text": [
      "23/23 [==============================] - 50s 2s/step - loss: 1.6531 - accuracy: 0.2218 - val_loss: 1.3164 - val_accuracy: 0.2763\n",
      "Epoch 2/100\n",
      "23/23 [==============================] - ETA: 0s - loss: 1.2367 - accuracy: 0.3100\n",
      "Epoch 2: val_loss improved from 1.31637 to 1.24300, saving model to ckpt\n",
      "WARNING:tensorflow:Model's `__init__()` arguments contain non-serializable objects. Please implement a `get_config()` method in the subclassed Model for proper saving and loading. Defaulting to empty config.\n"
     ]
    },
    {
     "name": "stderr",
     "output_type": "stream",
     "text": [
      "WARNING:tensorflow:Model's `__init__()` arguments contain non-serializable objects. Please implement a `get_config()` method in the subclassed Model for proper saving and loading. Defaulting to empty config.\n"
     ]
    },
    {
     "name": "stdout",
     "output_type": "stream",
     "text": [
      "WARNING:tensorflow:Model's `__init__()` arguments contain non-serializable objects. Please implement a `get_config()` method in the subclassed Model for proper saving and loading. Defaulting to empty config.\n"
     ]
    },
    {
     "name": "stderr",
     "output_type": "stream",
     "text": [
      "WARNING:tensorflow:Model's `__init__()` arguments contain non-serializable objects. Please implement a `get_config()` method in the subclassed Model for proper saving and loading. Defaulting to empty config.\n",
      "WARNING:absl:Found untraced functions such as _update_step_xla, lstm_cell_2_layer_call_fn, lstm_cell_2_layer_call_and_return_conditional_losses, lstm_cell_3_layer_call_fn, lstm_cell_3_layer_call_and_return_conditional_losses while saving (showing 5 of 5). These functions will not be directly callable after loading.\n"
     ]
    },
    {
     "name": "stdout",
     "output_type": "stream",
     "text": [
      "INFO:tensorflow:Assets written to: ckpt\\assets\n"
     ]
    },
    {
     "name": "stderr",
     "output_type": "stream",
     "text": [
      "INFO:tensorflow:Assets written to: ckpt\\assets\n"
     ]
    },
    {
     "name": "stdout",
     "output_type": "stream",
     "text": [
      "WARNING:tensorflow:Model's `__init__()` arguments contain non-serializable objects. Please implement a `get_config()` method in the subclassed Model for proper saving and loading. Defaulting to empty config.\n"
     ]
    },
    {
     "name": "stderr",
     "output_type": "stream",
     "text": [
      "WARNING:tensorflow:Model's `__init__()` arguments contain non-serializable objects. Please implement a `get_config()` method in the subclassed Model for proper saving and loading. Defaulting to empty config.\n"
     ]
    },
    {
     "name": "stdout",
     "output_type": "stream",
     "text": [
      "WARNING:tensorflow:Model's `__init__()` arguments contain non-serializable objects. Please implement a `get_config()` method in the subclassed Model for proper saving and loading. Defaulting to empty config.\n"
     ]
    },
    {
     "name": "stderr",
     "output_type": "stream",
     "text": [
      "WARNING:tensorflow:Model's `__init__()` arguments contain non-serializable objects. Please implement a `get_config()` method in the subclassed Model for proper saving and loading. Defaulting to empty config.\n"
     ]
    },
    {
     "name": "stdout",
     "output_type": "stream",
     "text": [
      "23/23 [==============================] - 41s 2s/step - loss: 1.2326 - accuracy: 0.3114 - val_loss: 1.2430 - val_accuracy: 0.3008\n",
      "Epoch 3/100\n",
      "23/23 [==============================] - ETA: 0s - loss: 1.1091 - accuracy: 0.3365\n",
      "Epoch 3: val_loss improved from 1.24300 to 0.99598, saving model to ckpt\n",
      "WARNING:tensorflow:Model's `__init__()` arguments contain non-serializable objects. Please implement a `get_config()` method in the subclassed Model for proper saving and loading. Defaulting to empty config.\n"
     ]
    },
    {
     "name": "stderr",
     "output_type": "stream",
     "text": [
      "WARNING:tensorflow:Model's `__init__()` arguments contain non-serializable objects. Please implement a `get_config()` method in the subclassed Model for proper saving and loading. Defaulting to empty config.\n"
     ]
    },
    {
     "name": "stdout",
     "output_type": "stream",
     "text": [
      "WARNING:tensorflow:Model's `__init__()` arguments contain non-serializable objects. Please implement a `get_config()` method in the subclassed Model for proper saving and loading. Defaulting to empty config.\n"
     ]
    },
    {
     "name": "stderr",
     "output_type": "stream",
     "text": [
      "WARNING:tensorflow:Model's `__init__()` arguments contain non-serializable objects. Please implement a `get_config()` method in the subclassed Model for proper saving and loading. Defaulting to empty config.\n",
      "WARNING:absl:Found untraced functions such as _update_step_xla, lstm_cell_2_layer_call_fn, lstm_cell_2_layer_call_and_return_conditional_losses, lstm_cell_3_layer_call_fn, lstm_cell_3_layer_call_and_return_conditional_losses while saving (showing 5 of 5). These functions will not be directly callable after loading.\n"
     ]
    },
    {
     "name": "stdout",
     "output_type": "stream",
     "text": [
      "INFO:tensorflow:Assets written to: ckpt\\assets\n"
     ]
    },
    {
     "name": "stderr",
     "output_type": "stream",
     "text": [
      "INFO:tensorflow:Assets written to: ckpt\\assets\n"
     ]
    },
    {
     "name": "stdout",
     "output_type": "stream",
     "text": [
      "WARNING:tensorflow:Model's `__init__()` arguments contain non-serializable objects. Please implement a `get_config()` method in the subclassed Model for proper saving and loading. Defaulting to empty config.\n"
     ]
    },
    {
     "name": "stderr",
     "output_type": "stream",
     "text": [
      "WARNING:tensorflow:Model's `__init__()` arguments contain non-serializable objects. Please implement a `get_config()` method in the subclassed Model for proper saving and loading. Defaulting to empty config.\n"
     ]
    },
    {
     "name": "stdout",
     "output_type": "stream",
     "text": [
      "WARNING:tensorflow:Model's `__init__()` arguments contain non-serializable objects. Please implement a `get_config()` method in the subclassed Model for proper saving and loading. Defaulting to empty config.\n"
     ]
    },
    {
     "name": "stderr",
     "output_type": "stream",
     "text": [
      "WARNING:tensorflow:Model's `__init__()` arguments contain non-serializable objects. Please implement a `get_config()` method in the subclassed Model for proper saving and loading. Defaulting to empty config.\n"
     ]
    },
    {
     "name": "stdout",
     "output_type": "stream",
     "text": [
      "23/23 [==============================] - 51s 2s/step - loss: 1.1119 - accuracy: 0.3362 - val_loss: 0.9960 - val_accuracy: 0.3545\n",
      "Epoch 4/100\n",
      "23/23 [==============================] - ETA: 0s - loss: 1.0274 - accuracy: 0.3547\n",
      "Epoch 4: val_loss improved from 0.99598 to 0.98873, saving model to ckpt\n",
      "WARNING:tensorflow:Model's `__init__()` arguments contain non-serializable objects. Please implement a `get_config()` method in the subclassed Model for proper saving and loading. Defaulting to empty config.\n"
     ]
    },
    {
     "name": "stderr",
     "output_type": "stream",
     "text": [
      "WARNING:tensorflow:Model's `__init__()` arguments contain non-serializable objects. Please implement a `get_config()` method in the subclassed Model for proper saving and loading. Defaulting to empty config.\n"
     ]
    },
    {
     "name": "stdout",
     "output_type": "stream",
     "text": [
      "WARNING:tensorflow:Model's `__init__()` arguments contain non-serializable objects. Please implement a `get_config()` method in the subclassed Model for proper saving and loading. Defaulting to empty config.\n"
     ]
    },
    {
     "name": "stderr",
     "output_type": "stream",
     "text": [
      "WARNING:tensorflow:Model's `__init__()` arguments contain non-serializable objects. Please implement a `get_config()` method in the subclassed Model for proper saving and loading. Defaulting to empty config.\n",
      "WARNING:absl:Found untraced functions such as _update_step_xla, lstm_cell_2_layer_call_fn, lstm_cell_2_layer_call_and_return_conditional_losses, lstm_cell_3_layer_call_fn, lstm_cell_3_layer_call_and_return_conditional_losses while saving (showing 5 of 5). These functions will not be directly callable after loading.\n"
     ]
    },
    {
     "name": "stdout",
     "output_type": "stream",
     "text": [
      "INFO:tensorflow:Assets written to: ckpt\\assets\n"
     ]
    },
    {
     "name": "stderr",
     "output_type": "stream",
     "text": [
      "INFO:tensorflow:Assets written to: ckpt\\assets\n"
     ]
    },
    {
     "name": "stdout",
     "output_type": "stream",
     "text": [
      "WARNING:tensorflow:Model's `__init__()` arguments contain non-serializable objects. Please implement a `get_config()` method in the subclassed Model for proper saving and loading. Defaulting to empty config.\n"
     ]
    },
    {
     "name": "stderr",
     "output_type": "stream",
     "text": [
      "WARNING:tensorflow:Model's `__init__()` arguments contain non-serializable objects. Please implement a `get_config()` method in the subclassed Model for proper saving and loading. Defaulting to empty config.\n"
     ]
    },
    {
     "name": "stdout",
     "output_type": "stream",
     "text": [
      "WARNING:tensorflow:Model's `__init__()` arguments contain non-serializable objects. Please implement a `get_config()` method in the subclassed Model for proper saving and loading. Defaulting to empty config.\n"
     ]
    },
    {
     "name": "stderr",
     "output_type": "stream",
     "text": [
      "WARNING:tensorflow:Model's `__init__()` arguments contain non-serializable objects. Please implement a `get_config()` method in the subclassed Model for proper saving and loading. Defaulting to empty config.\n"
     ]
    },
    {
     "name": "stdout",
     "output_type": "stream",
     "text": [
      "23/23 [==============================] - 69s 3s/step - loss: 1.0277 - accuracy: 0.3544 - val_loss: 0.9887 - val_accuracy: 0.3601\n",
      "Epoch 5/100\n",
      "23/23 [==============================] - ETA: 0s - loss: 0.9673 - accuracy: 0.3680\n",
      "Epoch 5: val_loss improved from 0.98873 to 0.83160, saving model to ckpt\n",
      "WARNING:tensorflow:Model's `__init__()` arguments contain non-serializable objects. Please implement a `get_config()` method in the subclassed Model for proper saving and loading. Defaulting to empty config.\n"
     ]
    },
    {
     "name": "stderr",
     "output_type": "stream",
     "text": [
      "WARNING:tensorflow:Model's `__init__()` arguments contain non-serializable objects. Please implement a `get_config()` method in the subclassed Model for proper saving and loading. Defaulting to empty config.\n"
     ]
    },
    {
     "name": "stdout",
     "output_type": "stream",
     "text": [
      "WARNING:tensorflow:Model's `__init__()` arguments contain non-serializable objects. Please implement a `get_config()` method in the subclassed Model for proper saving and loading. Defaulting to empty config.\n"
     ]
    },
    {
     "name": "stderr",
     "output_type": "stream",
     "text": [
      "WARNING:tensorflow:Model's `__init__()` arguments contain non-serializable objects. Please implement a `get_config()` method in the subclassed Model for proper saving and loading. Defaulting to empty config.\n",
      "WARNING:absl:Found untraced functions such as _update_step_xla, lstm_cell_2_layer_call_fn, lstm_cell_2_layer_call_and_return_conditional_losses, lstm_cell_3_layer_call_fn, lstm_cell_3_layer_call_and_return_conditional_losses while saving (showing 5 of 5). These functions will not be directly callable after loading.\n"
     ]
    },
    {
     "name": "stdout",
     "output_type": "stream",
     "text": [
      "INFO:tensorflow:Assets written to: ckpt\\assets\n"
     ]
    },
    {
     "name": "stderr",
     "output_type": "stream",
     "text": [
      "INFO:tensorflow:Assets written to: ckpt\\assets\n"
     ]
    },
    {
     "name": "stdout",
     "output_type": "stream",
     "text": [
      "WARNING:tensorflow:Model's `__init__()` arguments contain non-serializable objects. Please implement a `get_config()` method in the subclassed Model for proper saving and loading. Defaulting to empty config.\n"
     ]
    },
    {
     "name": "stderr",
     "output_type": "stream",
     "text": [
      "WARNING:tensorflow:Model's `__init__()` arguments contain non-serializable objects. Please implement a `get_config()` method in the subclassed Model for proper saving and loading. Defaulting to empty config.\n"
     ]
    },
    {
     "name": "stdout",
     "output_type": "stream",
     "text": [
      "WARNING:tensorflow:Model's `__init__()` arguments contain non-serializable objects. Please implement a `get_config()` method in the subclassed Model for proper saving and loading. Defaulting to empty config.\n"
     ]
    },
    {
     "name": "stderr",
     "output_type": "stream",
     "text": [
      "WARNING:tensorflow:Model's `__init__()` arguments contain non-serializable objects. Please implement a `get_config()` method in the subclassed Model for proper saving and loading. Defaulting to empty config.\n"
     ]
    },
    {
     "name": "stdout",
     "output_type": "stream",
     "text": [
      "23/23 [==============================] - 64s 3s/step - loss: 0.9666 - accuracy: 0.3691 - val_loss: 0.8316 - val_accuracy: 0.4089\n",
      "Epoch 6/100\n",
      "23/23 [==============================] - ETA: 0s - loss: 0.9223 - accuracy: 0.3776\n",
      "Epoch 6: val_loss did not improve from 0.83160\n",
      "23/23 [==============================] - 41s 2s/step - loss: 0.9230 - accuracy: 0.3779 - val_loss: 0.9585 - val_accuracy: 0.3872\n",
      "Epoch 7/100\n",
      "23/23 [==============================] - ETA: 0s - loss: 0.8782 - accuracy: 0.3937\n",
      "Epoch 7: val_loss did not improve from 0.83160\n",
      "23/23 [==============================] - 40s 2s/step - loss: 0.8776 - accuracy: 0.3945 - val_loss: 0.9522 - val_accuracy: 0.3928\n",
      "Epoch 8/100\n",
      "23/23 [==============================] - ETA: 0s - loss: 0.8468 - accuracy: 0.4023\n",
      "Epoch 8: val_loss did not improve from 0.83160\n",
      "23/23 [==============================] - 41s 2s/step - loss: 0.8472 - accuracy: 0.4031 - val_loss: 0.8918 - val_accuracy: 0.4119\n",
      "Epoch 9/100\n",
      "23/23 [==============================] - ETA: 0s - loss: 0.8234 - accuracy: 0.4072\n",
      "Epoch 9: val_loss improved from 0.83160 to 0.71009, saving model to ckpt\n",
      "WARNING:tensorflow:Model's `__init__()` arguments contain non-serializable objects. Please implement a `get_config()` method in the subclassed Model for proper saving and loading. Defaulting to empty config.\n"
     ]
    },
    {
     "name": "stderr",
     "output_type": "stream",
     "text": [
      "WARNING:tensorflow:Model's `__init__()` arguments contain non-serializable objects. Please implement a `get_config()` method in the subclassed Model for proper saving and loading. Defaulting to empty config.\n"
     ]
    },
    {
     "name": "stdout",
     "output_type": "stream",
     "text": [
      "WARNING:tensorflow:Model's `__init__()` arguments contain non-serializable objects. Please implement a `get_config()` method in the subclassed Model for proper saving and loading. Defaulting to empty config.\n"
     ]
    },
    {
     "name": "stderr",
     "output_type": "stream",
     "text": [
      "WARNING:tensorflow:Model's `__init__()` arguments contain non-serializable objects. Please implement a `get_config()` method in the subclassed Model for proper saving and loading. Defaulting to empty config.\n",
      "WARNING:absl:Found untraced functions such as _update_step_xla, lstm_cell_2_layer_call_fn, lstm_cell_2_layer_call_and_return_conditional_losses, lstm_cell_3_layer_call_fn, lstm_cell_3_layer_call_and_return_conditional_losses while saving (showing 5 of 5). These functions will not be directly callable after loading.\n"
     ]
    },
    {
     "name": "stdout",
     "output_type": "stream",
     "text": [
      "INFO:tensorflow:Assets written to: ckpt\\assets\n"
     ]
    },
    {
     "name": "stderr",
     "output_type": "stream",
     "text": [
      "INFO:tensorflow:Assets written to: ckpt\\assets\n"
     ]
    },
    {
     "name": "stdout",
     "output_type": "stream",
     "text": [
      "WARNING:tensorflow:Model's `__init__()` arguments contain non-serializable objects. Please implement a `get_config()` method in the subclassed Model for proper saving and loading. Defaulting to empty config.\n"
     ]
    },
    {
     "name": "stderr",
     "output_type": "stream",
     "text": [
      "WARNING:tensorflow:Model's `__init__()` arguments contain non-serializable objects. Please implement a `get_config()` method in the subclassed Model for proper saving and loading. Defaulting to empty config.\n"
     ]
    },
    {
     "name": "stdout",
     "output_type": "stream",
     "text": [
      "WARNING:tensorflow:Model's `__init__()` arguments contain non-serializable objects. Please implement a `get_config()` method in the subclassed Model for proper saving and loading. Defaulting to empty config.\n"
     ]
    },
    {
     "name": "stderr",
     "output_type": "stream",
     "text": [
      "WARNING:tensorflow:Model's `__init__()` arguments contain non-serializable objects. Please implement a `get_config()` method in the subclassed Model for proper saving and loading. Defaulting to empty config.\n"
     ]
    },
    {
     "name": "stdout",
     "output_type": "stream",
     "text": [
      "23/23 [==============================] - 63s 3s/step - loss: 0.8247 - accuracy: 0.4063 - val_loss: 0.7101 - val_accuracy: 0.4436\n",
      "Epoch 10/100\n",
      "23/23 [==============================] - ETA: 0s - loss: 0.7957 - accuracy: 0.4192\n",
      "Epoch 10: val_loss improved from 0.71009 to 0.70313, saving model to ckpt\n",
      "WARNING:tensorflow:Model's `__init__()` arguments contain non-serializable objects. Please implement a `get_config()` method in the subclassed Model for proper saving and loading. Defaulting to empty config.\n"
     ]
    },
    {
     "name": "stderr",
     "output_type": "stream",
     "text": [
      "WARNING:tensorflow:Model's `__init__()` arguments contain non-serializable objects. Please implement a `get_config()` method in the subclassed Model for proper saving and loading. Defaulting to empty config.\n"
     ]
    },
    {
     "name": "stdout",
     "output_type": "stream",
     "text": [
      "WARNING:tensorflow:Model's `__init__()` arguments contain non-serializable objects. Please implement a `get_config()` method in the subclassed Model for proper saving and loading. Defaulting to empty config.\n"
     ]
    },
    {
     "name": "stderr",
     "output_type": "stream",
     "text": [
      "WARNING:tensorflow:Model's `__init__()` arguments contain non-serializable objects. Please implement a `get_config()` method in the subclassed Model for proper saving and loading. Defaulting to empty config.\n",
      "WARNING:absl:Found untraced functions such as _update_step_xla, lstm_cell_2_layer_call_fn, lstm_cell_2_layer_call_and_return_conditional_losses, lstm_cell_3_layer_call_fn, lstm_cell_3_layer_call_and_return_conditional_losses while saving (showing 5 of 5). These functions will not be directly callable after loading.\n"
     ]
    },
    {
     "name": "stdout",
     "output_type": "stream",
     "text": [
      "INFO:tensorflow:Assets written to: ckpt\\assets\n"
     ]
    },
    {
     "name": "stderr",
     "output_type": "stream",
     "text": [
      "INFO:tensorflow:Assets written to: ckpt\\assets\n"
     ]
    },
    {
     "name": "stdout",
     "output_type": "stream",
     "text": [
      "WARNING:tensorflow:Model's `__init__()` arguments contain non-serializable objects. Please implement a `get_config()` method in the subclassed Model for proper saving and loading. Defaulting to empty config.\n"
     ]
    },
    {
     "name": "stderr",
     "output_type": "stream",
     "text": [
      "WARNING:tensorflow:Model's `__init__()` arguments contain non-serializable objects. Please implement a `get_config()` method in the subclassed Model for proper saving and loading. Defaulting to empty config.\n"
     ]
    },
    {
     "name": "stdout",
     "output_type": "stream",
     "text": [
      "WARNING:tensorflow:Model's `__init__()` arguments contain non-serializable objects. Please implement a `get_config()` method in the subclassed Model for proper saving and loading. Defaulting to empty config.\n"
     ]
    },
    {
     "name": "stderr",
     "output_type": "stream",
     "text": [
      "WARNING:tensorflow:Model's `__init__()` arguments contain non-serializable objects. Please implement a `get_config()` method in the subclassed Model for proper saving and loading. Defaulting to empty config.\n"
     ]
    },
    {
     "name": "stdout",
     "output_type": "stream",
     "text": [
      "23/23 [==============================] - 59s 3s/step - loss: 0.7975 - accuracy: 0.4185 - val_loss: 0.7031 - val_accuracy: 0.4615\n",
      "Epoch 11/100\n",
      "23/23 [==============================] - ETA: 0s - loss: 0.7694 - accuracy: 0.4295\n",
      "Epoch 11: val_loss did not improve from 0.70313\n",
      "23/23 [==============================] - 45s 2s/step - loss: 0.7709 - accuracy: 0.4292 - val_loss: 0.8631 - val_accuracy: 0.4105\n",
      "Epoch 12/100\n",
      "23/23 [==============================] - ETA: 0s - loss: 0.7537 - accuracy: 0.4342\n",
      "Epoch 12: val_loss did not improve from 0.70313\n",
      "23/23 [==============================] - 45s 2s/step - loss: 0.7567 - accuracy: 0.4340 - val_loss: 0.8040 - val_accuracy: 0.4529\n",
      "Epoch 13/100\n",
      "23/23 [==============================] - ETA: 0s - loss: 0.7331 - accuracy: 0.4435\n",
      "Epoch 13: val_loss did not improve from 0.70313\n",
      "23/23 [==============================] - 45s 2s/step - loss: 0.7341 - accuracy: 0.4430 - val_loss: 0.7322 - val_accuracy: 0.4619\n",
      "Epoch 14/100\n",
      "23/23 [==============================] - ETA: 0s - loss: 0.7145 - accuracy: 0.4517\n",
      "Epoch 14: val_loss did not improve from 0.70313\n",
      "23/23 [==============================] - 47s 2s/step - loss: 0.7143 - accuracy: 0.4512 - val_loss: 0.8267 - val_accuracy: 0.4347\n",
      "Epoch 15/100\n",
      "23/23 [==============================] - ETA: 0s - loss: 0.7006 - accuracy: 0.4566\n",
      "Epoch 15: val_loss improved from 0.70313 to 0.67906, saving model to ckpt\n",
      "WARNING:tensorflow:Model's `__init__()` arguments contain non-serializable objects. Please implement a `get_config()` method in the subclassed Model for proper saving and loading. Defaulting to empty config.\n"
     ]
    },
    {
     "name": "stderr",
     "output_type": "stream",
     "text": [
      "WARNING:tensorflow:Model's `__init__()` arguments contain non-serializable objects. Please implement a `get_config()` method in the subclassed Model for proper saving and loading. Defaulting to empty config.\n"
     ]
    },
    {
     "name": "stdout",
     "output_type": "stream",
     "text": [
      "WARNING:tensorflow:Model's `__init__()` arguments contain non-serializable objects. Please implement a `get_config()` method in the subclassed Model for proper saving and loading. Defaulting to empty config.\n"
     ]
    },
    {
     "name": "stderr",
     "output_type": "stream",
     "text": [
      "WARNING:tensorflow:Model's `__init__()` arguments contain non-serializable objects. Please implement a `get_config()` method in the subclassed Model for proper saving and loading. Defaulting to empty config.\n",
      "WARNING:absl:Found untraced functions such as _update_step_xla, lstm_cell_2_layer_call_fn, lstm_cell_2_layer_call_and_return_conditional_losses, lstm_cell_3_layer_call_fn, lstm_cell_3_layer_call_and_return_conditional_losses while saving (showing 5 of 5). These functions will not be directly callable after loading.\n"
     ]
    },
    {
     "name": "stdout",
     "output_type": "stream",
     "text": [
      "INFO:tensorflow:Assets written to: ckpt\\assets\n"
     ]
    },
    {
     "name": "stderr",
     "output_type": "stream",
     "text": [
      "INFO:tensorflow:Assets written to: ckpt\\assets\n"
     ]
    },
    {
     "name": "stdout",
     "output_type": "stream",
     "text": [
      "WARNING:tensorflow:Model's `__init__()` arguments contain non-serializable objects. Please implement a `get_config()` method in the subclassed Model for proper saving and loading. Defaulting to empty config.\n"
     ]
    },
    {
     "name": "stderr",
     "output_type": "stream",
     "text": [
      "WARNING:tensorflow:Model's `__init__()` arguments contain non-serializable objects. Please implement a `get_config()` method in the subclassed Model for proper saving and loading. Defaulting to empty config.\n"
     ]
    },
    {
     "name": "stdout",
     "output_type": "stream",
     "text": [
      "WARNING:tensorflow:Model's `__init__()` arguments contain non-serializable objects. Please implement a `get_config()` method in the subclassed Model for proper saving and loading. Defaulting to empty config.\n"
     ]
    },
    {
     "name": "stderr",
     "output_type": "stream",
     "text": [
      "WARNING:tensorflow:Model's `__init__()` arguments contain non-serializable objects. Please implement a `get_config()` method in the subclassed Model for proper saving and loading. Defaulting to empty config.\n"
     ]
    },
    {
     "name": "stdout",
     "output_type": "stream",
     "text": [
      "23/23 [==============================] - 69s 3s/step - loss: 0.7023 - accuracy: 0.4562 - val_loss: 0.6791 - val_accuracy: 0.4579\n",
      "Epoch 16/100\n",
      "23/23 [==============================] - ETA: 0s - loss: 0.6822 - accuracy: 0.4625\n",
      "Epoch 16: val_loss improved from 0.67906 to 0.61305, saving model to ckpt\n",
      "WARNING:tensorflow:Model's `__init__()` arguments contain non-serializable objects. Please implement a `get_config()` method in the subclassed Model for proper saving and loading. Defaulting to empty config.\n"
     ]
    },
    {
     "name": "stderr",
     "output_type": "stream",
     "text": [
      "WARNING:tensorflow:Model's `__init__()` arguments contain non-serializable objects. Please implement a `get_config()` method in the subclassed Model for proper saving and loading. Defaulting to empty config.\n"
     ]
    },
    {
     "name": "stdout",
     "output_type": "stream",
     "text": [
      "WARNING:tensorflow:Model's `__init__()` arguments contain non-serializable objects. Please implement a `get_config()` method in the subclassed Model for proper saving and loading. Defaulting to empty config.\n"
     ]
    },
    {
     "name": "stderr",
     "output_type": "stream",
     "text": [
      "WARNING:tensorflow:Model's `__init__()` arguments contain non-serializable objects. Please implement a `get_config()` method in the subclassed Model for proper saving and loading. Defaulting to empty config.\n",
      "WARNING:absl:Found untraced functions such as _update_step_xla, lstm_cell_2_layer_call_fn, lstm_cell_2_layer_call_and_return_conditional_losses, lstm_cell_3_layer_call_fn, lstm_cell_3_layer_call_and_return_conditional_losses while saving (showing 5 of 5). These functions will not be directly callable after loading.\n"
     ]
    },
    {
     "name": "stdout",
     "output_type": "stream",
     "text": [
      "INFO:tensorflow:Assets written to: ckpt\\assets\n"
     ]
    },
    {
     "name": "stderr",
     "output_type": "stream",
     "text": [
      "INFO:tensorflow:Assets written to: ckpt\\assets\n"
     ]
    },
    {
     "name": "stdout",
     "output_type": "stream",
     "text": [
      "WARNING:tensorflow:Model's `__init__()` arguments contain non-serializable objects. Please implement a `get_config()` method in the subclassed Model for proper saving and loading. Defaulting to empty config.\n"
     ]
    },
    {
     "name": "stderr",
     "output_type": "stream",
     "text": [
      "WARNING:tensorflow:Model's `__init__()` arguments contain non-serializable objects. Please implement a `get_config()` method in the subclassed Model for proper saving and loading. Defaulting to empty config.\n"
     ]
    },
    {
     "name": "stdout",
     "output_type": "stream",
     "text": [
      "WARNING:tensorflow:Model's `__init__()` arguments contain non-serializable objects. Please implement a `get_config()` method in the subclassed Model for proper saving and loading. Defaulting to empty config.\n"
     ]
    },
    {
     "name": "stderr",
     "output_type": "stream",
     "text": [
      "WARNING:tensorflow:Model's `__init__()` arguments contain non-serializable objects. Please implement a `get_config()` method in the subclassed Model for proper saving and loading. Defaulting to empty config.\n"
     ]
    },
    {
     "name": "stdout",
     "output_type": "stream",
     "text": [
      "23/23 [==============================] - 68s 3s/step - loss: 0.6852 - accuracy: 0.4609 - val_loss: 0.6130 - val_accuracy: 0.4970\n",
      "Epoch 17/100\n",
      "23/23 [==============================] - ETA: 0s - loss: 0.6707 - accuracy: 0.4704\n",
      "Epoch 17: val_loss did not improve from 0.61305\n",
      "23/23 [==============================] - 41s 2s/step - loss: 0.6716 - accuracy: 0.4694 - val_loss: 0.7222 - val_accuracy: 0.4876\n",
      "Epoch 18/100\n",
      "23/23 [==============================] - ETA: 0s - loss: 0.6581 - accuracy: 0.4761\n",
      "Epoch 18: val_loss did not improve from 0.61305\n",
      "23/23 [==============================] - 40s 2s/step - loss: 0.6587 - accuracy: 0.4754 - val_loss: 0.7310 - val_accuracy: 0.4930\n",
      "Epoch 19/100\n",
      "23/23 [==============================] - ETA: 0s - loss: 0.6439 - accuracy: 0.4859\n",
      "Epoch 19: val_loss did not improve from 0.61305\n",
      "23/23 [==============================] - 41s 2s/step - loss: 0.6439 - accuracy: 0.4856 - val_loss: 0.7973 - val_accuracy: 0.4407\n",
      "Epoch 20/100\n",
      "23/23 [==============================] - ETA: 0s - loss: 0.6323 - accuracy: 0.4874\n",
      "Epoch 20: val_loss improved from 0.61305 to 0.60954, saving model to ckpt\n",
      "WARNING:tensorflow:Model's `__init__()` arguments contain non-serializable objects. Please implement a `get_config()` method in the subclassed Model for proper saving and loading. Defaulting to empty config.\n"
     ]
    },
    {
     "name": "stderr",
     "output_type": "stream",
     "text": [
      "WARNING:tensorflow:Model's `__init__()` arguments contain non-serializable objects. Please implement a `get_config()` method in the subclassed Model for proper saving and loading. Defaulting to empty config.\n"
     ]
    },
    {
     "name": "stdout",
     "output_type": "stream",
     "text": [
      "WARNING:tensorflow:Model's `__init__()` arguments contain non-serializable objects. Please implement a `get_config()` method in the subclassed Model for proper saving and loading. Defaulting to empty config.\n"
     ]
    },
    {
     "name": "stderr",
     "output_type": "stream",
     "text": [
      "WARNING:tensorflow:Model's `__init__()` arguments contain non-serializable objects. Please implement a `get_config()` method in the subclassed Model for proper saving and loading. Defaulting to empty config.\n",
      "WARNING:absl:Found untraced functions such as _update_step_xla, lstm_cell_2_layer_call_fn, lstm_cell_2_layer_call_and_return_conditional_losses, lstm_cell_3_layer_call_fn, lstm_cell_3_layer_call_and_return_conditional_losses while saving (showing 5 of 5). These functions will not be directly callable after loading.\n"
     ]
    },
    {
     "name": "stdout",
     "output_type": "stream",
     "text": [
      "INFO:tensorflow:Assets written to: ckpt\\assets\n"
     ]
    },
    {
     "name": "stderr",
     "output_type": "stream",
     "text": [
      "INFO:tensorflow:Assets written to: ckpt\\assets\n"
     ]
    },
    {
     "name": "stdout",
     "output_type": "stream",
     "text": [
      "WARNING:tensorflow:Model's `__init__()` arguments contain non-serializable objects. Please implement a `get_config()` method in the subclassed Model for proper saving and loading. Defaulting to empty config.\n"
     ]
    },
    {
     "name": "stderr",
     "output_type": "stream",
     "text": [
      "WARNING:tensorflow:Model's `__init__()` arguments contain non-serializable objects. Please implement a `get_config()` method in the subclassed Model for proper saving and loading. Defaulting to empty config.\n"
     ]
    },
    {
     "name": "stdout",
     "output_type": "stream",
     "text": [
      "WARNING:tensorflow:Model's `__init__()` arguments contain non-serializable objects. Please implement a `get_config()` method in the subclassed Model for proper saving and loading. Defaulting to empty config.\n"
     ]
    },
    {
     "name": "stderr",
     "output_type": "stream",
     "text": [
      "WARNING:tensorflow:Model's `__init__()` arguments contain non-serializable objects. Please implement a `get_config()` method in the subclassed Model for proper saving and loading. Defaulting to empty config.\n"
     ]
    },
    {
     "name": "stdout",
     "output_type": "stream",
     "text": [
      "23/23 [==============================] - 64s 3s/step - loss: 0.6324 - accuracy: 0.4875 - val_loss: 0.6095 - val_accuracy: 0.4839\n",
      "Epoch 21/100\n",
      "23/23 [==============================] - ETA: 0s - loss: 0.6221 - accuracy: 0.4948\n",
      "Epoch 21: val_loss did not improve from 0.60954\n",
      "23/23 [==============================] - 49s 2s/step - loss: 0.6227 - accuracy: 0.4933 - val_loss: 0.6586 - val_accuracy: 0.4934\n",
      "Epoch 22/100\n",
      "23/23 [==============================] - ETA: 0s - loss: 0.6111 - accuracy: 0.5008\n",
      "Epoch 22: val_loss did not improve from 0.60954\n",
      "23/23 [==============================] - 48s 2s/step - loss: 0.6136 - accuracy: 0.5005 - val_loss: 0.6130 - val_accuracy: 0.5205\n",
      "Epoch 23/100\n",
      "23/23 [==============================] - ETA: 0s - loss: 0.6047 - accuracy: 0.5057\n",
      "Epoch 23: val_loss improved from 0.60954 to 0.55420, saving model to ckpt\n",
      "WARNING:tensorflow:Model's `__init__()` arguments contain non-serializable objects. Please implement a `get_config()` method in the subclassed Model for proper saving and loading. Defaulting to empty config.\n"
     ]
    },
    {
     "name": "stderr",
     "output_type": "stream",
     "text": [
      "WARNING:tensorflow:Model's `__init__()` arguments contain non-serializable objects. Please implement a `get_config()` method in the subclassed Model for proper saving and loading. Defaulting to empty config.\n"
     ]
    },
    {
     "name": "stdout",
     "output_type": "stream",
     "text": [
      "WARNING:tensorflow:Model's `__init__()` arguments contain non-serializable objects. Please implement a `get_config()` method in the subclassed Model for proper saving and loading. Defaulting to empty config.\n"
     ]
    },
    {
     "name": "stderr",
     "output_type": "stream",
     "text": [
      "WARNING:tensorflow:Model's `__init__()` arguments contain non-serializable objects. Please implement a `get_config()` method in the subclassed Model for proper saving and loading. Defaulting to empty config.\n",
      "WARNING:absl:Found untraced functions such as _update_step_xla, lstm_cell_2_layer_call_fn, lstm_cell_2_layer_call_and_return_conditional_losses, lstm_cell_3_layer_call_fn, lstm_cell_3_layer_call_and_return_conditional_losses while saving (showing 5 of 5). These functions will not be directly callable after loading.\n"
     ]
    },
    {
     "name": "stdout",
     "output_type": "stream",
     "text": [
      "INFO:tensorflow:Assets written to: ckpt\\assets\n"
     ]
    },
    {
     "name": "stderr",
     "output_type": "stream",
     "text": [
      "INFO:tensorflow:Assets written to: ckpt\\assets\n"
     ]
    },
    {
     "name": "stdout",
     "output_type": "stream",
     "text": [
      "WARNING:tensorflow:Model's `__init__()` arguments contain non-serializable objects. Please implement a `get_config()` method in the subclassed Model for proper saving and loading. Defaulting to empty config.\n"
     ]
    },
    {
     "name": "stderr",
     "output_type": "stream",
     "text": [
      "WARNING:tensorflow:Model's `__init__()` arguments contain non-serializable objects. Please implement a `get_config()` method in the subclassed Model for proper saving and loading. Defaulting to empty config.\n"
     ]
    },
    {
     "name": "stdout",
     "output_type": "stream",
     "text": [
      "WARNING:tensorflow:Model's `__init__()` arguments contain non-serializable objects. Please implement a `get_config()` method in the subclassed Model for proper saving and loading. Defaulting to empty config.\n"
     ]
    },
    {
     "name": "stderr",
     "output_type": "stream",
     "text": [
      "WARNING:tensorflow:Model's `__init__()` arguments contain non-serializable objects. Please implement a `get_config()` method in the subclassed Model for proper saving and loading. Defaulting to empty config.\n"
     ]
    },
    {
     "name": "stdout",
     "output_type": "stream",
     "text": [
      "23/23 [==============================] - 72s 3s/step - loss: 0.6037 - accuracy: 0.5057 - val_loss: 0.5542 - val_accuracy: 0.5189\n",
      "Epoch 24/100\n",
      "23/23 [==============================] - ETA: 0s - loss: 0.5927 - accuracy: 0.5121\n",
      "Epoch 24: val_loss did not improve from 0.55420\n",
      "23/23 [==============================] - 42s 2s/step - loss: 0.5937 - accuracy: 0.5108 - val_loss: 0.7027 - val_accuracy: 0.4973\n",
      "Epoch 25/100\n",
      "23/23 [==============================] - ETA: 0s - loss: 0.5871 - accuracy: 0.5164\n",
      "Epoch 25: val_loss did not improve from 0.55420\n",
      "23/23 [==============================] - 41s 2s/step - loss: 0.5882 - accuracy: 0.5158 - val_loss: 0.6557 - val_accuracy: 0.4775\n",
      "Epoch 26/100\n",
      "23/23 [==============================] - ETA: 0s - loss: 0.5794 - accuracy: 0.5190\n",
      "Epoch 26: val_loss did not improve from 0.55420\n",
      "23/23 [==============================] - 42s 2s/step - loss: 0.5819 - accuracy: 0.5176 - val_loss: 0.6398 - val_accuracy: 0.5228\n",
      "Epoch 27/100\n",
      "23/23 [==============================] - ETA: 0s - loss: 0.5681 - accuracy: 0.5235\n",
      "Epoch 27: val_loss did not improve from 0.55420\n",
      "23/23 [==============================] - 42s 2s/step - loss: 0.5695 - accuracy: 0.5222 - val_loss: 0.6288 - val_accuracy: 0.5170\n",
      "Epoch 28/100\n",
      "23/23 [==============================] - ETA: 0s - loss: 0.5622 - accuracy: 0.5292\n",
      "Epoch 28: val_loss did not improve from 0.55420\n",
      "23/23 [==============================] - 42s 2s/step - loss: 0.5620 - accuracy: 0.5288 - val_loss: 0.7002 - val_accuracy: 0.5120\n",
      "Epoch 29/100\n",
      "23/23 [==============================] - ETA: 0s - loss: 0.5539 - accuracy: 0.5306\n",
      "Epoch 29: val_loss did not improve from 0.55420\n",
      "23/23 [==============================] - 42s 2s/step - loss: 0.5548 - accuracy: 0.5290 - val_loss: 0.6056 - val_accuracy: 0.5784\n",
      "Epoch 30/100\n",
      "23/23 [==============================] - ETA: 0s - loss: 0.5429 - accuracy: 0.5390\n",
      "Epoch 30: val_loss did not improve from 0.55420\n",
      "23/23 [==============================] - 41s 2s/step - loss: 0.5434 - accuracy: 0.5380 - val_loss: 0.6123 - val_accuracy: 0.5212\n",
      "Epoch 31/100\n",
      "23/23 [==============================] - ETA: 0s - loss: 0.5390 - accuracy: 0.5398\n",
      "Epoch 31: val_loss improved from 0.55420 to 0.50482, saving model to ckpt\n",
      "WARNING:tensorflow:Model's `__init__()` arguments contain non-serializable objects. Please implement a `get_config()` method in the subclassed Model for proper saving and loading. Defaulting to empty config.\n"
     ]
    },
    {
     "name": "stderr",
     "output_type": "stream",
     "text": [
      "WARNING:tensorflow:Model's `__init__()` arguments contain non-serializable objects. Please implement a `get_config()` method in the subclassed Model for proper saving and loading. Defaulting to empty config.\n"
     ]
    },
    {
     "name": "stdout",
     "output_type": "stream",
     "text": [
      "WARNING:tensorflow:Model's `__init__()` arguments contain non-serializable objects. Please implement a `get_config()` method in the subclassed Model for proper saving and loading. Defaulting to empty config.\n"
     ]
    },
    {
     "name": "stderr",
     "output_type": "stream",
     "text": [
      "WARNING:tensorflow:Model's `__init__()` arguments contain non-serializable objects. Please implement a `get_config()` method in the subclassed Model for proper saving and loading. Defaulting to empty config.\n",
      "WARNING:absl:Found untraced functions such as _update_step_xla, lstm_cell_2_layer_call_fn, lstm_cell_2_layer_call_and_return_conditional_losses, lstm_cell_3_layer_call_fn, lstm_cell_3_layer_call_and_return_conditional_losses while saving (showing 5 of 5). These functions will not be directly callable after loading.\n"
     ]
    },
    {
     "name": "stdout",
     "output_type": "stream",
     "text": [
      "INFO:tensorflow:Assets written to: ckpt\\assets\n"
     ]
    },
    {
     "name": "stderr",
     "output_type": "stream",
     "text": [
      "INFO:tensorflow:Assets written to: ckpt\\assets\n"
     ]
    },
    {
     "name": "stdout",
     "output_type": "stream",
     "text": [
      "WARNING:tensorflow:Model's `__init__()` arguments contain non-serializable objects. Please implement a `get_config()` method in the subclassed Model for proper saving and loading. Defaulting to empty config.\n"
     ]
    },
    {
     "name": "stderr",
     "output_type": "stream",
     "text": [
      "WARNING:tensorflow:Model's `__init__()` arguments contain non-serializable objects. Please implement a `get_config()` method in the subclassed Model for proper saving and loading. Defaulting to empty config.\n"
     ]
    },
    {
     "name": "stdout",
     "output_type": "stream",
     "text": [
      "WARNING:tensorflow:Model's `__init__()` arguments contain non-serializable objects. Please implement a `get_config()` method in the subclassed Model for proper saving and loading. Defaulting to empty config.\n"
     ]
    },
    {
     "name": "stderr",
     "output_type": "stream",
     "text": [
      "WARNING:tensorflow:Model's `__init__()` arguments contain non-serializable objects. Please implement a `get_config()` method in the subclassed Model for proper saving and loading. Defaulting to empty config.\n"
     ]
    },
    {
     "name": "stdout",
     "output_type": "stream",
     "text": [
      "23/23 [==============================] - 65s 3s/step - loss: 0.5407 - accuracy: 0.5392 - val_loss: 0.5048 - val_accuracy: 0.5378\n",
      "Epoch 32/100\n",
      "23/23 [==============================] - ETA: 0s - loss: 0.5389 - accuracy: 0.5423\n",
      "Epoch 32: val_loss did not improve from 0.50482\n",
      "23/23 [==============================] - 46s 2s/step - loss: 0.5409 - accuracy: 0.5412 - val_loss: 0.5178 - val_accuracy: 0.5516\n",
      "Epoch 33/100\n",
      "23/23 [==============================] - ETA: 0s - loss: 0.5279 - accuracy: 0.5498\n",
      "Epoch 33: val_loss did not improve from 0.50482\n",
      "23/23 [==============================] - 46s 2s/step - loss: 0.5309 - accuracy: 0.5490 - val_loss: 0.6606 - val_accuracy: 0.5223\n",
      "Epoch 34/100\n",
      "23/23 [==============================] - ETA: 0s - loss: 0.5215 - accuracy: 0.5510\n",
      "Epoch 34: val_loss did not improve from 0.50482\n",
      "23/23 [==============================] - 47s 2s/step - loss: 0.5219 - accuracy: 0.5494 - val_loss: 0.5246 - val_accuracy: 0.5458\n",
      "Epoch 35/100\n",
      "23/23 [==============================] - ETA: 0s - loss: 0.5135 - accuracy: 0.5570\n",
      "Epoch 35: val_loss did not improve from 0.50482\n",
      "23/23 [==============================] - 47s 2s/step - loss: 0.5148 - accuracy: 0.5558 - val_loss: 0.6657 - val_accuracy: 0.5267\n",
      "Epoch 36/100\n",
      "23/23 [==============================] - ETA: 0s - loss: 0.5141 - accuracy: 0.5561\n",
      "Epoch 36: val_loss did not improve from 0.50482\n",
      "23/23 [==============================] - 45s 2s/step - loss: 0.5161 - accuracy: 0.5546 - val_loss: 0.5384 - val_accuracy: 0.5494\n",
      "Epoch 37/100\n",
      "23/23 [==============================] - ETA: 0s - loss: 0.5049 - accuracy: 0.5650\n",
      "Epoch 37: val_loss did not improve from 0.50482\n",
      "23/23 [==============================] - 45s 2s/step - loss: 0.5058 - accuracy: 0.5649 - val_loss: 0.5304 - val_accuracy: 0.5321\n",
      "Epoch 38/100\n",
      "23/23 [==============================] - ETA: 0s - loss: 0.4978 - accuracy: 0.5690\n",
      "Epoch 38: val_loss did not improve from 0.50482\n",
      "23/23 [==============================] - 47s 2s/step - loss: 0.5000 - accuracy: 0.5690 - val_loss: 0.5563 - val_accuracy: 0.5331\n",
      "Epoch 39/100\n",
      "23/23 [==============================] - ETA: 0s - loss: 0.4971 - accuracy: 0.5697\n",
      "Epoch 39: val_loss improved from 0.50482 to 0.49531, saving model to ckpt\n",
      "WARNING:tensorflow:Model's `__init__()` arguments contain non-serializable objects. Please implement a `get_config()` method in the subclassed Model for proper saving and loading. Defaulting to empty config.\n"
     ]
    },
    {
     "name": "stderr",
     "output_type": "stream",
     "text": [
      "WARNING:tensorflow:Model's `__init__()` arguments contain non-serializable objects. Please implement a `get_config()` method in the subclassed Model for proper saving and loading. Defaulting to empty config.\n"
     ]
    },
    {
     "name": "stdout",
     "output_type": "stream",
     "text": [
      "WARNING:tensorflow:Model's `__init__()` arguments contain non-serializable objects. Please implement a `get_config()` method in the subclassed Model for proper saving and loading. Defaulting to empty config.\n"
     ]
    },
    {
     "name": "stderr",
     "output_type": "stream",
     "text": [
      "WARNING:tensorflow:Model's `__init__()` arguments contain non-serializable objects. Please implement a `get_config()` method in the subclassed Model for proper saving and loading. Defaulting to empty config.\n",
      "WARNING:absl:Found untraced functions such as _update_step_xla, lstm_cell_2_layer_call_fn, lstm_cell_2_layer_call_and_return_conditional_losses, lstm_cell_3_layer_call_fn, lstm_cell_3_layer_call_and_return_conditional_losses while saving (showing 5 of 5). These functions will not be directly callable after loading.\n"
     ]
    },
    {
     "name": "stdout",
     "output_type": "stream",
     "text": [
      "INFO:tensorflow:Assets written to: ckpt\\assets\n"
     ]
    },
    {
     "name": "stderr",
     "output_type": "stream",
     "text": [
      "INFO:tensorflow:Assets written to: ckpt\\assets\n"
     ]
    },
    {
     "name": "stdout",
     "output_type": "stream",
     "text": [
      "WARNING:tensorflow:Model's `__init__()` arguments contain non-serializable objects. Please implement a `get_config()` method in the subclassed Model for proper saving and loading. Defaulting to empty config.\n"
     ]
    },
    {
     "name": "stderr",
     "output_type": "stream",
     "text": [
      "WARNING:tensorflow:Model's `__init__()` arguments contain non-serializable objects. Please implement a `get_config()` method in the subclassed Model for proper saving and loading. Defaulting to empty config.\n"
     ]
    },
    {
     "name": "stdout",
     "output_type": "stream",
     "text": [
      "WARNING:tensorflow:Model's `__init__()` arguments contain non-serializable objects. Please implement a `get_config()` method in the subclassed Model for proper saving and loading. Defaulting to empty config.\n"
     ]
    },
    {
     "name": "stderr",
     "output_type": "stream",
     "text": [
      "WARNING:tensorflow:Model's `__init__()` arguments contain non-serializable objects. Please implement a `get_config()` method in the subclassed Model for proper saving and loading. Defaulting to empty config.\n"
     ]
    },
    {
     "name": "stdout",
     "output_type": "stream",
     "text": [
      "23/23 [==============================] - 69s 3s/step - loss: 0.4992 - accuracy: 0.5691 - val_loss: 0.4953 - val_accuracy: 0.5751\n",
      "Epoch 40/100\n",
      "23/23 [==============================] - ETA: 0s - loss: 0.4923 - accuracy: 0.5703\n",
      "Epoch 40: val_loss did not improve from 0.49531\n",
      "23/23 [==============================] - 50s 2s/step - loss: 0.4923 - accuracy: 0.5699 - val_loss: 0.5950 - val_accuracy: 0.5517\n",
      "Epoch 41/100\n",
      "23/23 [==============================] - ETA: 0s - loss: 0.4865 - accuracy: 0.5738\n",
      "Epoch 41: val_loss did not improve from 0.49531\n",
      "23/23 [==============================] - 48s 2s/step - loss: 0.4866 - accuracy: 0.5743 - val_loss: 0.5347 - val_accuracy: 0.5649\n",
      "Epoch 42/100\n",
      "23/23 [==============================] - ETA: 0s - loss: 0.4805 - accuracy: 0.5811\n",
      "Epoch 42: val_loss did not improve from 0.49531\n",
      "23/23 [==============================] - 49s 2s/step - loss: 0.4838 - accuracy: 0.5794 - val_loss: 0.5870 - val_accuracy: 0.5607\n",
      "Epoch 43/100\n",
      "23/23 [==============================] - ETA: 0s - loss: 0.4759 - accuracy: 0.5828\n",
      "Epoch 43: val_loss did not improve from 0.49531\n",
      "23/23 [==============================] - 49s 2s/step - loss: 0.4753 - accuracy: 0.5829 - val_loss: 0.5182 - val_accuracy: 0.5673\n",
      "Epoch 44/100\n",
      "23/23 [==============================] - ETA: 0s - loss: 0.4679 - accuracy: 0.5837\n",
      "Epoch 44: val_loss did not improve from 0.49531\n",
      "23/23 [==============================] - 53s 2s/step - loss: 0.4684 - accuracy: 0.5829 - val_loss: 0.5934 - val_accuracy: 0.5806\n",
      "Epoch 45/100\n",
      "23/23 [==============================] - ETA: 0s - loss: 0.4688 - accuracy: 0.5885\n",
      "Epoch 45: val_loss improved from 0.49531 to 0.48301, saving model to ckpt\n",
      "WARNING:tensorflow:Model's `__init__()` arguments contain non-serializable objects. Please implement a `get_config()` method in the subclassed Model for proper saving and loading. Defaulting to empty config.\n"
     ]
    },
    {
     "name": "stderr",
     "output_type": "stream",
     "text": [
      "WARNING:tensorflow:Model's `__init__()` arguments contain non-serializable objects. Please implement a `get_config()` method in the subclassed Model for proper saving and loading. Defaulting to empty config.\n"
     ]
    },
    {
     "name": "stdout",
     "output_type": "stream",
     "text": [
      "WARNING:tensorflow:Model's `__init__()` arguments contain non-serializable objects. Please implement a `get_config()` method in the subclassed Model for proper saving and loading. Defaulting to empty config.\n"
     ]
    },
    {
     "name": "stderr",
     "output_type": "stream",
     "text": [
      "WARNING:tensorflow:Model's `__init__()` arguments contain non-serializable objects. Please implement a `get_config()` method in the subclassed Model for proper saving and loading. Defaulting to empty config.\n",
      "WARNING:absl:Found untraced functions such as _update_step_xla, lstm_cell_2_layer_call_fn, lstm_cell_2_layer_call_and_return_conditional_losses, lstm_cell_3_layer_call_fn, lstm_cell_3_layer_call_and_return_conditional_losses while saving (showing 5 of 5). These functions will not be directly callable after loading.\n"
     ]
    },
    {
     "name": "stdout",
     "output_type": "stream",
     "text": [
      "INFO:tensorflow:Assets written to: ckpt\\assets\n"
     ]
    },
    {
     "name": "stderr",
     "output_type": "stream",
     "text": [
      "INFO:tensorflow:Assets written to: ckpt\\assets\n"
     ]
    },
    {
     "name": "stdout",
     "output_type": "stream",
     "text": [
      "WARNING:tensorflow:Model's `__init__()` arguments contain non-serializable objects. Please implement a `get_config()` method in the subclassed Model for proper saving and loading. Defaulting to empty config.\n"
     ]
    },
    {
     "name": "stderr",
     "output_type": "stream",
     "text": [
      "WARNING:tensorflow:Model's `__init__()` arguments contain non-serializable objects. Please implement a `get_config()` method in the subclassed Model for proper saving and loading. Defaulting to empty config.\n"
     ]
    },
    {
     "name": "stdout",
     "output_type": "stream",
     "text": [
      "WARNING:tensorflow:Model's `__init__()` arguments contain non-serializable objects. Please implement a `get_config()` method in the subclassed Model for proper saving and loading. Defaulting to empty config.\n"
     ]
    },
    {
     "name": "stderr",
     "output_type": "stream",
     "text": [
      "WARNING:tensorflow:Model's `__init__()` arguments contain non-serializable objects. Please implement a `get_config()` method in the subclassed Model for proper saving and loading. Defaulting to empty config.\n"
     ]
    },
    {
     "name": "stdout",
     "output_type": "stream",
     "text": [
      "23/23 [==============================] - 82s 4s/step - loss: 0.4700 - accuracy: 0.5883 - val_loss: 0.4830 - val_accuracy: 0.5746\n",
      "Epoch 46/100\n",
      "23/23 [==============================] - ETA: 0s - loss: 0.4717 - accuracy: 0.5859\n",
      "Epoch 46: val_loss did not improve from 0.48301\n",
      "23/23 [==============================] - 52s 2s/step - loss: 0.4738 - accuracy: 0.5856 - val_loss: 0.4835 - val_accuracy: 0.5768\n",
      "Epoch 47/100\n",
      "23/23 [==============================] - ETA: 0s - loss: 0.4627 - accuracy: 0.5919\n",
      "Epoch 47: val_loss did not improve from 0.48301\n",
      "23/23 [==============================] - 55s 2s/step - loss: 0.4623 - accuracy: 0.5914 - val_loss: 0.5603 - val_accuracy: 0.5556\n",
      "Epoch 48/100\n",
      "23/23 [==============================] - ETA: 0s - loss: 0.4583 - accuracy: 0.5933\n",
      "Epoch 48: val_loss did not improve from 0.48301\n",
      "23/23 [==============================] - 54s 2s/step - loss: 0.4573 - accuracy: 0.5933 - val_loss: 0.5045 - val_accuracy: 0.6000\n",
      "Epoch 49/100\n",
      "23/23 [==============================] - ETA: 0s - loss: 0.4544 - accuracy: 0.5953\n",
      "Epoch 49: val_loss did not improve from 0.48301\n",
      "23/23 [==============================] - 55s 2s/step - loss: 0.4557 - accuracy: 0.5948 - val_loss: 0.5664 - val_accuracy: 0.5635\n",
      "Epoch 50/100\n",
      "23/23 [==============================] - ETA: 0s - loss: 0.4510 - accuracy: 0.5959\n",
      "Epoch 50: val_loss did not improve from 0.48301\n",
      "23/23 [==============================] - 61s 3s/step - loss: 0.4505 - accuracy: 0.5955 - val_loss: 0.5100 - val_accuracy: 0.5941\n",
      "Epoch 51/100\n",
      "23/23 [==============================] - ETA: 0s - loss: 0.4471 - accuracy: 0.5979\n",
      "Epoch 51: val_loss did not improve from 0.48301\n",
      "23/23 [==============================] - 56s 2s/step - loss: 0.4478 - accuracy: 0.5974 - val_loss: 0.5207 - val_accuracy: 0.5634\n",
      "Epoch 52/100\n",
      "23/23 [==============================] - ETA: 0s - loss: 0.4431 - accuracy: 0.6019\n",
      "Epoch 52: val_loss did not improve from 0.48301\n",
      "23/23 [==============================] - 57s 2s/step - loss: 0.4439 - accuracy: 0.6014 - val_loss: 0.5218 - val_accuracy: 0.5530\n",
      "Epoch 53/100\n",
      "23/23 [==============================] - ETA: 0s - loss: 0.4405 - accuracy: 0.6067\n",
      "Epoch 53: val_loss did not improve from 0.48301\n",
      "23/23 [==============================] - 55s 2s/step - loss: 0.4439 - accuracy: 0.6057 - val_loss: 0.5760 - val_accuracy: 0.5724\n",
      "Epoch 54/100\n",
      "23/23 [==============================] - ETA: 0s - loss: 0.4378 - accuracy: 0.6069\n",
      "Epoch 54: val_loss did not improve from 0.48301\n",
      "23/23 [==============================] - 55s 2s/step - loss: 0.4397 - accuracy: 0.6062 - val_loss: 0.4987 - val_accuracy: 0.5787\n",
      "Epoch 55/100\n",
      "23/23 [==============================] - ETA: 0s - loss: 0.4334 - accuracy: 0.6091\n",
      "Epoch 55: val_loss did not improve from 0.48301\n",
      "23/23 [==============================] - 58s 3s/step - loss: 0.4337 - accuracy: 0.6083 - val_loss: 0.4954 - val_accuracy: 0.6141\n",
      "Epoch 56/100\n",
      "23/23 [==============================] - ETA: 0s - loss: 0.4301 - accuracy: 0.6132\n",
      "Epoch 56: val_loss did not improve from 0.48301\n",
      "23/23 [==============================] - 58s 3s/step - loss: 0.4318 - accuracy: 0.6127 - val_loss: 0.5307 - val_accuracy: 0.5826\n",
      "Epoch 57/100\n",
      "23/23 [==============================] - ETA: 0s - loss: 0.4246 - accuracy: 0.6149\n",
      "Epoch 57: val_loss did not improve from 0.48301\n",
      "23/23 [==============================] - 58s 3s/step - loss: 0.4240 - accuracy: 0.6153 - val_loss: 0.5410 - val_accuracy: 0.5786\n",
      "Epoch 58/100\n",
      "23/23 [==============================] - ETA: 0s - loss: 0.4228 - accuracy: 0.6186\n",
      "Epoch 58: val_loss did not improve from 0.48301\n",
      "23/23 [==============================] - 58s 3s/step - loss: 0.4241 - accuracy: 0.6186 - val_loss: 0.5728 - val_accuracy: 0.5774\n",
      "Epoch 59/100\n",
      "23/23 [==============================] - ETA: 0s - loss: 0.4245 - accuracy: 0.6168\n",
      "Epoch 59: val_loss did not improve from 0.48301\n",
      "23/23 [==============================] - 58s 3s/step - loss: 0.4251 - accuracy: 0.6163 - val_loss: 0.5770 - val_accuracy: 0.5765\n",
      "Epoch 60/100\n",
      "23/23 [==============================] - ETA: 0s - loss: 0.4176 - accuracy: 0.6207\n",
      "Epoch 60: val_loss did not improve from 0.48301\n",
      "23/23 [==============================] - 60s 3s/step - loss: 0.4173 - accuracy: 0.6209 - val_loss: 0.4871 - val_accuracy: 0.5954\n",
      "Epoch 61/100\n",
      "23/23 [==============================] - ETA: 0s - loss: 0.4169 - accuracy: 0.6204\n",
      "Epoch 61: val_loss did not improve from 0.48301\n",
      "23/23 [==============================] - 58s 3s/step - loss: 0.4178 - accuracy: 0.6202 - val_loss: 0.4831 - val_accuracy: 0.5983\n",
      "Epoch 62/100\n",
      "23/23 [==============================] - ETA: 0s - loss: 0.4129 - accuracy: 0.6234\n",
      "Epoch 62: val_loss did not improve from 0.48301\n",
      "23/23 [==============================] - 59s 3s/step - loss: 0.4131 - accuracy: 0.6238 - val_loss: 0.5199 - val_accuracy: 0.5944\n",
      "Epoch 63/100\n",
      "23/23 [==============================] - ETA: 0s - loss: 0.4105 - accuracy: 0.6279\n",
      "Epoch 63: val_loss improved from 0.48301 to 0.43530, saving model to ckpt\n",
      "WARNING:tensorflow:Model's `__init__()` arguments contain non-serializable objects. Please implement a `get_config()` method in the subclassed Model for proper saving and loading. Defaulting to empty config.\n"
     ]
    },
    {
     "name": "stderr",
     "output_type": "stream",
     "text": [
      "WARNING:tensorflow:Model's `__init__()` arguments contain non-serializable objects. Please implement a `get_config()` method in the subclassed Model for proper saving and loading. Defaulting to empty config.\n"
     ]
    },
    {
     "name": "stdout",
     "output_type": "stream",
     "text": [
      "WARNING:tensorflow:Model's `__init__()` arguments contain non-serializable objects. Please implement a `get_config()` method in the subclassed Model for proper saving and loading. Defaulting to empty config.\n"
     ]
    },
    {
     "name": "stderr",
     "output_type": "stream",
     "text": [
      "WARNING:tensorflow:Model's `__init__()` arguments contain non-serializable objects. Please implement a `get_config()` method in the subclassed Model for proper saving and loading. Defaulting to empty config.\n",
      "WARNING:absl:Found untraced functions such as _update_step_xla, lstm_cell_2_layer_call_fn, lstm_cell_2_layer_call_and_return_conditional_losses, lstm_cell_3_layer_call_fn, lstm_cell_3_layer_call_and_return_conditional_losses while saving (showing 5 of 5). These functions will not be directly callable after loading.\n"
     ]
    },
    {
     "name": "stdout",
     "output_type": "stream",
     "text": [
      "INFO:tensorflow:Assets written to: ckpt\\assets\n"
     ]
    },
    {
     "name": "stderr",
     "output_type": "stream",
     "text": [
      "INFO:tensorflow:Assets written to: ckpt\\assets\n"
     ]
    },
    {
     "name": "stdout",
     "output_type": "stream",
     "text": [
      "WARNING:tensorflow:Model's `__init__()` arguments contain non-serializable objects. Please implement a `get_config()` method in the subclassed Model for proper saving and loading. Defaulting to empty config.\n"
     ]
    },
    {
     "name": "stderr",
     "output_type": "stream",
     "text": [
      "WARNING:tensorflow:Model's `__init__()` arguments contain non-serializable objects. Please implement a `get_config()` method in the subclassed Model for proper saving and loading. Defaulting to empty config.\n"
     ]
    },
    {
     "name": "stdout",
     "output_type": "stream",
     "text": [
      "WARNING:tensorflow:Model's `__init__()` arguments contain non-serializable objects. Please implement a `get_config()` method in the subclassed Model for proper saving and loading. Defaulting to empty config.\n"
     ]
    },
    {
     "name": "stderr",
     "output_type": "stream",
     "text": [
      "WARNING:tensorflow:Model's `__init__()` arguments contain non-serializable objects. Please implement a `get_config()` method in the subclassed Model for proper saving and loading. Defaulting to empty config.\n"
     ]
    },
    {
     "name": "stdout",
     "output_type": "stream",
     "text": [
      "23/23 [==============================] - 86s 4s/step - loss: 0.4115 - accuracy: 0.6282 - val_loss: 0.4353 - val_accuracy: 0.6121\n",
      "Epoch 64/100\n",
      "23/23 [==============================] - ETA: 0s - loss: 0.4091 - accuracy: 0.6273\n",
      "Epoch 64: val_loss improved from 0.43530 to 0.40937, saving model to ckpt\n",
      "WARNING:tensorflow:Model's `__init__()` arguments contain non-serializable objects. Please implement a `get_config()` method in the subclassed Model for proper saving and loading. Defaulting to empty config.\n"
     ]
    },
    {
     "name": "stderr",
     "output_type": "stream",
     "text": [
      "WARNING:tensorflow:Model's `__init__()` arguments contain non-serializable objects. Please implement a `get_config()` method in the subclassed Model for proper saving and loading. Defaulting to empty config.\n"
     ]
    },
    {
     "name": "stdout",
     "output_type": "stream",
     "text": [
      "WARNING:tensorflow:Model's `__init__()` arguments contain non-serializable objects. Please implement a `get_config()` method in the subclassed Model for proper saving and loading. Defaulting to empty config.\n"
     ]
    },
    {
     "name": "stderr",
     "output_type": "stream",
     "text": [
      "WARNING:tensorflow:Model's `__init__()` arguments contain non-serializable objects. Please implement a `get_config()` method in the subclassed Model for proper saving and loading. Defaulting to empty config.\n",
      "WARNING:absl:Found untraced functions such as _update_step_xla, lstm_cell_2_layer_call_fn, lstm_cell_2_layer_call_and_return_conditional_losses, lstm_cell_3_layer_call_fn, lstm_cell_3_layer_call_and_return_conditional_losses while saving (showing 5 of 5). These functions will not be directly callable after loading.\n"
     ]
    },
    {
     "name": "stdout",
     "output_type": "stream",
     "text": [
      "INFO:tensorflow:Assets written to: ckpt\\assets\n"
     ]
    },
    {
     "name": "stderr",
     "output_type": "stream",
     "text": [
      "INFO:tensorflow:Assets written to: ckpt\\assets\n"
     ]
    },
    {
     "name": "stdout",
     "output_type": "stream",
     "text": [
      "WARNING:tensorflow:Model's `__init__()` arguments contain non-serializable objects. Please implement a `get_config()` method in the subclassed Model for proper saving and loading. Defaulting to empty config.\n"
     ]
    },
    {
     "name": "stderr",
     "output_type": "stream",
     "text": [
      "WARNING:tensorflow:Model's `__init__()` arguments contain non-serializable objects. Please implement a `get_config()` method in the subclassed Model for proper saving and loading. Defaulting to empty config.\n"
     ]
    },
    {
     "name": "stdout",
     "output_type": "stream",
     "text": [
      "WARNING:tensorflow:Model's `__init__()` arguments contain non-serializable objects. Please implement a `get_config()` method in the subclassed Model for proper saving and loading. Defaulting to empty config.\n"
     ]
    },
    {
     "name": "stderr",
     "output_type": "stream",
     "text": [
      "WARNING:tensorflow:Model's `__init__()` arguments contain non-serializable objects. Please implement a `get_config()` method in the subclassed Model for proper saving and loading. Defaulting to empty config.\n"
     ]
    },
    {
     "name": "stdout",
     "output_type": "stream",
     "text": [
      "23/23 [==============================] - 83s 4s/step - loss: 0.4101 - accuracy: 0.6268 - val_loss: 0.4094 - val_accuracy: 0.6350\n",
      "Epoch 65/100\n",
      "23/23 [==============================] - ETA: 0s - loss: 0.4078 - accuracy: 0.6279\n",
      "Epoch 65: val_loss did not improve from 0.40937\n",
      "23/23 [==============================] - 59s 3s/step - loss: 0.4073 - accuracy: 0.6278 - val_loss: 0.4628 - val_accuracy: 0.6048\n",
      "Epoch 66/100\n",
      "23/23 [==============================] - ETA: 0s - loss: 0.4027 - accuracy: 0.6320\n",
      "Epoch 66: val_loss did not improve from 0.40937\n",
      "23/23 [==============================] - 62s 3s/step - loss: 0.4020 - accuracy: 0.6324 - val_loss: 0.5570 - val_accuracy: 0.6095\n",
      "Epoch 67/100\n",
      "23/23 [==============================] - ETA: 0s - loss: 0.3993 - accuracy: 0.6352\n",
      "Epoch 67: val_loss did not improve from 0.40937\n",
      "23/23 [==============================] - 63s 3s/step - loss: 0.3988 - accuracy: 0.6360 - val_loss: 0.4302 - val_accuracy: 0.6351\n",
      "Epoch 68/100\n",
      "23/23 [==============================] - ETA: 0s - loss: 0.3996 - accuracy: 0.6335\n",
      "Epoch 68: val_loss did not improve from 0.40937\n",
      "23/23 [==============================] - 60s 3s/step - loss: 0.3986 - accuracy: 0.6339 - val_loss: 0.4327 - val_accuracy: 0.6403\n",
      "Epoch 69/100\n",
      "23/23 [==============================] - ETA: 0s - loss: 0.3956 - accuracy: 0.6349\n",
      "Epoch 69: val_loss did not improve from 0.40937\n",
      "23/23 [==============================] - 61s 3s/step - loss: 0.3977 - accuracy: 0.6334 - val_loss: 0.4691 - val_accuracy: 0.6168\n",
      "Epoch 70/100\n",
      "23/23 [==============================] - ETA: 0s - loss: 0.3958 - accuracy: 0.6382\n",
      "Epoch 70: val_loss did not improve from 0.40937\n",
      "23/23 [==============================] - 62s 3s/step - loss: 0.3981 - accuracy: 0.6368 - val_loss: 0.5326 - val_accuracy: 0.5939\n",
      "Epoch 71/100\n",
      "23/23 [==============================] - ETA: 0s - loss: 0.3908 - accuracy: 0.6403\n",
      "Epoch 71: val_loss did not improve from 0.40937\n",
      "23/23 [==============================] - 60s 3s/step - loss: 0.3909 - accuracy: 0.6399 - val_loss: 0.5716 - val_accuracy: 0.6016\n",
      "Epoch 72/100\n",
      "23/23 [==============================] - ETA: 0s - loss: 0.3925 - accuracy: 0.6414\n",
      "Epoch 72: val_loss did not improve from 0.40937\n",
      "23/23 [==============================] - 56s 2s/step - loss: 0.3939 - accuracy: 0.6411 - val_loss: 0.4872 - val_accuracy: 0.6185\n",
      "Epoch 73/100\n",
      "23/23 [==============================] - ETA: 0s - loss: 0.3885 - accuracy: 0.6425\n",
      "Epoch 73: val_loss did not improve from 0.40937\n",
      "23/23 [==============================] - 56s 2s/step - loss: 0.3891 - accuracy: 0.6425 - val_loss: 0.4936 - val_accuracy: 0.6179\n",
      "Epoch 74/100\n",
      "23/23 [==============================] - ETA: 0s - loss: 0.3870 - accuracy: 0.6440\n",
      "Epoch 74: val_loss did not improve from 0.40937\n",
      "23/23 [==============================] - 57s 2s/step - loss: 0.3894 - accuracy: 0.6428 - val_loss: 0.4643 - val_accuracy: 0.6255\n",
      "Epoch 75/100\n",
      "23/23 [==============================] - ETA: 0s - loss: 0.3861 - accuracy: 0.6435\n",
      "Epoch 75: val_loss did not improve from 0.40937\n",
      "23/23 [==============================] - 55s 2s/step - loss: 0.3864 - accuracy: 0.6426 - val_loss: 0.4906 - val_accuracy: 0.6117\n",
      "Epoch 76/100\n",
      "23/23 [==============================] - ETA: 0s - loss: 0.3828 - accuracy: 0.6456\n",
      "Epoch 76: val_loss did not improve from 0.40937\n",
      "23/23 [==============================] - 55s 2s/step - loss: 0.3835 - accuracy: 0.6447 - val_loss: 0.4621 - val_accuracy: 0.6179\n",
      "Epoch 77/100\n",
      "23/23 [==============================] - ETA: 0s - loss: 0.3791 - accuracy: 0.6494\n",
      "Epoch 77: val_loss did not improve from 0.40937\n",
      "23/23 [==============================] - 56s 2s/step - loss: 0.3784 - accuracy: 0.6488 - val_loss: 0.5485 - val_accuracy: 0.6176\n",
      "Epoch 78/100\n",
      "23/23 [==============================] - ETA: 0s - loss: 0.3765 - accuracy: 0.6534\n",
      "Epoch 78: val_loss did not improve from 0.40937\n",
      "23/23 [==============================] - 56s 2s/step - loss: 0.3777 - accuracy: 0.6536 - val_loss: 0.4339 - val_accuracy: 0.6158\n",
      "Epoch 79/100\n",
      "23/23 [==============================] - ETA: 0s - loss: 0.3758 - accuracy: 0.6498\n",
      "Epoch 79: val_loss did not improve from 0.40937\n",
      "23/23 [==============================] - 55s 2s/step - loss: 0.3752 - accuracy: 0.6499 - val_loss: 0.4211 - val_accuracy: 0.6712\n",
      "Epoch 80/100\n",
      "23/23 [==============================] - ETA: 0s - loss: 0.3740 - accuracy: 0.6528\n",
      "Epoch 80: val_loss did not improve from 0.40937\n",
      "23/23 [==============================] - 55s 2s/step - loss: 0.3752 - accuracy: 0.6515 - val_loss: 0.4597 - val_accuracy: 0.6181\n",
      "Epoch 81/100\n",
      "23/23 [==============================] - ETA: 0s - loss: 0.3713 - accuracy: 0.6551\n",
      "Epoch 81: val_loss did not improve from 0.40937\n",
      "23/23 [==============================] - 55s 2s/step - loss: 0.3713 - accuracy: 0.6542 - val_loss: 0.4617 - val_accuracy: 0.6282\n",
      "Epoch 82/100\n",
      "23/23 [==============================] - ETA: 0s - loss: 0.3704 - accuracy: 0.6557\n",
      "Epoch 82: val_loss did not improve from 0.40937\n",
      "23/23 [==============================] - 57s 2s/step - loss: 0.3694 - accuracy: 0.6561 - val_loss: 0.5681 - val_accuracy: 0.5865\n",
      "Epoch 83/100\n",
      "23/23 [==============================] - ETA: 0s - loss: 0.3697 - accuracy: 0.6578\n",
      "Epoch 83: val_loss did not improve from 0.40937\n",
      "23/23 [==============================] - 59s 3s/step - loss: 0.3715 - accuracy: 0.6574 - val_loss: 0.5086 - val_accuracy: 0.6131\n",
      "Epoch 84/100\n",
      "23/23 [==============================] - ETA: 0s - loss: 0.3661 - accuracy: 0.6585\n",
      "Epoch 84: val_loss did not improve from 0.40937\n",
      "23/23 [==============================] - 56s 2s/step - loss: 0.3666 - accuracy: 0.6580 - val_loss: 0.5476 - val_accuracy: 0.6269\n",
      "Epoch 85/100\n",
      "23/23 [==============================] - ETA: 0s - loss: 0.3649 - accuracy: 0.6619\n",
      "Epoch 85: val_loss did not improve from 0.40937\n",
      "23/23 [==============================] - 54s 2s/step - loss: 0.3661 - accuracy: 0.6607 - val_loss: 0.4386 - val_accuracy: 0.6301\n",
      "Epoch 86/100\n",
      "23/23 [==============================] - ETA: 0s - loss: 0.3638 - accuracy: 0.6580\n",
      "Epoch 86: val_loss did not improve from 0.40937\n",
      "23/23 [==============================] - 56s 2s/step - loss: 0.3630 - accuracy: 0.6573 - val_loss: 0.4756 - val_accuracy: 0.6190\n",
      "Epoch 87/100\n",
      "23/23 [==============================] - ETA: 0s - loss: 0.3575 - accuracy: 0.6652\n",
      "Epoch 87: val_loss did not improve from 0.40937\n",
      "23/23 [==============================] - 56s 2s/step - loss: 0.3570 - accuracy: 0.6655 - val_loss: 0.5259 - val_accuracy: 0.6061\n",
      "Epoch 88/100\n",
      "23/23 [==============================] - ETA: 0s - loss: 0.3591 - accuracy: 0.6642\n",
      "Epoch 88: val_loss did not improve from 0.40937\n",
      "23/23 [==============================] - 56s 2s/step - loss: 0.3591 - accuracy: 0.6649 - val_loss: 0.4346 - val_accuracy: 0.6500\n",
      "Epoch 89/100\n",
      "23/23 [==============================] - ETA: 0s - loss: 0.3586 - accuracy: 0.6653\n",
      "Epoch 89: val_loss improved from 0.40937 to 0.37540, saving model to ckpt\n",
      "WARNING:tensorflow:Model's `__init__()` arguments contain non-serializable objects. Please implement a `get_config()` method in the subclassed Model for proper saving and loading. Defaulting to empty config.\n"
     ]
    },
    {
     "name": "stderr",
     "output_type": "stream",
     "text": [
      "WARNING:tensorflow:Model's `__init__()` arguments contain non-serializable objects. Please implement a `get_config()` method in the subclassed Model for proper saving and loading. Defaulting to empty config.\n"
     ]
    },
    {
     "name": "stdout",
     "output_type": "stream",
     "text": [
      "WARNING:tensorflow:Model's `__init__()` arguments contain non-serializable objects. Please implement a `get_config()` method in the subclassed Model for proper saving and loading. Defaulting to empty config.\n"
     ]
    },
    {
     "name": "stderr",
     "output_type": "stream",
     "text": [
      "WARNING:tensorflow:Model's `__init__()` arguments contain non-serializable objects. Please implement a `get_config()` method in the subclassed Model for proper saving and loading. Defaulting to empty config.\n",
      "WARNING:absl:Found untraced functions such as _update_step_xla, lstm_cell_2_layer_call_fn, lstm_cell_2_layer_call_and_return_conditional_losses, lstm_cell_3_layer_call_fn, lstm_cell_3_layer_call_and_return_conditional_losses while saving (showing 5 of 5). These functions will not be directly callable after loading.\n"
     ]
    },
    {
     "name": "stdout",
     "output_type": "stream",
     "text": [
      "INFO:tensorflow:Assets written to: ckpt\\assets\n"
     ]
    },
    {
     "name": "stderr",
     "output_type": "stream",
     "text": [
      "INFO:tensorflow:Assets written to: ckpt\\assets\n"
     ]
    },
    {
     "name": "stdout",
     "output_type": "stream",
     "text": [
      "WARNING:tensorflow:Model's `__init__()` arguments contain non-serializable objects. Please implement a `get_config()` method in the subclassed Model for proper saving and loading. Defaulting to empty config.\n"
     ]
    },
    {
     "name": "stderr",
     "output_type": "stream",
     "text": [
      "WARNING:tensorflow:Model's `__init__()` arguments contain non-serializable objects. Please implement a `get_config()` method in the subclassed Model for proper saving and loading. Defaulting to empty config.\n"
     ]
    },
    {
     "name": "stdout",
     "output_type": "stream",
     "text": [
      "WARNING:tensorflow:Model's `__init__()` arguments contain non-serializable objects. Please implement a `get_config()` method in the subclassed Model for proper saving and loading. Defaulting to empty config.\n"
     ]
    },
    {
     "name": "stderr",
     "output_type": "stream",
     "text": [
      "WARNING:tensorflow:Model's `__init__()` arguments contain non-serializable objects. Please implement a `get_config()` method in the subclassed Model for proper saving and loading. Defaulting to empty config.\n"
     ]
    },
    {
     "name": "stdout",
     "output_type": "stream",
     "text": [
      "23/23 [==============================] - 82s 4s/step - loss: 0.3587 - accuracy: 0.6651 - val_loss: 0.3754 - val_accuracy: 0.6723\n",
      "Epoch 90/100\n",
      "23/23 [==============================] - ETA: 0s - loss: 0.3568 - accuracy: 0.6628\n",
      "Epoch 90: val_loss did not improve from 0.37540\n",
      "23/23 [==============================] - 59s 3s/step - loss: 0.3588 - accuracy: 0.6611 - val_loss: 0.4760 - val_accuracy: 0.6217\n",
      "Epoch 91/100\n",
      "23/23 [==============================] - ETA: 0s - loss: 0.3558 - accuracy: 0.6645\n",
      "Epoch 91: val_loss did not improve from 0.37540\n",
      "23/23 [==============================] - 59s 3s/step - loss: 0.3577 - accuracy: 0.6635 - val_loss: 0.4119 - val_accuracy: 0.6615\n",
      "Epoch 92/100\n",
      "23/23 [==============================] - ETA: 0s - loss: 0.3550 - accuracy: 0.6658\n",
      "Epoch 92: val_loss did not improve from 0.37540\n",
      "23/23 [==============================] - 62s 3s/step - loss: 0.3560 - accuracy: 0.6651 - val_loss: 0.4701 - val_accuracy: 0.6332\n",
      "Epoch 93/100\n",
      "23/23 [==============================] - ETA: 0s - loss: 0.3525 - accuracy: 0.6657\n",
      "Epoch 93: val_loss did not improve from 0.37540\n",
      "23/23 [==============================] - 61s 3s/step - loss: 0.3535 - accuracy: 0.6654 - val_loss: 0.4888 - val_accuracy: 0.6264\n",
      "Epoch 94/100\n",
      "23/23 [==============================] - ETA: 0s - loss: 0.3492 - accuracy: 0.6707\n",
      "Epoch 94: val_loss did not improve from 0.37540\n",
      "23/23 [==============================] - 60s 3s/step - loss: 0.3489 - accuracy: 0.6716 - val_loss: 0.4279 - val_accuracy: 0.6277\n",
      "Epoch 95/100\n",
      "23/23 [==============================] - ETA: 0s - loss: 0.3532 - accuracy: 0.6676\n",
      "Epoch 95: val_loss did not improve from 0.37540\n",
      "23/23 [==============================] - 61s 3s/step - loss: 0.3536 - accuracy: 0.6673 - val_loss: 0.3814 - val_accuracy: 0.6536\n",
      "Epoch 96/100\n",
      "23/23 [==============================] - ETA: 0s - loss: 0.3489 - accuracy: 0.6683\n",
      "Epoch 96: val_loss did not improve from 0.37540\n",
      "23/23 [==============================] - 60s 3s/step - loss: 0.3477 - accuracy: 0.6692 - val_loss: 0.4677 - val_accuracy: 0.6402\n",
      "Epoch 97/100\n",
      "23/23 [==============================] - ETA: 0s - loss: 0.3477 - accuracy: 0.6733\n",
      "Epoch 97: val_loss did not improve from 0.37540\n",
      "23/23 [==============================] - 61s 3s/step - loss: 0.3482 - accuracy: 0.6731 - val_loss: 0.4197 - val_accuracy: 0.6548\n",
      "Epoch 98/100\n",
      "23/23 [==============================] - ETA: 0s - loss: 0.3465 - accuracy: 0.6698\n",
      "Epoch 98: val_loss did not improve from 0.37540\n",
      "23/23 [==============================] - 62s 3s/step - loss: 0.3470 - accuracy: 0.6699 - val_loss: 0.4782 - val_accuracy: 0.6431\n",
      "Epoch 99/100\n",
      "23/23 [==============================] - ETA: 0s - loss: 0.3441 - accuracy: 0.6738\n",
      "Epoch 99: val_loss did not improve from 0.37540\n",
      "23/23 [==============================] - 59s 3s/step - loss: 0.3423 - accuracy: 0.6745 - val_loss: 0.4325 - val_accuracy: 0.6723\n",
      "Epoch 100/100\n",
      "23/23 [==============================] - ETA: 0s - loss: 0.3436 - accuracy: 0.6748\n",
      "Epoch 100: val_loss improved from 0.37540 to 0.36114, saving model to ckpt\n",
      "WARNING:tensorflow:Model's `__init__()` arguments contain non-serializable objects. Please implement a `get_config()` method in the subclassed Model for proper saving and loading. Defaulting to empty config.\n"
     ]
    },
    {
     "name": "stderr",
     "output_type": "stream",
     "text": [
      "WARNING:tensorflow:Model's `__init__()` arguments contain non-serializable objects. Please implement a `get_config()` method in the subclassed Model for proper saving and loading. Defaulting to empty config.\n"
     ]
    },
    {
     "name": "stdout",
     "output_type": "stream",
     "text": [
      "WARNING:tensorflow:Model's `__init__()` arguments contain non-serializable objects. Please implement a `get_config()` method in the subclassed Model for proper saving and loading. Defaulting to empty config.\n"
     ]
    },
    {
     "name": "stderr",
     "output_type": "stream",
     "text": [
      "WARNING:tensorflow:Model's `__init__()` arguments contain non-serializable objects. Please implement a `get_config()` method in the subclassed Model for proper saving and loading. Defaulting to empty config.\n",
      "WARNING:absl:Found untraced functions such as _update_step_xla, lstm_cell_2_layer_call_fn, lstm_cell_2_layer_call_and_return_conditional_losses, lstm_cell_3_layer_call_fn, lstm_cell_3_layer_call_and_return_conditional_losses while saving (showing 5 of 5). These functions will not be directly callable after loading.\n"
     ]
    },
    {
     "name": "stdout",
     "output_type": "stream",
     "text": [
      "INFO:tensorflow:Assets written to: ckpt\\assets\n"
     ]
    },
    {
     "name": "stderr",
     "output_type": "stream",
     "text": [
      "INFO:tensorflow:Assets written to: ckpt\\assets\n"
     ]
    },
    {
     "name": "stdout",
     "output_type": "stream",
     "text": [
      "WARNING:tensorflow:Model's `__init__()` arguments contain non-serializable objects. Please implement a `get_config()` method in the subclassed Model for proper saving and loading. Defaulting to empty config.\n"
     ]
    },
    {
     "name": "stderr",
     "output_type": "stream",
     "text": [
      "WARNING:tensorflow:Model's `__init__()` arguments contain non-serializable objects. Please implement a `get_config()` method in the subclassed Model for proper saving and loading. Defaulting to empty config.\n"
     ]
    },
    {
     "name": "stdout",
     "output_type": "stream",
     "text": [
      "WARNING:tensorflow:Model's `__init__()` arguments contain non-serializable objects. Please implement a `get_config()` method in the subclassed Model for proper saving and loading. Defaulting to empty config.\n"
     ]
    },
    {
     "name": "stderr",
     "output_type": "stream",
     "text": [
      "WARNING:tensorflow:Model's `__init__()` arguments contain non-serializable objects. Please implement a `get_config()` method in the subclassed Model for proper saving and loading. Defaulting to empty config.\n"
     ]
    },
    {
     "name": "stdout",
     "output_type": "stream",
     "text": [
      "23/23 [==============================] - 85s 4s/step - loss: 0.3456 - accuracy: 0.6736 - val_loss: 0.3611 - val_accuracy: 0.6897\n"
     ]
    }
   ],
   "source": [
    "history=model.fit(\n",
    "    train_data,\n",
    "    epochs=100,\n",
    "    validation_data=val_data,\n",
    "    callbacks=[\n",
    "        tf.keras.callbacks.TensorBoard(log_dir='logs'),\n",
    "        tf.keras.callbacks.ModelCheckpoint('ckpt',verbose=1,save_best_only=True)\n",
    "    ]\n",
    ")"
   ]
  },
  {
   "cell_type": "markdown",
   "metadata": {},
   "source": [
    "## Visualize Metrics"
   ]
  },
  {
   "cell_type": "code",
   "execution_count": 47,
   "metadata": {},
   "outputs": [
    {
     "name": "stdout",
     "output_type": "stream",
     "text": [
      "Model: \"chatbot_trainer\"\n",
      "_________________________________________________________________\n",
      " Layer (type)                Output Shape              Param #   \n",
      "=================================================================\n",
      " encoder (Encoder)           multiple                  1151232   \n",
      "                                                                 \n",
      " decoder (Decoder)           multiple                  1779083   \n",
      "                                                                 \n",
      "=================================================================\n",
      "Total params: 2,930,315\n",
      "Trainable params: 2,930,315\n",
      "Non-trainable params: 0\n",
      "_________________________________________________________________\n"
     ]
    }
   ],
   "source": [
    "# Printing the model summary\n",
    "model.summary()"
   ]
  },
  {
   "cell_type": "markdown",
   "metadata": {},
   "source": [
    "### Visualizes training loss and accuracy metrics over epochs, comparing performance on both training and validation data."
   ]
  },
  {
   "cell_type": "code",
   "execution_count": 48,
   "metadata": {},
   "outputs": [
    {
     "data": {
      "image/png": "[encoded data removed]",
      "text/plain": [
       "<Figure size 1440x360 with 2 Axes>"
      ]
     },
     "metadata": {},
     "output_type": "display_data"
    }
   ],
   "source": [
    "fig,ax=plt.subplots(nrows=1,ncols=2,figsize=(20,5))\n",
    "ax[0].plot(history.history['loss'],label='loss',c='red')\n",
    "ax[0].plot(history.history['val_loss'],label='val_loss',c = 'blue')\n",
    "ax[0].set_xlabel('Epochs')\n",
    "ax[1].set_xlabel('Epochs')\n",
    "ax[0].set_ylabel('Loss')\n",
    "ax[1].set_ylabel('Accuracy')\n",
    "ax[0].set_title('Loss Metrics')\n",
    "ax[1].set_title('Accuracy Metrics')\n",
    "ax[1].plot(history.history['accuracy'],label='accuracy')\n",
    "ax[1].plot(history.history['val_accuracy'],label='val_accuracy')\n",
    "ax[0].legend()\n",
    "ax[1].legend()\n",
    "plt.show()"
   ]
  },
  {
   "cell_type": "markdown",
   "metadata": {},
   "source": [
    "## Save Model"
   ]
  },
  {
   "cell_type": "code",
   "execution_count": 50,
   "metadata": {},
   "outputs": [
    {
     "name": "stdout",
     "output_type": "stream",
     "text": [
      "WARNING:tensorflow:Model's `__init__()` arguments contain non-serializable objects. Please implement a `get_config()` method in the subclassed Model for proper saving and loading. Defaulting to empty config.\n"
     ]
    },
    {
     "name": "stderr",
     "output_type": "stream",
     "text": [
      "WARNING:tensorflow:Model's `__init__()` arguments contain non-serializable objects. Please implement a `get_config()` method in the subclassed Model for proper saving and loading. Defaulting to empty config.\n"
     ]
    },
    {
     "name": "stdout",
     "output_type": "stream",
     "text": [
      "WARNING:tensorflow:Model's `__init__()` arguments contain non-serializable objects. Please implement a `get_config()` method in the subclassed Model for proper saving and loading. Defaulting to empty config.\n"
     ]
    },
    {
     "name": "stderr",
     "output_type": "stream",
     "text": [
      "WARNING:tensorflow:Model's `__init__()` arguments contain non-serializable objects. Please implement a `get_config()` method in the subclassed Model for proper saving and loading. Defaulting to empty config.\n",
      "WARNING:absl:Found untraced functions such as _update_step_xla, lstm_cell_2_layer_call_fn, lstm_cell_2_layer_call_and_return_conditional_losses, lstm_cell_3_layer_call_fn, lstm_cell_3_layer_call_and_return_conditional_losses while saving (showing 5 of 5). These functions will not be directly callable after loading.\n"
     ]
    },
    {
     "name": "stdout",
     "output_type": "stream",
     "text": [
      "INFO:tensorflow:Assets written to: models\\assets\n"
     ]
    },
    {
     "name": "stderr",
     "output_type": "stream",
     "text": [
      "INFO:tensorflow:Assets written to: models\\assets\n"
     ]
    },
    {
     "name": "stdout",
     "output_type": "stream",
     "text": [
      "WARNING:tensorflow:Model's `__init__()` arguments contain non-serializable objects. Please implement a `get_config()` method in the subclassed Model for proper saving and loading. Defaulting to empty config.\n"
     ]
    },
    {
     "name": "stderr",
     "output_type": "stream",
     "text": [
      "WARNING:tensorflow:Model's `__init__()` arguments contain non-serializable objects. Please implement a `get_config()` method in the subclassed Model for proper saving and loading. Defaulting to empty config.\n"
     ]
    },
    {
     "name": "stdout",
     "output_type": "stream",
     "text": [
      "WARNING:tensorflow:Model's `__init__()` arguments contain non-serializable objects. Please implement a `get_config()` method in the subclassed Model for proper saving and loading. Defaulting to empty config.\n"
     ]
    },
    {
     "name": "stderr",
     "output_type": "stream",
     "text": [
      "WARNING:tensorflow:Model's `__init__()` arguments contain non-serializable objects. Please implement a `get_config()` method in the subclassed Model for proper saving and loading. Defaulting to empty config.\n"
     ]
    }
   ],
   "source": [
    "import os\n",
    "\n",
    "cwd = os.getcwd()\n",
    "\n",
    "# model.load_weights(cwd+'/ckpt')\n",
    "model.save('models',save_format='tf')"
   ]
  },
  {
   "cell_type": "markdown",
   "metadata": {},
   "source": [
    "### Enumerates and prints the layers within the Encoder and Decoder components of the ChatBotTrainer model, providing a structured overview."
   ]
  },
  {
   "cell_type": "code",
   "execution_count": 51,
   "metadata": {},
   "outputs": [
    {
     "name": "stdout",
     "output_type": "stream",
     "text": [
      "Encoder layers:\n",
      "<keras.layers.core.embedding.Embedding object at 0x0000028609FDF5E0>\n",
      "<keras.layers.normalization.layer_normalization.LayerNormalization object at 0x0000028609FDD6F0>\n",
      "<keras.layers.rnn.lstm.LSTM object at 0x0000028676CA2E90>\n",
      "---------------------\n",
      "Decoder layers: \n",
      "<keras.layers.core.embedding.Embedding object at 0x0000028609FDF190>\n",
      "<keras.layers.normalization.layer_normalization.LayerNormalization object at 0x0000028609FDF0D0>\n",
      "<keras.layers.rnn.lstm.LSTM object at 0x0000028609FDE020>\n",
      "<keras.layers.core.dense.Dense object at 0x000002860A0740A0>\n",
      "---------------------\n"
     ]
    }
   ],
   "source": [
    "for idx,i in enumerate(model.layers):\n",
    "    print('Encoder layers:' if idx==0 else 'Decoder layers: ')\n",
    "    for j in i.layers:\n",
    "        print(j)\n",
    "    print('---------------------')"
   ]
  },
  {
   "cell_type": "markdown",
   "metadata": {},
   "source": [
    "## Create Inference Model"
   ]
  },
  {
   "cell_type": "markdown",
   "metadata": {},
   "source": [
    "### Builds an Inference model for the ChatBot, using the trained Encoder and Decoder models to predict responses."
   ]
  },
  {
   "cell_type": "code",
   "execution_count": 52,
   "metadata": {},
   "outputs": [],
   "source": [
    "class ChatBot(tf.keras.models.Model):\n",
    "    def __init__(self,base_encoder,base_decoder,*args,**kwargs):\n",
    "        super().__init__(*args,**kwargs)\n",
    "        self.encoder,self.decoder=self.build_inference_model(base_encoder,base_decoder)\n",
    "\n",
    "    def build_inference_model(self,base_encoder,base_decoder):\n",
    "        encoder_inputs=tf.keras.Input(shape=(None,))\n",
    "        x=base_encoder.layers[0](encoder_inputs)\n",
    "        x=base_encoder.layers[1](x)\n",
    "        x,encoder_state_h,encoder_state_c=base_encoder.layers[2](x)\n",
    "        encoder=tf.keras.models.Model(inputs=encoder_inputs,outputs=[encoder_state_h,encoder_state_c],name='chatbot_encoder')\n",
    "\n",
    "        decoder_input_state_h=tf.keras.Input(shape=(lstm_cells,))\n",
    "        decoder_input_state_c=tf.keras.Input(shape=(lstm_cells,))\n",
    "        decoder_inputs=tf.keras.Input(shape=(None,))\n",
    "        x=base_decoder.layers[0](decoder_inputs)\n",
    "        x=base_encoder.layers[1](x)\n",
    "        x,decoder_state_h,decoder_state_c=base_decoder.layers[2](x,initial_state=[decoder_input_state_h,decoder_input_state_c])\n",
    "        decoder_outputs=base_decoder.layers[-1](x)\n",
    "        decoder=tf.keras.models.Model(\n",
    "            inputs=[decoder_inputs,[decoder_input_state_h,decoder_input_state_c]],\n",
    "            outputs=[decoder_outputs,[decoder_state_h,decoder_state_c]],name='chatbot_decoder'\n",
    "        )\n",
    "        return encoder,decoder\n",
    "\n",
    "    def summary(self):\n",
    "        self.encoder.summary()\n",
    "        self.decoder.summary()\n",
    "\n",
    "    def softmax(self,z):\n",
    "        return np.exp(z)/sum(np.exp(z))\n",
    "\n",
    "    def sample(self,conditional_probability,temperature=0.5):\n",
    "        conditional_probability = np.asarray(conditional_probability).astype(\"float64\")\n",
    "        conditional_probability = np.log(conditional_probability) / temperature\n",
    "        reweighted_conditional_probability = self.softmax(conditional_probability)\n",
    "        probas = np.random.multinomial(1, reweighted_conditional_probability, 1)\n",
    "        return np.argmax(probas)\n",
    "\n",
    "    def preprocess(self,text):\n",
    "        text=clean_text(text)\n",
    "        seq=np.zeros((1,max_sequence_length),dtype=np.int32)\n",
    "        for i,word in enumerate(text.split()):\n",
    "            seq[:,i]=sequences2ids(word).numpy()[0]\n",
    "        return seq\n",
    "    \n",
    "    def postprocess(self,text):\n",
    "        text=re.sub(' - ','-',text.lower())\n",
    "        text=re.sub(' [.] ','. ',text)\n",
    "        text=re.sub(' [1] ','1',text)\n",
    "        text=re.sub(' [2] ','2',text)\n",
    "        text=re.sub(' [3] ','3',text)\n",
    "        text=re.sub(' [4] ','4',text)\n",
    "        text=re.sub(' [5] ','5',text)\n",
    "        text=re.sub(' [6] ','6',text)\n",
    "        text=re.sub(' [7] ','7',text)\n",
    "        text=re.sub(' [8] ','8',text)\n",
    "        text=re.sub(' [9] ','9',text)\n",
    "        text=re.sub(' [0] ','0',text)\n",
    "        text=re.sub(' [,] ',', ',text)\n",
    "        text=re.sub(' [?] ','? ',text)\n",
    "        text=re.sub(' [!] ','! ',text)\n",
    "        text=re.sub(' [$] ','$ ',text)\n",
    "        text=re.sub(' [&] ','& ',text)\n",
    "        text=re.sub(' [/] ','/ ',text)\n",
    "        text=re.sub(' [:] ',': ',text)\n",
    "        text=re.sub(' [;] ','; ',text)\n",
    "        text=re.sub(' [*] ','* ',text)\n",
    "        text=re.sub(' [\\'] ','\\'',text)\n",
    "        text=re.sub(' [\\\"] ','\\\"',text)\n",
    "        return text\n",
    "\n",
    "    def call(self,text,config=None):\n",
    "        input_seq=self.preprocess(text)\n",
    "        states=self.encoder(input_seq,training=False)\n",
    "        target_seq=np.zeros((1,1))\n",
    "        target_seq[:,:]=sequences2ids(['<start>']).numpy()[0][0]\n",
    "        stop_condition=False\n",
    "        decoded=[]\n",
    "        while not stop_condition:\n",
    "            decoder_outputs,new_states=self.decoder([target_seq,states],training=False)\n",
    "#             index=tf.argmax(decoder_outputs[:,-1,:],axis=-1).numpy().item()\n",
    "            index=self.sample(decoder_outputs[0,0,:]).item()\n",
    "            word=ids2sequences([index])\n",
    "            if word=='<end> ' or len(decoded)>=max_sequence_length:\n",
    "                stop_condition=True\n",
    "            else:\n",
    "                decoded.append(index)\n",
    "                target_seq=np.zeros((1,1))\n",
    "                target_seq[:,:]=index\n",
    "                states=new_states\n",
    "        return self.postprocess(ids2sequences(decoded))"
   ]
  },
  {
   "cell_type": "code",
   "execution_count": 53,
   "metadata": {},
   "outputs": [
    {
     "name": "stdout",
     "output_type": "stream",
     "text": [
      "Model: \"chatbot_encoder\"\n",
      "_________________________________________________________________\n",
      " Layer (type)                Output Shape              Param #   \n",
      "=================================================================\n",
      " input_1 (InputLayer)        [(None, None)]            0         \n",
      "                                                                 \n",
      " encoder_embedding (Embeddin  (None, None, 256)        625408    \n",
      " g)                                                              \n",
      "                                                                 \n",
      " layer_normalization_2 (Laye  (None, None, 256)        512       \n",
      " rNormalization)                                                 \n",
      "                                                                 \n",
      " encoder_lstm (LSTM)         [(None, None, 256),       525312    \n",
      "                              (None, 256),                       \n",
      "                              (None, 256)]                       \n",
      "                                                                 \n",
      "=================================================================\n",
      "Total params: 1,151,232\n",
      "Trainable params: 1,151,232\n",
      "Non-trainable params: 0\n",
      "_________________________________________________________________\n",
      "Model: \"chatbot_decoder\"\n",
      "__________________________________________________________________________________________________\n",
      " Layer (type)                   Output Shape         Param #     Connected to                     \n",
      "==================================================================================================\n",
      " input_4 (InputLayer)           [(None, None)]       0           []                               \n",
      "                                                                                                  \n",
      " decoder_embedding (Embedding)  (None, None, 256)    625408      ['input_4[0][0]']                \n",
      "                                                                                                  \n",
      " layer_normalization_2 (LayerNo  (None, None, 256)   512         ['decoder_embedding[0][0]']      \n",
      " rmalization)                                                                                     \n",
      "                                                                                                  \n",
      " input_2 (InputLayer)           [(None, 256)]        0           []                               \n",
      "                                                                                                  \n",
      " input_3 (InputLayer)           [(None, 256)]        0           []                               \n",
      "                                                                                                  \n",
      " decoder_lstm (LSTM)            [(None, None, 256),  525312      ['layer_normalization_2[1][0]',  \n",
      "                                 (None, 256),                     'input_2[0][0]',                \n",
      "                                 (None, 256)]                     'input_3[0][0]']                \n",
      "                                                                                                  \n",
      " decoder_dense (Dense)          (None, None, 2443)   627851      ['decoder_lstm[0][0]']           \n",
      "                                                                                                  \n",
      "==================================================================================================\n",
      "Total params: 1,779,083\n",
      "Trainable params: 1,779,083\n",
      "Non-trainable params: 0\n",
      "__________________________________________________________________________________________________\n"
     ]
    }
   ],
   "source": [
    "chatbot=ChatBot(model.encoder,model.decoder,name='chatbot')\n",
    "chatbot.summary()"
   ]
  },
  {
   "cell_type": "code",
   "execution_count": 54,
   "metadata": {},
   "outputs": [
    {
     "data": {
      "image/png": "[encoded data removed]",
      "text/plain": [
       "<IPython.core.display.Image object>"
      ]
     },
     "execution_count": 54,
     "metadata": {},
     "output_type": "execute_result"
    }
   ],
   "source": [
    "tf.keras.utils.plot_model(chatbot.encoder,to_file='encoder.png',show_shapes=True,show_layer_activations=True)"
   ]
  },
  {
   "cell_type": "markdown",
   "metadata": {},
   "source": [
    "## Test ChatBot"
   ]
  },
  {
   "cell_type": "code",
   "execution_count": 55,
   "metadata": {},
   "outputs": [],
   "source": [
    "def print_conversation(texts):\n",
    "    for text in texts:\n",
    "        print(f'You: {text}')\n",
    "        print(f'Bot: {chatbot(text)}')\n",
    "        print('========================')"
   ]
  },
  {
   "cell_type": "code",
   "execution_count": 57,
   "metadata": {},
   "outputs": [
    {
     "name": "stdout",
     "output_type": "stream",
     "text": [
      "You: hi, how are you doing?\t\n",
      "Bot: i'm fine. how about you? \n",
      "========================\n",
      "You: yes, I am doing great\n",
      "Bot: you're not the going to go to the bathroom. \n",
      "========================\n",
      "You: what is your name?\n",
      "Bot: it's a yearly reminder to take care of our planet. \n",
      "========================\n",
      "You: are you a human or a bot?\n",
      "Bot: yes, i did. a site i have a pen. \n",
      "========================\n",
      "You: what is your favorite color?\n",
      "Bot: i have to do something tomorrow. \n",
      "========================\n",
      "You: what is your favorite food?\n",
      "Bot: i'm not sure. \n",
      "========================\n",
      "You: what is your favorite movie?\n",
      "Bot: my favorite movie is superbad. \n",
      "========================\n"
     ]
    }
   ],
   "source": [
    "print_conversation([\n",
    "    'hi, how are you doing?\t',\n",
    "    'yes, I am doing great',\n",
    "    'what is your name?',\n",
    "    'are you a human or a bot?',\n",
    "    'what is your favorite color?',\n",
    "    'what is your favorite food?',\n",
    "    'what is your favorite movie?',\n",
    "])"
   ]
  },
  {
   "cell_type": "code",
   "execution_count": null,
   "metadata": {},
   "outputs": [],
   "source": []
  }
 ],
 "metadata": {
  "kernelspec": {
   "display_name": "Python 3",
   "language": "python",
   "name": "python3"
  },
  "language_info": {
   "codemirror_mode": {
    "name": "ipython",
    "version": 3
   },
   "file_extension": ".py",
   "mimetype": "text/x-python",
   "name": "python",
   "nbconvert_exporter": "python",
   "pygments_lexer": "ipython3",
   "version": "3.10.11"
  }
 },
 "nbformat": 4,
 "nbformat_minor": 2
}
