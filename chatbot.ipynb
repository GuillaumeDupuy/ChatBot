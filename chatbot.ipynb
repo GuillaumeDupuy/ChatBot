{
 "cells": [
  {
   "cell_type": "markdown",
   "metadata": {},
   "source": [
    "## Import Libraries"
   ]
  },
  {
   "cell_type": "code",
   "execution_count": 4,
   "metadata": {},
   "outputs": [],
   "source": [
    "import tensorflow as tf\n",
    "import numpy as np\n",
    "import pandas as pd\n",
    "import matplotlib.pyplot as plt\n",
    "import seaborn as sns\n",
    "from tensorflow.keras.layers import TextVectorization\n",
    "import re,string\n",
    "from tensorflow.keras.layers import LSTM,Dense,Embedding,Dropout,LayerNormalization"
   ]
  },
  {
   "cell_type": "markdown",
   "metadata": {},
   "source": [
    "## Dataset"
   ]
  },
  {
   "cell_type": "code",
   "execution_count": 5,
   "metadata": {},
   "outputs": [],
   "source": [
    "df = pd.read_csv('questions_answers.csv', sep='\\t')"
   ]
  },
  {
   "cell_type": "markdown",
   "metadata": {},
   "source": [
    "### Explore the dataset"
   ]
  },
  {
   "cell_type": "code",
   "execution_count": 6,
   "metadata": {},
   "outputs": [
    {
     "data": {
      "text/html": [
       "<div>\n",
       "<style scoped>\n",
       "    .dataframe tbody tr th:only-of-type {\n",
       "        vertical-align: middle;\n",
       "    }\n",
       "\n",
       "    .dataframe tbody tr th {\n",
       "        vertical-align: top;\n",
       "    }\n",
       "\n",
       "    .dataframe thead th {\n",
       "        text-align: right;\n",
       "    }\n",
       "</style>\n",
       "<table border=\"1\" class=\"dataframe\">\n",
       "  <thead>\n",
       "    <tr style=\"text-align: right;\">\n",
       "      <th></th>\n",
       "      <th>question</th>\n",
       "      <th>reponse</th>\n",
       "    </tr>\n",
       "  </thead>\n",
       "  <tbody>\n",
       "    <tr>\n",
       "      <th>0</th>\n",
       "      <td>hi, how are you doing?</td>\n",
       "      <td>i'm fine. how about yourself?</td>\n",
       "    </tr>\n",
       "    <tr>\n",
       "      <th>1</th>\n",
       "      <td>i'm fine. how about yourself?</td>\n",
       "      <td>i'm pretty good. thanks for asking.</td>\n",
       "    </tr>\n",
       "    <tr>\n",
       "      <th>2</th>\n",
       "      <td>i'm pretty good. thanks for asking.</td>\n",
       "      <td>no problem. so how have you been?</td>\n",
       "    </tr>\n",
       "    <tr>\n",
       "      <th>3</th>\n",
       "      <td>no problem. so how have you been?</td>\n",
       "      <td>i've been great. what about you?</td>\n",
       "    </tr>\n",
       "    <tr>\n",
       "      <th>4</th>\n",
       "      <td>i've been great. what about you?</td>\n",
       "      <td>i've been good. i'm in school right now.</td>\n",
       "    </tr>\n",
       "  </tbody>\n",
       "</table>\n",
       "</div>"
      ],
      "text/plain": [
       "                              question  \\\n",
       "0               hi, how are you doing?   \n",
       "1        i'm fine. how about yourself?   \n",
       "2  i'm pretty good. thanks for asking.   \n",
       "3    no problem. so how have you been?   \n",
       "4     i've been great. what about you?   \n",
       "\n",
       "                                    reponse  \n",
       "0             i'm fine. how about yourself?  \n",
       "1       i'm pretty good. thanks for asking.  \n",
       "2         no problem. so how have you been?  \n",
       "3          i've been great. what about you?  \n",
       "4  i've been good. i'm in school right now.  "
      ]
     },
     "execution_count": 6,
     "metadata": {},
     "output_type": "execute_result"
    }
   ],
   "source": [
    "df.head()"
   ]
  },
  {
   "cell_type": "code",
   "execution_count": 7,
   "metadata": {},
   "outputs": [
    {
     "data": {
      "text/plain": [
       "(3725, 2)"
      ]
     },
     "execution_count": 7,
     "metadata": {},
     "output_type": "execute_result"
    }
   ],
   "source": [
    "df.shape"
   ]
  },
  {
   "cell_type": "markdown",
   "metadata": {},
   "source": [
    "## Data Preprocessing"
   ]
  },
  {
   "cell_type": "code",
   "execution_count": 8,
   "metadata": {},
   "outputs": [],
   "source": [
    "df['question tokens']=df['question'].apply(lambda x:len(x.split()))\n",
    "df['reponse tokens']=df['reponse'].apply(lambda x:len(x.split()))"
   ]
  },
  {
   "cell_type": "code",
   "execution_count": 9,
   "metadata": {},
   "outputs": [
    {
     "data": {
      "text/html": [
       "<div>\n",
       "<style scoped>\n",
       "    .dataframe tbody tr th:only-of-type {\n",
       "        vertical-align: middle;\n",
       "    }\n",
       "\n",
       "    .dataframe tbody tr th {\n",
       "        vertical-align: top;\n",
       "    }\n",
       "\n",
       "    .dataframe thead th {\n",
       "        text-align: right;\n",
       "    }\n",
       "</style>\n",
       "<table border=\"1\" class=\"dataframe\">\n",
       "  <thead>\n",
       "    <tr style=\"text-align: right;\">\n",
       "      <th></th>\n",
       "      <th>question</th>\n",
       "      <th>reponse</th>\n",
       "      <th>question tokens</th>\n",
       "      <th>reponse tokens</th>\n",
       "    </tr>\n",
       "  </thead>\n",
       "  <tbody>\n",
       "    <tr>\n",
       "      <th>0</th>\n",
       "      <td>hi, how are you doing?</td>\n",
       "      <td>i'm fine. how about yourself?</td>\n",
       "      <td>5</td>\n",
       "      <td>5</td>\n",
       "    </tr>\n",
       "    <tr>\n",
       "      <th>1</th>\n",
       "      <td>i'm fine. how about yourself?</td>\n",
       "      <td>i'm pretty good. thanks for asking.</td>\n",
       "      <td>5</td>\n",
       "      <td>6</td>\n",
       "    </tr>\n",
       "    <tr>\n",
       "      <th>2</th>\n",
       "      <td>i'm pretty good. thanks for asking.</td>\n",
       "      <td>no problem. so how have you been?</td>\n",
       "      <td>6</td>\n",
       "      <td>7</td>\n",
       "    </tr>\n",
       "    <tr>\n",
       "      <th>3</th>\n",
       "      <td>no problem. so how have you been?</td>\n",
       "      <td>i've been great. what about you?</td>\n",
       "      <td>7</td>\n",
       "      <td>6</td>\n",
       "    </tr>\n",
       "    <tr>\n",
       "      <th>4</th>\n",
       "      <td>i've been great. what about you?</td>\n",
       "      <td>i've been good. i'm in school right now.</td>\n",
       "      <td>6</td>\n",
       "      <td>8</td>\n",
       "    </tr>\n",
       "    <tr>\n",
       "      <th>...</th>\n",
       "      <td>...</td>\n",
       "      <td>...</td>\n",
       "      <td>...</td>\n",
       "      <td>...</td>\n",
       "    </tr>\n",
       "    <tr>\n",
       "      <th>3720</th>\n",
       "      <td>that's a good question. maybe it's not old age.</td>\n",
       "      <td>are you right-handed?</td>\n",
       "      <td>9</td>\n",
       "      <td>3</td>\n",
       "    </tr>\n",
       "    <tr>\n",
       "      <th>3721</th>\n",
       "      <td>are you right-handed?</td>\n",
       "      <td>yes. all my life.</td>\n",
       "      <td>3</td>\n",
       "      <td>4</td>\n",
       "    </tr>\n",
       "    <tr>\n",
       "      <th>3722</th>\n",
       "      <td>yes. all my life.</td>\n",
       "      <td>you're wearing out your right hand. stop using...</td>\n",
       "      <td>4</td>\n",
       "      <td>11</td>\n",
       "    </tr>\n",
       "    <tr>\n",
       "      <th>3723</th>\n",
       "      <td>you're wearing out your right hand. stop using...</td>\n",
       "      <td>but i do all my writing with my right hand.</td>\n",
       "      <td>11</td>\n",
       "      <td>10</td>\n",
       "    </tr>\n",
       "    <tr>\n",
       "      <th>3724</th>\n",
       "      <td>but i do all my writing with my right hand.</td>\n",
       "      <td>start typing instead. that way your left hand ...</td>\n",
       "      <td>10</td>\n",
       "      <td>13</td>\n",
       "    </tr>\n",
       "  </tbody>\n",
       "</table>\n",
       "<p>3725 rows × 4 columns</p>\n",
       "</div>"
      ],
      "text/plain": [
       "                                               question  \\\n",
       "0                                hi, how are you doing?   \n",
       "1                         i'm fine. how about yourself?   \n",
       "2                   i'm pretty good. thanks for asking.   \n",
       "3                     no problem. so how have you been?   \n",
       "4                      i've been great. what about you?   \n",
       "...                                                 ...   \n",
       "3720    that's a good question. maybe it's not old age.   \n",
       "3721                              are you right-handed?   \n",
       "3722                                  yes. all my life.   \n",
       "3723  you're wearing out your right hand. stop using...   \n",
       "3724        but i do all my writing with my right hand.   \n",
       "\n",
       "                                                reponse  question tokens  \\\n",
       "0                         i'm fine. how about yourself?                5   \n",
       "1                   i'm pretty good. thanks for asking.                5   \n",
       "2                     no problem. so how have you been?                6   \n",
       "3                      i've been great. what about you?                7   \n",
       "4              i've been good. i'm in school right now.                6   \n",
       "...                                                 ...              ...   \n",
       "3720                              are you right-handed?                9   \n",
       "3721                                  yes. all my life.                3   \n",
       "3722  you're wearing out your right hand. stop using...                4   \n",
       "3723        but i do all my writing with my right hand.               11   \n",
       "3724  start typing instead. that way your left hand ...               10   \n",
       "\n",
       "      reponse tokens  \n",
       "0                  5  \n",
       "1                  6  \n",
       "2                  7  \n",
       "3                  6  \n",
       "4                  8  \n",
       "...              ...  \n",
       "3720               3  \n",
       "3721               4  \n",
       "3722              11  \n",
       "3723              10  \n",
       "3724              13  \n",
       "\n",
       "[3725 rows x 4 columns]"
      ]
     },
     "execution_count": 9,
     "metadata": {},
     "output_type": "execute_result"
    }
   ],
   "source": [
    "df"
   ]
  },
  {
   "cell_type": "markdown",
   "metadata": {},
   "source": [
    "### Plot the number of tokens in each sentence"
   ]
  },
  {
   "cell_type": "code",
   "execution_count": 10,
   "metadata": {},
   "outputs": [
    {
     "data": {
      "image/png": "[encoded data removed]",
      "text/plain": [
       "<Figure size 1440x360 with 2 Axes>"
      ]
     },
     "metadata": {},
     "output_type": "display_data"
    },
    {
     "data": {
      "image/png": "[encoded data removed]",
      "text/plain": [
       "<Figure size 432x432 with 3 Axes>"
      ]
     },
     "metadata": {},
     "output_type": "display_data"
    }
   ],
   "source": [
    "plt.style.use('fivethirtyeight')\n",
    "fig,ax=plt.subplots(nrows=1,ncols=2,figsize=(20,5))\n",
    "sns.set_palette('Set2')\n",
    "sns.histplot(x=df['question tokens'],data=df,kde=True,ax=ax[0])\n",
    "sns.histplot(x=df['reponse tokens'],data=df,kde=True,ax=ax[1])\n",
    "sns.jointplot(x='question tokens',y='reponse tokens',data=df,kind='kde',fill=True,cmap='YlGnBu')\n",
    "plt.show()"
   ]
  },
  {
   "cell_type": "markdown",
   "metadata": {},
   "source": [
    "### Clean the text"
   ]
  },
  {
   "cell_type": "code",
   "execution_count": 11,
   "metadata": {},
   "outputs": [],
   "source": [
    "def clean_text(text):\n",
    "    text=re.sub('-',' ',text.lower())\n",
    "    text=re.sub('[.]',' . ',text)\n",
    "    text=re.sub('[1]',' 1 ',text)\n",
    "    text=re.sub('[2]',' 2 ',text)\n",
    "    text=re.sub('[3]',' 3 ',text)\n",
    "    text=re.sub('[4]',' 4 ',text)\n",
    "    text=re.sub('[5]',' 5 ',text)\n",
    "    text=re.sub('[6]',' 6 ',text)\n",
    "    text=re.sub('[7]',' 7 ',text)\n",
    "    text=re.sub('[8]',' 8 ',text)\n",
    "    text=re.sub('[9]',' 9 ',text)\n",
    "    text=re.sub('[0]',' 0 ',text)\n",
    "    text=re.sub('[,]',' , ',text)\n",
    "    text=re.sub('[?]',' ? ',text)\n",
    "    text=re.sub('[!]',' ! ',text)\n",
    "    text=re.sub('[$]',' $ ',text)\n",
    "    text=re.sub('[&]',' & ',text)\n",
    "    text=re.sub('[/]',' / ',text)\n",
    "    text=re.sub('[:]',' : ',text)\n",
    "    text=re.sub('[;]',' ; ',text)\n",
    "    text=re.sub('[*]',' * ',text)\n",
    "    text=re.sub('[\\']',' \\' ',text)\n",
    "    text=re.sub('[\\\"]',' \\\" ',text)\n",
    "    text=re.sub('\\t',' ',text)\n",
    "    return text"
   ]
  },
  {
   "cell_type": "code",
   "execution_count": 12,
   "metadata": {},
   "outputs": [
    {
     "data": {
      "text/html": [
       "<div>\n",
       "<style scoped>\n",
       "    .dataframe tbody tr th:only-of-type {\n",
       "        vertical-align: middle;\n",
       "    }\n",
       "\n",
       "    .dataframe tbody tr th {\n",
       "        vertical-align: top;\n",
       "    }\n",
       "\n",
       "    .dataframe thead th {\n",
       "        text-align: right;\n",
       "    }\n",
       "</style>\n",
       "<table border=\"1\" class=\"dataframe\">\n",
       "  <thead>\n",
       "    <tr style=\"text-align: right;\">\n",
       "      <th></th>\n",
       "      <th>question</th>\n",
       "      <th>reponse</th>\n",
       "      <th>encoder_inputs</th>\n",
       "      <th>decoder_targets</th>\n",
       "      <th>decoder_inputs</th>\n",
       "    </tr>\n",
       "  </thead>\n",
       "  <tbody>\n",
       "    <tr>\n",
       "      <th>0</th>\n",
       "      <td>hi, how are you doing?</td>\n",
       "      <td>i'm fine. how about yourself?</td>\n",
       "      <td>hi ,  how are you doing ?</td>\n",
       "      <td>i ' m fine .  how about yourself ?  &lt;end&gt;</td>\n",
       "      <td>&lt;start&gt; i ' m fine .  how about yourself ?  &lt;end&gt;</td>\n",
       "    </tr>\n",
       "    <tr>\n",
       "      <th>1</th>\n",
       "      <td>i'm fine. how about yourself?</td>\n",
       "      <td>i'm pretty good. thanks for asking.</td>\n",
       "      <td>i ' m fine .  how about yourself ?</td>\n",
       "      <td>i ' m pretty good .  thanks for asking .  &lt;end&gt;</td>\n",
       "      <td>&lt;start&gt; i ' m pretty good .  thanks for asking...</td>\n",
       "    </tr>\n",
       "    <tr>\n",
       "      <th>2</th>\n",
       "      <td>i'm pretty good. thanks for asking.</td>\n",
       "      <td>no problem. so how have you been?</td>\n",
       "      <td>i ' m pretty good .  thanks for asking .</td>\n",
       "      <td>no problem .  so how have you been ?  &lt;end&gt;</td>\n",
       "      <td>&lt;start&gt; no problem .  so how have you been ?  ...</td>\n",
       "    </tr>\n",
       "    <tr>\n",
       "      <th>3</th>\n",
       "      <td>no problem. so how have you been?</td>\n",
       "      <td>i've been great. what about you?</td>\n",
       "      <td>no problem .  so how have you been ?</td>\n",
       "      <td>i ' ve been great .  what about you ?  &lt;end&gt;</td>\n",
       "      <td>&lt;start&gt; i ' ve been great .  what about you ? ...</td>\n",
       "    </tr>\n",
       "    <tr>\n",
       "      <th>4</th>\n",
       "      <td>i've been great. what about you?</td>\n",
       "      <td>i've been good. i'm in school right now.</td>\n",
       "      <td>i ' ve been great .  what about you ?</td>\n",
       "      <td>i ' ve been good .  i ' m in school right now ...</td>\n",
       "      <td>&lt;start&gt; i ' ve been good .  i ' m in school ri...</td>\n",
       "    </tr>\n",
       "    <tr>\n",
       "      <th>5</th>\n",
       "      <td>i've been good. i'm in school right now.</td>\n",
       "      <td>what school do you go to?</td>\n",
       "      <td>i ' ve been good .  i ' m in school right now .</td>\n",
       "      <td>what school do you go to ?  &lt;end&gt;</td>\n",
       "      <td>&lt;start&gt; what school do you go to ?  &lt;end&gt;</td>\n",
       "    </tr>\n",
       "    <tr>\n",
       "      <th>6</th>\n",
       "      <td>what school do you go to?</td>\n",
       "      <td>i go to pcc.</td>\n",
       "      <td>what school do you go to ?</td>\n",
       "      <td>i go to pcc .  &lt;end&gt;</td>\n",
       "      <td>&lt;start&gt; i go to pcc .  &lt;end&gt;</td>\n",
       "    </tr>\n",
       "    <tr>\n",
       "      <th>7</th>\n",
       "      <td>i go to pcc.</td>\n",
       "      <td>do you like it there?</td>\n",
       "      <td>i go to pcc .</td>\n",
       "      <td>do you like it there ?  &lt;end&gt;</td>\n",
       "      <td>&lt;start&gt; do you like it there ?  &lt;end&gt;</td>\n",
       "    </tr>\n",
       "    <tr>\n",
       "      <th>8</th>\n",
       "      <td>do you like it there?</td>\n",
       "      <td>it's okay. it's a really big campus.</td>\n",
       "      <td>do you like it there ?</td>\n",
       "      <td>it ' s okay .  it ' s a really big campus .  &lt;...</td>\n",
       "      <td>&lt;start&gt; it ' s okay .  it ' s a really big cam...</td>\n",
       "    </tr>\n",
       "    <tr>\n",
       "      <th>9</th>\n",
       "      <td>it's okay. it's a really big campus.</td>\n",
       "      <td>good luck with school.</td>\n",
       "      <td>it ' s okay .  it ' s a really big campus .</td>\n",
       "      <td>good luck with school .  &lt;end&gt;</td>\n",
       "      <td>&lt;start&gt; good luck with school .  &lt;end&gt;</td>\n",
       "    </tr>\n",
       "  </tbody>\n",
       "</table>\n",
       "</div>"
      ],
      "text/plain": [
       "                                   question  \\\n",
       "0                    hi, how are you doing?   \n",
       "1             i'm fine. how about yourself?   \n",
       "2       i'm pretty good. thanks for asking.   \n",
       "3         no problem. so how have you been?   \n",
       "4          i've been great. what about you?   \n",
       "5  i've been good. i'm in school right now.   \n",
       "6                 what school do you go to?   \n",
       "7                              i go to pcc.   \n",
       "8                     do you like it there?   \n",
       "9      it's okay. it's a really big campus.   \n",
       "\n",
       "                                    reponse  \\\n",
       "0             i'm fine. how about yourself?   \n",
       "1       i'm pretty good. thanks for asking.   \n",
       "2         no problem. so how have you been?   \n",
       "3          i've been great. what about you?   \n",
       "4  i've been good. i'm in school right now.   \n",
       "5                 what school do you go to?   \n",
       "6                              i go to pcc.   \n",
       "7                     do you like it there?   \n",
       "8      it's okay. it's a really big campus.   \n",
       "9                    good luck with school.   \n",
       "\n",
       "                                     encoder_inputs  \\\n",
       "0                        hi ,  how are you doing ?    \n",
       "1               i ' m fine .  how about yourself ?    \n",
       "2         i ' m pretty good .  thanks for asking .    \n",
       "3             no problem .  so how have you been ?    \n",
       "4            i ' ve been great .  what about you ?    \n",
       "5  i ' ve been good .  i ' m in school right now .    \n",
       "6                       what school do you go to ?    \n",
       "7                                    i go to pcc .    \n",
       "8                           do you like it there ?    \n",
       "9      it ' s okay .  it ' s a really big campus .    \n",
       "\n",
       "                                     decoder_targets  \\\n",
       "0          i ' m fine .  how about yourself ?  <end>   \n",
       "1    i ' m pretty good .  thanks for asking .  <end>   \n",
       "2        no problem .  so how have you been ?  <end>   \n",
       "3       i ' ve been great .  what about you ?  <end>   \n",
       "4  i ' ve been good .  i ' m in school right now ...   \n",
       "5                  what school do you go to ?  <end>   \n",
       "6                               i go to pcc .  <end>   \n",
       "7                      do you like it there ?  <end>   \n",
       "8  it ' s okay .  it ' s a really big campus .  <...   \n",
       "9                     good luck with school .  <end>   \n",
       "\n",
       "                                      decoder_inputs  \n",
       "0  <start> i ' m fine .  how about yourself ?  <end>  \n",
       "1  <start> i ' m pretty good .  thanks for asking...  \n",
       "2  <start> no problem .  so how have you been ?  ...  \n",
       "3  <start> i ' ve been great .  what about you ? ...  \n",
       "4  <start> i ' ve been good .  i ' m in school ri...  \n",
       "5          <start> what school do you go to ?  <end>  \n",
       "6                       <start> i go to pcc .  <end>  \n",
       "7              <start> do you like it there ?  <end>  \n",
       "8  <start> it ' s okay .  it ' s a really big cam...  \n",
       "9             <start> good luck with school .  <end>  "
      ]
     },
     "execution_count": 12,
     "metadata": {},
     "output_type": "execute_result"
    }
   ],
   "source": [
    "# Dropping Unnecessary Columns\n",
    "df.drop(columns=['reponse tokens','question tokens'],axis=1,inplace=True)\n",
    "# Cleaning Text Data\n",
    "df['encoder_inputs']=df['question'].apply(clean_text)\n",
    "df['decoder_targets']=df['reponse'].apply(clean_text)+' <end>'\n",
    "df['decoder_inputs']='<start> '+df['reponse'].apply(clean_text)+' <end>'\n",
    "\n",
    "df.head(10)"
   ]
  },
  {
   "cell_type": "code",
   "execution_count": 13,
   "metadata": {},
   "outputs": [],
   "source": [
    "# Counting Tokens in Encoder, Decoder Inputs & Decoder Targets\n",
    "df['encoder input tokens']=df['encoder_inputs'].apply(lambda x:len(x.split()))\n",
    "df['decoder input tokens']=df['decoder_inputs'].apply(lambda x:len(x.split()))\n",
    "df['decoder target tokens']=df['decoder_targets'].apply(lambda x:len(x.split()))"
   ]
  },
  {
   "cell_type": "markdown",
   "metadata": {},
   "source": [
    "### Visualizes token distributions in questions and responses, and their density relationship."
   ]
  },
  {
   "cell_type": "code",
   "execution_count": 14,
   "metadata": {},
   "outputs": [
    {
     "data": {
      "image/png": "[encoded data removed]",
      "text/plain": [
       "<Figure size 1440x360 with 3 Axes>"
      ]
     },
     "metadata": {},
     "output_type": "display_data"
    },
    {
     "data": {
      "image/png": "[encoded data removed]",
      "text/plain": [
       "<Figure size 432x432 with 3 Axes>"
      ]
     },
     "metadata": {},
     "output_type": "display_data"
    }
   ],
   "source": [
    "plt.style.use('fivethirtyeight')\n",
    "fig,ax=plt.subplots(nrows=1,ncols=3,figsize=(20,5))\n",
    "sns.set_palette('Set2')\n",
    "sns.histplot(x=df['encoder input tokens'],data=df,kde=True,ax=ax[0])\n",
    "sns.histplot(x=df['decoder input tokens'],data=df,kde=True,ax=ax[1])\n",
    "sns.histplot(x=df['decoder target tokens'],data=df,kde=True,ax=ax[2])\n",
    "sns.jointplot(x='encoder input tokens',y='decoder target tokens',data=df,kind='kde',fill=True,cmap='YlGnBu')\n",
    "plt.show()"
   ]
  },
  {
   "cell_type": "code",
   "execution_count": 15,
   "metadata": {},
   "outputs": [
    {
     "name": "stdout",
     "output_type": "stream",
     "text": [
      "After preprocessing: for example ,  if your birth date is january  1  2  ,   1  9  8  7  ,  write  0  1  /  1  2  /  8  7  . \n",
      "Max encoder input length: 27\n",
      "Max decoder input length: 29\n",
      "Max decoder target length: 28\n"
     ]
    }
   ],
   "source": [
    "print(f\"After preprocessing: {' '.join(df[df['encoder input tokens'].max()==df['encoder input tokens']]['encoder_inputs'].values.tolist())}\")\n",
    "print(f\"Max encoder input length: {df['encoder input tokens'].max()}\")\n",
    "print(f\"Max decoder input length: {df['decoder input tokens'].max()}\")\n",
    "print(f\"Max decoder target length: {df['decoder target tokens'].max()}\")\n",
    "\n",
    "df.drop(columns=['question','reponse','encoder input tokens','decoder input tokens','decoder target tokens'],axis=1,inplace=True)"
   ]
  },
  {
   "cell_type": "code",
   "execution_count": 16,
   "metadata": {},
   "outputs": [],
   "source": [
    "# Model Parameters & Hyperparameters with LSTM\n",
    "params={\n",
    "    \"vocab_size\":2500,\n",
    "    \"max_sequence_length\":30,\n",
    "    \"learning_rate\":0.008,\n",
    "    \"batch_size\":149,\n",
    "    \"lstm_cells\":256,\n",
    "    \"embedding_dim\":256,\n",
    "    \"buffer_size\":10000\n",
    "}\n",
    "learning_rate=params['learning_rate']\n",
    "batch_size=params['batch_size']\n",
    "embedding_dim=params['embedding_dim']\n",
    "lstm_cells=params['lstm_cells']\n",
    "vocab_size=params['vocab_size']\n",
    "buffer_size=params['buffer_size']\n",
    "max_sequence_length=params['max_sequence_length']"
   ]
  },
  {
   "cell_type": "code",
   "execution_count": 17,
   "metadata": {},
   "outputs": [
    {
     "data": {
      "text/html": [
       "<div>\n",
       "<style scoped>\n",
       "    .dataframe tbody tr th:only-of-type {\n",
       "        vertical-align: middle;\n",
       "    }\n",
       "\n",
       "    .dataframe tbody tr th {\n",
       "        vertical-align: top;\n",
       "    }\n",
       "\n",
       "    .dataframe thead th {\n",
       "        text-align: right;\n",
       "    }\n",
       "</style>\n",
       "<table border=\"1\" class=\"dataframe\">\n",
       "  <thead>\n",
       "    <tr style=\"text-align: right;\">\n",
       "      <th></th>\n",
       "      <th>encoder_inputs</th>\n",
       "      <th>decoder_targets</th>\n",
       "      <th>decoder_inputs</th>\n",
       "    </tr>\n",
       "  </thead>\n",
       "  <tbody>\n",
       "    <tr>\n",
       "      <th>0</th>\n",
       "      <td>hi ,  how are you doing ?</td>\n",
       "      <td>i ' m fine .  how about yourself ?  &lt;end&gt;</td>\n",
       "      <td>&lt;start&gt; i ' m fine .  how about yourself ?  &lt;end&gt;</td>\n",
       "    </tr>\n",
       "    <tr>\n",
       "      <th>1</th>\n",
       "      <td>i ' m fine .  how about yourself ?</td>\n",
       "      <td>i ' m pretty good .  thanks for asking .  &lt;end&gt;</td>\n",
       "      <td>&lt;start&gt; i ' m pretty good .  thanks for asking...</td>\n",
       "    </tr>\n",
       "    <tr>\n",
       "      <th>2</th>\n",
       "      <td>i ' m pretty good .  thanks for asking .</td>\n",
       "      <td>no problem .  so how have you been ?  &lt;end&gt;</td>\n",
       "      <td>&lt;start&gt; no problem .  so how have you been ?  ...</td>\n",
       "    </tr>\n",
       "    <tr>\n",
       "      <th>3</th>\n",
       "      <td>no problem .  so how have you been ?</td>\n",
       "      <td>i ' ve been great .  what about you ?  &lt;end&gt;</td>\n",
       "      <td>&lt;start&gt; i ' ve been great .  what about you ? ...</td>\n",
       "    </tr>\n",
       "    <tr>\n",
       "      <th>4</th>\n",
       "      <td>i ' ve been great .  what about you ?</td>\n",
       "      <td>i ' ve been good .  i ' m in school right now ...</td>\n",
       "      <td>&lt;start&gt; i ' ve been good .  i ' m in school ri...</td>\n",
       "    </tr>\n",
       "    <tr>\n",
       "      <th>5</th>\n",
       "      <td>i ' ve been good .  i ' m in school right now .</td>\n",
       "      <td>what school do you go to ?  &lt;end&gt;</td>\n",
       "      <td>&lt;start&gt; what school do you go to ?  &lt;end&gt;</td>\n",
       "    </tr>\n",
       "    <tr>\n",
       "      <th>6</th>\n",
       "      <td>what school do you go to ?</td>\n",
       "      <td>i go to pcc .  &lt;end&gt;</td>\n",
       "      <td>&lt;start&gt; i go to pcc .  &lt;end&gt;</td>\n",
       "    </tr>\n",
       "    <tr>\n",
       "      <th>7</th>\n",
       "      <td>i go to pcc .</td>\n",
       "      <td>do you like it there ?  &lt;end&gt;</td>\n",
       "      <td>&lt;start&gt; do you like it there ?  &lt;end&gt;</td>\n",
       "    </tr>\n",
       "    <tr>\n",
       "      <th>8</th>\n",
       "      <td>do you like it there ?</td>\n",
       "      <td>it ' s okay .  it ' s a really big campus .  &lt;...</td>\n",
       "      <td>&lt;start&gt; it ' s okay .  it ' s a really big cam...</td>\n",
       "    </tr>\n",
       "    <tr>\n",
       "      <th>9</th>\n",
       "      <td>it ' s okay .  it ' s a really big campus .</td>\n",
       "      <td>good luck with school .  &lt;end&gt;</td>\n",
       "      <td>&lt;start&gt; good luck with school .  &lt;end&gt;</td>\n",
       "    </tr>\n",
       "  </tbody>\n",
       "</table>\n",
       "</div>"
      ],
      "text/plain": [
       "                                     encoder_inputs  \\\n",
       "0                        hi ,  how are you doing ?    \n",
       "1               i ' m fine .  how about yourself ?    \n",
       "2         i ' m pretty good .  thanks for asking .    \n",
       "3             no problem .  so how have you been ?    \n",
       "4            i ' ve been great .  what about you ?    \n",
       "5  i ' ve been good .  i ' m in school right now .    \n",
       "6                       what school do you go to ?    \n",
       "7                                    i go to pcc .    \n",
       "8                           do you like it there ?    \n",
       "9      it ' s okay .  it ' s a really big campus .    \n",
       "\n",
       "                                     decoder_targets  \\\n",
       "0          i ' m fine .  how about yourself ?  <end>   \n",
       "1    i ' m pretty good .  thanks for asking .  <end>   \n",
       "2        no problem .  so how have you been ?  <end>   \n",
       "3       i ' ve been great .  what about you ?  <end>   \n",
       "4  i ' ve been good .  i ' m in school right now ...   \n",
       "5                  what school do you go to ?  <end>   \n",
       "6                               i go to pcc .  <end>   \n",
       "7                      do you like it there ?  <end>   \n",
       "8  it ' s okay .  it ' s a really big campus .  <...   \n",
       "9                     good luck with school .  <end>   \n",
       "\n",
       "                                      decoder_inputs  \n",
       "0  <start> i ' m fine .  how about yourself ?  <end>  \n",
       "1  <start> i ' m pretty good .  thanks for asking...  \n",
       "2  <start> no problem .  so how have you been ?  ...  \n",
       "3  <start> i ' ve been great .  what about you ? ...  \n",
       "4  <start> i ' ve been good .  i ' m in school ri...  \n",
       "5          <start> what school do you go to ?  <end>  \n",
       "6                       <start> i go to pcc .  <end>  \n",
       "7              <start> do you like it there ?  <end>  \n",
       "8  <start> it ' s okay .  it ' s a really big cam...  \n",
       "9             <start> good luck with school .  <end>  "
      ]
     },
     "execution_count": 17,
     "metadata": {},
     "output_type": "execute_result"
    }
   ],
   "source": [
    "df.head(10)"
   ]
  },
  {
   "cell_type": "markdown",
   "metadata": {},
   "source": [
    "## Tokenization"
   ]
  },
  {
   "cell_type": "markdown",
   "metadata": {},
   "source": [
    "### Configures text vectorization, adapting it to both inputs and targets, and displays the updated vocabulary size and top tokens."
   ]
  },
  {
   "cell_type": "code",
   "execution_count": 18,
   "metadata": {},
   "outputs": [
    {
     "name": "stdout",
     "output_type": "stream",
     "text": [
      "Vocab size: 2443\n",
      "['', '[UNK]', '<end>', '.', '<start>', \"'\", 'i', '?', 'you', ',', 'the', 'to']\n"
     ]
    }
   ],
   "source": [
    "vectorize_layer=TextVectorization(\n",
    "    max_tokens=vocab_size,\n",
    "    standardize=None,\n",
    "    output_mode='int',\n",
    "    output_sequence_length=max_sequence_length\n",
    ")\n",
    "vectorize_layer.adapt(df['encoder_inputs']+' '+df['decoder_targets']+' <start> <end>')\n",
    "vocab_size=len(vectorize_layer.get_vocabulary())\n",
    "print(f'Vocab size: {len(vectorize_layer.get_vocabulary())}')\n",
    "print(f'{vectorize_layer.get_vocabulary()[:12]}')"
   ]
  },
  {
   "cell_type": "markdown",
   "metadata": {},
   "source": [
    "### Converts text to IDs and back, showcasing shapes of model inputs and outputs."
   ]
  },
  {
   "cell_type": "code",
   "execution_count": 19,
   "metadata": {},
   "outputs": [
    {
     "name": "stdout",
     "output_type": "stream",
     "text": [
      "Question sentence: Qui sont les personnes qui travaillent la terre ?\n",
      "Question to tokens: [1 1 1 1 1 1 1 1 7 0]\n",
      "Encoder input shape: (3725, 30)\n",
      "Decoder input shape: (3725, 30)\n",
      "Decoder target shape: (3725, 30)\n"
     ]
    }
   ],
   "source": [
    "def sequences2ids(sequence):\n",
    "    return vectorize_layer(sequence)\n",
    "\n",
    "def ids2sequences(ids):\n",
    "    decode=''\n",
    "    if type(ids)==int:\n",
    "        ids=[ids]\n",
    "    for id in ids:\n",
    "        decode+=vectorize_layer.get_vocabulary()[id]+' '\n",
    "    return decode\n",
    "\n",
    "x=sequences2ids(df['encoder_inputs'])\n",
    "yd=sequences2ids(df['decoder_inputs'])\n",
    "y=sequences2ids(df['decoder_targets'])\n",
    "\n",
    "print(f'Question sentence: Qui sont les personnes qui travaillent la terre ?')\n",
    "print(f'Question to tokens: {sequences2ids(\"Qui sont les personnes qui travaillent la terre ?\")[:10]}')\n",
    "print(f'Encoder input shape: {x.shape}')\n",
    "print(f'Decoder input shape: {yd.shape}')\n",
    "print(f'Decoder target shape: {y.shape}')"
   ]
  },
  {
   "cell_type": "code",
   "execution_count": 20,
   "metadata": {},
   "outputs": [
    {
     "name": "stdout",
     "output_type": "stream",
     "text": [
      "Encoder input: [1971    9   45   24    8  194    7    0    0    0    0    0] ...\n",
      "Decoder input: [  4   6   5  38 646   3  45  41 563   7   2   0] ...\n",
      "Decoder target: [  6   5  38 646   3  45  41 563   7   2   0   0] ...\n"
     ]
    }
   ],
   "source": [
    "print(f'Encoder input: {x[0][:12]} ...')\n",
    "print(f'Decoder input: {yd[0][:12]} ...')    # shifted by one time step of the target as input to decoder is the output of the previous timestep\n",
    "print(f'Decoder target: {y[0][:12]} ...')"
   ]
  },
  {
   "cell_type": "markdown",
   "metadata": {},
   "source": [
    "### Prepares training and validation datasets, details data batching and shapes."
   ]
  },
  {
   "cell_type": "code",
   "execution_count": 21,
   "metadata": {},
   "outputs": [
    {
     "name": "stdout",
     "output_type": "stream",
     "text": [
      "Number of train batches: 23\n",
      "Number of training data: 3427\n",
      "Number of validation batches: 3\n",
      "Number of validation data: 447\n",
      "Encoder Input shape (with batches): (149, 30)\n",
      "Decoder Input shape (with batches): (149, 30)\n",
      "Target Output shape (with batches): (149, 30)\n"
     ]
    }
   ],
   "source": [
    "data=tf.data.Dataset.from_tensor_slices((x,yd,y))\n",
    "data=data.shuffle(buffer_size)\n",
    "\n",
    "train_data=data.take(int(.9*len(data)))\n",
    "train_data=train_data.cache()\n",
    "train_data=train_data.shuffle(buffer_size)\n",
    "train_data=train_data.batch(batch_size)\n",
    "train_data=train_data.prefetch(tf.data.AUTOTUNE)\n",
    "train_data_iterator=train_data.as_numpy_iterator()\n",
    "\n",
    "val_data=data.skip(int(.9*len(data))).take(int(.1*len(data)))\n",
    "val_data=val_data.batch(batch_size)\n",
    "val_data=val_data.prefetch(tf.data.AUTOTUNE)\n",
    "\n",
    "_=train_data_iterator.next()\n",
    "print(f'Number of train batches: {len(train_data)}')\n",
    "print(f'Number of training data: {len(train_data)*batch_size}')\n",
    "print(f'Number of validation batches: {len(val_data)}')\n",
    "print(f'Number of validation data: {len(val_data)*batch_size}')\n",
    "print(f'Encoder Input shape (with batches): {_[0].shape}')\n",
    "print(f'Decoder Input shape (with batches): {_[1].shape}')\n",
    "print(f'Target Output shape (with batches): {_[2].shape}')"
   ]
  },
  {
   "cell_type": "markdown",
   "metadata": {},
   "source": [
    "## Build Models"
   ]
  },
  {
   "cell_type": "markdown",
   "metadata": {},
   "source": [
    "### Build Encoder"
   ]
  },
  {
   "cell_type": "markdown",
   "metadata": {},
   "source": [
    "### Defines an Encoder class for a Seq2Seq model, embedding inputs and processing them through LSTM."
   ]
  },
  {
   "cell_type": "code",
   "execution_count": 22,
   "metadata": {},
   "outputs": [
    {
     "data": {
      "text/plain": [
       "(<tf.Tensor: shape=(149, 256), dtype=float32, numpy=\n",
       " array([[-0.12988241, -0.12375345, -0.05631969, ..., -0.05488194,\n",
       "          0.1963632 , -0.00320365],\n",
       "        [-0.00576419, -0.02570225,  0.1954893 , ..., -0.12818106,\n",
       "          0.27123162, -0.12193924],\n",
       "        [-0.15209688,  0.17203379, -0.01812964, ..., -0.05556075,\n",
       "          0.0824681 ,  0.09241733],\n",
       "        ...,\n",
       "        [-0.03896183,  0.19642253, -0.29343554, ..., -0.20490964,\n",
       "         -0.18342559, -0.04303272],\n",
       "        [ 0.04905035,  0.21157108, -0.13912287, ..., -0.21040344,\n",
       "         -0.21072322, -0.03454934],\n",
       "        [-0.03229577, -0.04964048, -0.05420135, ..., -0.1670446 ,\n",
       "          0.06762885, -0.22299078]], dtype=float32)>,\n",
       " <tf.Tensor: shape=(149, 256), dtype=float32, numpy=\n",
       " array([[-0.24526425, -0.2573132 , -0.09990039, ..., -0.10961744,\n",
       "          0.3241631 , -0.00497907],\n",
       "        [-0.01048842, -0.05714052,  0.3400551 , ..., -0.24444859,\n",
       "          0.46408492, -0.186231  ],\n",
       "        [-0.31429097,  0.36716485, -0.03253692, ..., -0.11660714,\n",
       "          0.11826325,  0.18810919],\n",
       "        ...,\n",
       "        [-0.07869461,  0.41918156, -0.70447946, ..., -0.48660296,\n",
       "         -0.26366234, -0.08807842],\n",
       "        [ 0.09308698,  0.47572148, -0.26392987, ..., -0.45578957,\n",
       "         -0.30613822, -0.07012271],\n",
       "        [-0.05850952, -0.09872395, -0.0953259 , ..., -0.3370064 ,\n",
       "          0.10861338, -0.3359901 ]], dtype=float32)>)"
      ]
     },
     "execution_count": 22,
     "metadata": {},
     "output_type": "execute_result"
    }
   ],
   "source": [
    "class Encoder(tf.keras.models.Model):\n",
    "    def __init__(self,units,embedding_dim,vocab_size,*args,**kwargs) -> None:\n",
    "        super().__init__(*args,**kwargs)\n",
    "        self.units=units\n",
    "        self.vocab_size=vocab_size\n",
    "        self.embedding_dim=embedding_dim\n",
    "        self.embedding=Embedding(\n",
    "            vocab_size,\n",
    "            embedding_dim,\n",
    "            name='encoder_embedding',\n",
    "            mask_zero=True,\n",
    "            embeddings_initializer=tf.keras.initializers.GlorotNormal()\n",
    "        )\n",
    "        self.normalize=LayerNormalization()\n",
    "        self.lstm=LSTM(\n",
    "            units,\n",
    "            dropout=.4,\n",
    "            return_state=True,\n",
    "            return_sequences=True,\n",
    "            name='encoder_lstm',\n",
    "            kernel_initializer=tf.keras.initializers.GlorotNormal()\n",
    "        )\n",
    "    \n",
    "    def call(self,encoder_inputs):\n",
    "        self.inputs=encoder_inputs\n",
    "        x=self.embedding(encoder_inputs)\n",
    "        x=self.normalize(x)\n",
    "        x=Dropout(.4)(x)\n",
    "        encoder_outputs,encoder_state_h,encoder_state_c=self.lstm(x)\n",
    "        self.outputs=[encoder_state_h,encoder_state_c]\n",
    "        return encoder_state_h,encoder_state_c\n",
    "\n",
    "encoder=Encoder(lstm_cells,embedding_dim,vocab_size,name='encoder')\n",
    "encoder.call(_[0])"
   ]
  },
  {
   "cell_type": "markdown",
   "metadata": {},
   "source": [
    "### Build Decoder"
   ]
  },
  {
   "cell_type": "markdown",
   "metadata": {},
   "source": [
    "### Implements a Decoder class with embedding, LSTM, and dense layers, integrating encoder states for Seq2Seq processing."
   ]
  },
  {
   "cell_type": "code",
   "execution_count": 23,
   "metadata": {},
   "outputs": [
    {
     "data": {
      "text/plain": [
       "<tf.Tensor: shape=(1, 30, 2443), dtype=float32, numpy=\n",
       "array([[[2.75071652e-04, 3.98164906e-04, 1.42119519e-04, ...,\n",
       "         3.68301953e-05, 4.65400168e-04, 2.79785090e-05],\n",
       "        [8.81082087e-05, 3.06368107e-04, 1.13396230e-03, ...,\n",
       "         7.23690246e-05, 1.06223364e-04, 3.24117173e-05],\n",
       "        [7.51045154e-05, 3.75108299e-04, 1.03604503e-03, ...,\n",
       "         2.30654405e-04, 4.88584861e-04, 1.15102943e-04],\n",
       "        ...,\n",
       "        [8.92975586e-05, 1.82393531e-04, 7.15812930e-05, ...,\n",
       "         4.78647329e-04, 3.40600428e-03, 4.38021932e-04],\n",
       "        [8.92975586e-05, 1.82393531e-04, 7.15812930e-05, ...,\n",
       "         4.78647329e-04, 3.40600428e-03, 4.38021932e-04],\n",
       "        [8.92975586e-05, 1.82393531e-04, 7.15812930e-05, ...,\n",
       "         4.78647329e-04, 3.40600428e-03, 4.38021932e-04]]], dtype=float32)>"
      ]
     },
     "execution_count": 23,
     "metadata": {},
     "output_type": "execute_result"
    }
   ],
   "source": [
    "class Decoder(tf.keras.models.Model):\n",
    "    def __init__(self,units,embedding_dim,vocab_size,*args,**kwargs) -> None:\n",
    "        super().__init__(*args,**kwargs)\n",
    "        self.units=units\n",
    "        self.embedding_dim=embedding_dim\n",
    "        self.vocab_size=vocab_size\n",
    "        self.embedding=Embedding(\n",
    "            vocab_size,\n",
    "            embedding_dim,\n",
    "            name='decoder_embedding',\n",
    "            mask_zero=True,\n",
    "            embeddings_initializer=tf.keras.initializers.HeNormal()\n",
    "        )\n",
    "        self.normalize=LayerNormalization()\n",
    "        self.lstm=LSTM(\n",
    "            units,\n",
    "            dropout=.4,\n",
    "            return_state=True,\n",
    "            return_sequences=True,\n",
    "            name='decoder_lstm',\n",
    "            kernel_initializer=tf.keras.initializers.HeNormal()\n",
    "        )\n",
    "        self.fc=Dense(\n",
    "            vocab_size,\n",
    "            activation='softmax',\n",
    "            name='decoder_dense',\n",
    "            kernel_initializer=tf.keras.initializers.HeNormal()\n",
    "        )\n",
    "    \n",
    "    def call(self,decoder_inputs,encoder_states):\n",
    "        x=self.embedding(decoder_inputs)\n",
    "        x=self.normalize(x)\n",
    "        x=Dropout(.4)(x)\n",
    "        x,decoder_state_h,decoder_state_c=self.lstm(x,initial_state=encoder_states)\n",
    "        x=self.normalize(x)\n",
    "        x=Dropout(.4)(x)\n",
    "        return self.fc(x)\n",
    "\n",
    "decoder=Decoder(lstm_cells,embedding_dim,vocab_size,name='decoder')\n",
    "decoder(_[1][:1],encoder(_[0][:1]))"
   ]
  },
  {
   "cell_type": "markdown",
   "metadata": {},
   "source": [
    "### Build Training Model"
   ]
  },
  {
   "cell_type": "markdown",
   "metadata": {},
   "source": [
    "### Integrates Encoder and Decoder into a ChatBotTrainer model, including custom training, testing, and metric evaluation logic."
   ]
  },
  {
   "cell_type": "code",
   "execution_count": 24,
   "metadata": {},
   "outputs": [],
   "source": [
    "class ChatBotTrainer(tf.keras.models.Model):\n",
    "    def __init__(self,encoder,decoder,*args,**kwargs):\n",
    "        super().__init__(*args,**kwargs)\n",
    "        self.encoder=encoder\n",
    "        self.decoder=decoder\n",
    "\n",
    "    def loss_fn(self,y_true,y_pred):\n",
    "        loss=self.loss(y_true,y_pred)\n",
    "        mask=tf.math.logical_not(tf.math.equal(y_true,0))\n",
    "        mask=tf.cast(mask,dtype=loss.dtype)\n",
    "        loss*=mask\n",
    "        return tf.reduce_mean(loss)\n",
    "    \n",
    "    def accuracy_fn(self,y_true,y_pred):\n",
    "        pred_values = tf.cast(tf.argmax(y_pred, axis=-1), dtype='int64')\n",
    "        correct = tf.cast(tf.equal(y_true, pred_values), dtype='float64')\n",
    "        mask = tf.cast(tf.greater(y_true, 0), dtype='float64')\n",
    "        n_correct = tf.keras.backend.sum(mask * correct)\n",
    "        n_total = tf.keras.backend.sum(mask)\n",
    "        return n_correct / n_total\n",
    "\n",
    "    def call(self,inputs):\n",
    "        encoder_inputs,decoder_inputs=inputs\n",
    "        encoder_states=self.encoder(encoder_inputs)\n",
    "        return self.decoder(decoder_inputs,encoder_states)\n",
    "\n",
    "    def train_step(self,batch):\n",
    "        encoder_inputs,decoder_inputs,y=batch\n",
    "        with tf.GradientTape() as tape:\n",
    "            encoder_states=self.encoder(encoder_inputs,training=True)\n",
    "            y_pred=self.decoder(decoder_inputs,encoder_states,training=True)\n",
    "            loss=self.loss_fn(y,y_pred)\n",
    "            acc=self.accuracy_fn(y,y_pred)\n",
    "\n",
    "        variables=self.encoder.trainable_variables+self.decoder.trainable_variables\n",
    "        grads=tape.gradient(loss,variables)\n",
    "        self.optimizer.apply_gradients(zip(grads,variables))\n",
    "        metrics={'loss':loss,'accuracy':acc}\n",
    "        return metrics\n",
    "    \n",
    "    def test_step(self,batch):\n",
    "        encoder_inputs,decoder_inputs,y=batch\n",
    "        encoder_states=self.encoder(encoder_inputs,training=True)\n",
    "        y_pred=self.decoder(decoder_inputs,encoder_states,training=True)\n",
    "        loss=self.loss_fn(y,y_pred)\n",
    "        acc=self.accuracy_fn(y,y_pred)\n",
    "        metrics={'loss':loss,'accuracy':acc}\n",
    "        return metrics"
   ]
  },
  {
   "cell_type": "markdown",
   "metadata": {},
   "source": [
    "### Configures and compiles the ChatBotTrainer model for training, setting up loss function, optimizer, and metrics."
   ]
  },
  {
   "cell_type": "code",
   "execution_count": 22,
   "metadata": {},
   "outputs": [
    {
     "data": {
      "text/plain": [
       "<tf.Tensor: shape=(149, 30, 2443), dtype=float32, numpy=\n",
       "array([[[8.56409315e-04, 4.12130757e-05, 3.54610238e-04, ...,\n",
       "         3.26836511e-04, 3.31033079e-05, 4.98468362e-05],\n",
       "        [1.47679064e-03, 3.29113682e-04, 8.60135246e-04, ...,\n",
       "         7.08459062e-04, 1.36451717e-05, 1.19633391e-04],\n",
       "        [1.20405911e-03, 2.66798050e-03, 2.26656746e-04, ...,\n",
       "         3.78452503e-04, 1.55641974e-05, 3.24626046e-04],\n",
       "        ...,\n",
       "        [6.52578674e-05, 1.05030827e-04, 5.36916377e-05, ...,\n",
       "         1.11544548e-04, 1.63565437e-05, 1.89776329e-05],\n",
       "        [6.52578674e-05, 1.05030827e-04, 5.36916377e-05, ...,\n",
       "         1.11544548e-04, 1.63565455e-05, 1.89776329e-05],\n",
       "        [6.52578674e-05, 1.05030827e-04, 5.36916377e-05, ...,\n",
       "         1.11544548e-04, 1.63565437e-05, 1.89776329e-05]],\n",
       "\n",
       "       [[1.18872628e-03, 6.17087353e-05, 2.82912806e-04, ...,\n",
       "         2.15829714e-04, 2.41377638e-04, 7.80222181e-05],\n",
       "        [1.78643502e-03, 3.26705194e-04, 3.34411336e-04, ...,\n",
       "         1.06065301e-03, 6.99990313e-04, 9.30597016e-05],\n",
       "        [1.28818955e-03, 9.68947716e-05, 1.34716742e-03, ...,\n",
       "         2.83194287e-03, 2.23877374e-03, 2.21393566e-04],\n",
       "        ...,\n",
       "        [1.38451825e-04, 1.88453432e-05, 9.95242037e-04, ...,\n",
       "         1.80430012e-04, 1.55043002e-04, 1.30582894e-05],\n",
       "        [1.38451825e-04, 1.88453432e-05, 9.95242037e-04, ...,\n",
       "         1.80430012e-04, 1.55043002e-04, 1.30582894e-05],\n",
       "        [1.38451825e-04, 1.88453432e-05, 9.95242037e-04, ...,\n",
       "         1.80430012e-04, 1.55043002e-04, 1.30582894e-05]],\n",
       "\n",
       "       [[6.81531499e-04, 2.05937795e-05, 3.27621121e-04, ...,\n",
       "         5.24784438e-04, 4.23909041e-05, 1.19081771e-04],\n",
       "        [5.83771092e-04, 3.25860128e-05, 4.75216715e-04, ...,\n",
       "         1.86008067e-04, 6.41299994e-04, 1.54249603e-04],\n",
       "        [1.60975469e-04, 1.60290947e-04, 2.20056645e-05, ...,\n",
       "         1.58992669e-04, 7.13467889e-05, 1.10912761e-05],\n",
       "        ...,\n",
       "        [5.68957803e-05, 1.76644880e-05, 6.53222844e-04, ...,\n",
       "         6.14057411e-04, 1.29263281e-05, 9.24474152e-05],\n",
       "        [5.68957803e-05, 1.76644880e-05, 6.53222844e-04, ...,\n",
       "         6.14057411e-04, 1.29263281e-05, 9.24474152e-05],\n",
       "        [5.68957803e-05, 1.76644880e-05, 6.53222844e-04, ...,\n",
       "         6.14057411e-04, 1.29263281e-05, 9.24474152e-05]],\n",
       "\n",
       "       ...,\n",
       "\n",
       "       [[6.56866352e-04, 5.34400206e-05, 4.21910459e-04, ...,\n",
       "         2.44220049e-04, 2.19750058e-04, 6.61468875e-05],\n",
       "        [8.65708105e-04, 1.20468489e-04, 2.08038953e-04, ...,\n",
       "         3.34330543e-04, 1.41690951e-03, 1.04121551e-04],\n",
       "        [5.42189409e-05, 3.44971268e-05, 2.06858059e-03, ...,\n",
       "         4.95914230e-03, 5.75149432e-04, 6.80112644e-05],\n",
       "        ...,\n",
       "        [5.82789107e-05, 1.22410893e-05, 2.12245912e-04, ...,\n",
       "         1.01477555e-04, 6.51511800e-05, 8.50319775e-05],\n",
       "        [5.82789107e-05, 1.22410893e-05, 2.12245912e-04, ...,\n",
       "         1.01477555e-04, 6.51511873e-05, 8.50319775e-05],\n",
       "        [5.82789107e-05, 1.22410893e-05, 2.12245912e-04, ...,\n",
       "         1.01477555e-04, 6.51511800e-05, 8.50319775e-05]],\n",
       "\n",
       "       [[1.21753896e-03, 4.13852431e-05, 1.00366175e-04, ...,\n",
       "         2.55485647e-04, 3.67854409e-05, 4.44343386e-05],\n",
       "        [6.17741374e-03, 2.52392911e-05, 9.20094608e-05, ...,\n",
       "         1.91348852e-04, 3.38526988e-05, 2.44489183e-05],\n",
       "        [6.66469615e-03, 3.35727149e-04, 5.59425207e-05, ...,\n",
       "         3.77538585e-04, 7.59915492e-05, 1.30250177e-04],\n",
       "        ...,\n",
       "        [1.33840542e-04, 1.07953629e-05, 3.36151774e-04, ...,\n",
       "         3.21544154e-04, 3.63332947e-05, 2.07892572e-05],\n",
       "        [1.33840542e-04, 1.07953629e-05, 3.36151774e-04, ...,\n",
       "         3.21544154e-04, 3.63332947e-05, 2.07892572e-05],\n",
       "        [1.33840542e-04, 1.07953629e-05, 3.36151774e-04, ...,\n",
       "         3.21544154e-04, 3.63332947e-05, 2.07892572e-05]],\n",
       "\n",
       "       [[3.23908927e-04, 2.03426498e-05, 1.36983101e-04, ...,\n",
       "         9.57806245e-04, 2.94686106e-05, 1.32555258e-04],\n",
       "        [2.54574092e-03, 1.51277345e-05, 1.31094726e-04, ...,\n",
       "         6.32007956e-04, 3.18008970e-05, 4.78371476e-05],\n",
       "        [2.37061619e-03, 2.12589657e-04, 4.87970028e-05, ...,\n",
       "         6.41615072e-04, 5.71249293e-05, 3.15826881e-04],\n",
       "        ...,\n",
       "        [5.24097471e-04, 1.77778547e-05, 8.10246493e-05, ...,\n",
       "         3.46522196e-04, 6.44219472e-05, 8.50920551e-05],\n",
       "        [5.24097355e-04, 1.77778638e-05, 8.10246929e-05, ...,\n",
       "         3.46522225e-04, 6.44219472e-05, 8.50920624e-05],\n",
       "        [5.24097355e-04, 1.77778638e-05, 8.10246929e-05, ...,\n",
       "         3.46522225e-04, 6.44219472e-05, 8.50920624e-05]]], dtype=float32)>"
      ]
     },
     "execution_count": 22,
     "metadata": {},
     "output_type": "execute_result"
    }
   ],
   "source": [
    "model=ChatBotTrainer(encoder,decoder,name='chatbot_trainer')\n",
    "model.compile(\n",
    "    loss=tf.keras.losses.SparseCategoricalCrossentropy(),\n",
    "    optimizer=tf.keras.optimizers.Adam(learning_rate=learning_rate),\n",
    "    weighted_metrics=['loss','accuracy']\n",
    ")\n",
    "model(_[:2])"
   ]
  },
  {
   "cell_type": "markdown",
   "metadata": {},
   "source": [
    "## Train Model"
   ]
  },
  {
   "cell_type": "code",
   "execution_count": 23,
   "metadata": {},
   "outputs": [
    {
     "name": "stdout",
     "output_type": "stream",
     "text": [
      "Epoch 1/150\n"
     ]
    },
    {
     "name": "stdout",
     "output_type": "stream",
     "text": [
      "23/23 [==============================] - ETA: 0s - loss: 1.6590 - accuracy: 0.2198\n",
      "Epoch 1: val_loss improved from inf to 1.27692, saving model to ckpt\n",
      "WARNING:tensorflow:Model's `__init__()` arguments contain non-serializable objects. Please implement a `get_config()` method in the subclassed Model for proper saving and loading. Defaulting to empty config.\n",
      "WARNING:tensorflow:Model's `__init__()` arguments contain non-serializable objects. Please implement a `get_config()` method in the subclassed Model for proper saving and loading. Defaulting to empty config.\n"
     ]
    },
    {
     "name": "stderr",
     "output_type": "stream",
     "text": [
      "WARNING:absl:Found untraced functions such as _update_step_xla, lstm_cell_layer_call_fn, lstm_cell_layer_call_and_return_conditional_losses, lstm_cell_1_layer_call_fn, lstm_cell_1_layer_call_and_return_conditional_losses while saving (showing 5 of 5). These functions will not be directly callable after loading.\n"
     ]
    },
    {
     "name": "stdout",
     "output_type": "stream",
     "text": [
      "INFO:tensorflow:Assets written to: ckpt\\assets\n"
     ]
    },
    {
     "name": "stderr",
     "output_type": "stream",
     "text": [
      "INFO:tensorflow:Assets written to: ckpt\\assets\n"
     ]
    },
    {
     "name": "stdout",
     "output_type": "stream",
     "text": [
      "WARNING:tensorflow:Model's `__init__()` arguments contain non-serializable objects. Please implement a `get_config()` method in the subclassed Model for proper saving and loading. Defaulting to empty config.\n"
     ]
    },
    {
     "name": "stderr",
     "output_type": "stream",
     "text": [
      "WARNING:tensorflow:Model's `__init__()` arguments contain non-serializable objects. Please implement a `get_config()` method in the subclassed Model for proper saving and loading. Defaulting to empty config.\n"
     ]
    },
    {
     "name": "stdout",
     "output_type": "stream",
     "text": [
      "WARNING:tensorflow:Model's `__init__()` arguments contain non-serializable objects. Please implement a `get_config()` method in the subclassed Model for proper saving and loading. Defaulting to empty config.\n"
     ]
    },
    {
     "name": "stderr",
     "output_type": "stream",
     "text": [
      "WARNING:tensorflow:Model's `__init__()` arguments contain non-serializable objects. Please implement a `get_config()` method in the subclassed Model for proper saving and loading. Defaulting to empty config.\n"
     ]
    },
    {
     "name": "stdout",
     "output_type": "stream",
     "text": [
      "23/23 [==============================] - 61s 2s/step - loss: 1.6503 - accuracy: 0.2223 - val_loss: 1.2769 - val_accuracy: 0.2890\n",
      "Epoch 2/150\n",
      "23/23 [==============================] - ETA: 0s - loss: 1.2398 - accuracy: 0.3098\n",
      "Epoch 2: val_loss improved from 1.27692 to 1.13045, saving model to ckpt\n",
      "WARNING:tensorflow:Model's `__init__()` arguments contain non-serializable objects. Please implement a `get_config()` method in the subclassed Model for proper saving and loading. Defaulting to empty config.\n"
     ]
    },
    {
     "name": "stderr",
     "output_type": "stream",
     "text": [
      "WARNING:tensorflow:Model's `__init__()` arguments contain non-serializable objects. Please implement a `get_config()` method in the subclassed Model for proper saving and loading. Defaulting to empty config.\n"
     ]
    },
    {
     "name": "stdout",
     "output_type": "stream",
     "text": [
      "WARNING:tensorflow:Model's `__init__()` arguments contain non-serializable objects. Please implement a `get_config()` method in the subclassed Model for proper saving and loading. Defaulting to empty config.\n"
     ]
    },
    {
     "name": "stderr",
     "output_type": "stream",
     "text": [
      "WARNING:tensorflow:Model's `__init__()` arguments contain non-serializable objects. Please implement a `get_config()` method in the subclassed Model for proper saving and loading. Defaulting to empty config.\n",
      "WARNING:absl:Found untraced functions such as _update_step_xla, lstm_cell_layer_call_fn, lstm_cell_layer_call_and_return_conditional_losses, lstm_cell_1_layer_call_fn, lstm_cell_1_layer_call_and_return_conditional_losses while saving (showing 5 of 5). These functions will not be directly callable after loading.\n"
     ]
    },
    {
     "name": "stdout",
     "output_type": "stream",
     "text": [
      "INFO:tensorflow:Assets written to: ckpt\\assets\n"
     ]
    },
    {
     "name": "stderr",
     "output_type": "stream",
     "text": [
      "INFO:tensorflow:Assets written to: ckpt\\assets\n"
     ]
    },
    {
     "name": "stdout",
     "output_type": "stream",
     "text": [
      "WARNING:tensorflow:Model's `__init__()` arguments contain non-serializable objects. Please implement a `get_config()` method in the subclassed Model for proper saving and loading. Defaulting to empty config.\n"
     ]
    },
    {
     "name": "stderr",
     "output_type": "stream",
     "text": [
      "WARNING:tensorflow:Model's `__init__()` arguments contain non-serializable objects. Please implement a `get_config()` method in the subclassed Model for proper saving and loading. Defaulting to empty config.\n"
     ]
    },
    {
     "name": "stdout",
     "output_type": "stream",
     "text": [
      "WARNING:tensorflow:Model's `__init__()` arguments contain non-serializable objects. Please implement a `get_config()` method in the subclassed Model for proper saving and loading. Defaulting to empty config.\n"
     ]
    },
    {
     "name": "stderr",
     "output_type": "stream",
     "text": [
      "WARNING:tensorflow:Model's `__init__()` arguments contain non-serializable objects. Please implement a `get_config()` method in the subclassed Model for proper saving and loading. Defaulting to empty config.\n"
     ]
    },
    {
     "name": "stdout",
     "output_type": "stream",
     "text": [
      "23/23 [==============================] - 46s 2s/step - loss: 1.2359 - accuracy: 0.3102 - val_loss: 1.1305 - val_accuracy: 0.3319\n",
      "Epoch 3/150\n",
      "23/23 [==============================] - ETA: 0s - loss: 1.1090 - accuracy: 0.3397\n",
      "Epoch 3: val_loss improved from 1.13045 to 0.97255, saving model to ckpt\n",
      "WARNING:tensorflow:Model's `__init__()` arguments contain non-serializable objects. Please implement a `get_config()` method in the subclassed Model for proper saving and loading. Defaulting to empty config.\n"
     ]
    },
    {
     "name": "stderr",
     "output_type": "stream",
     "text": [
      "WARNING:tensorflow:Model's `__init__()` arguments contain non-serializable objects. Please implement a `get_config()` method in the subclassed Model for proper saving and loading. Defaulting to empty config.\n"
     ]
    },
    {
     "name": "stdout",
     "output_type": "stream",
     "text": [
      "WARNING:tensorflow:Model's `__init__()` arguments contain non-serializable objects. Please implement a `get_config()` method in the subclassed Model for proper saving and loading. Defaulting to empty config.\n"
     ]
    },
    {
     "name": "stderr",
     "output_type": "stream",
     "text": [
      "WARNING:tensorflow:Model's `__init__()` arguments contain non-serializable objects. Please implement a `get_config()` method in the subclassed Model for proper saving and loading. Defaulting to empty config.\n",
      "WARNING:absl:Found untraced functions such as _update_step_xla, lstm_cell_layer_call_fn, lstm_cell_layer_call_and_return_conditional_losses, lstm_cell_1_layer_call_fn, lstm_cell_1_layer_call_and_return_conditional_losses while saving (showing 5 of 5). These functions will not be directly callable after loading.\n"
     ]
    },
    {
     "name": "stdout",
     "output_type": "stream",
     "text": [
      "INFO:tensorflow:Assets written to: ckpt\\assets\n"
     ]
    },
    {
     "name": "stderr",
     "output_type": "stream",
     "text": [
      "INFO:tensorflow:Assets written to: ckpt\\assets\n"
     ]
    },
    {
     "name": "stdout",
     "output_type": "stream",
     "text": [
      "WARNING:tensorflow:Model's `__init__()` arguments contain non-serializable objects. Please implement a `get_config()` method in the subclassed Model for proper saving and loading. Defaulting to empty config.\n"
     ]
    },
    {
     "name": "stderr",
     "output_type": "stream",
     "text": [
      "WARNING:tensorflow:Model's `__init__()` arguments contain non-serializable objects. Please implement a `get_config()` method in the subclassed Model for proper saving and loading. Defaulting to empty config.\n"
     ]
    },
    {
     "name": "stdout",
     "output_type": "stream",
     "text": [
      "WARNING:tensorflow:Model's `__init__()` arguments contain non-serializable objects. Please implement a `get_config()` method in the subclassed Model for proper saving and loading. Defaulting to empty config.\n"
     ]
    },
    {
     "name": "stderr",
     "output_type": "stream",
     "text": [
      "WARNING:tensorflow:Model's `__init__()` arguments contain non-serializable objects. Please implement a `get_config()` method in the subclassed Model for proper saving and loading. Defaulting to empty config.\n"
     ]
    },
    {
     "name": "stdout",
     "output_type": "stream",
     "text": [
      "23/23 [==============================] - 70s 3s/step - loss: 1.1085 - accuracy: 0.3402 - val_loss: 0.9726 - val_accuracy: 0.3518\n",
      "Epoch 4/150\n",
      "23/23 [==============================] - ETA: 0s - loss: 1.0246 - accuracy: 0.3562\n",
      "Epoch 4: val_loss improved from 0.97255 to 0.85672, saving model to ckpt\n",
      "WARNING:tensorflow:Model's `__init__()` arguments contain non-serializable objects. Please implement a `get_config()` method in the subclassed Model for proper saving and loading. Defaulting to empty config.\n"
     ]
    },
    {
     "name": "stderr",
     "output_type": "stream",
     "text": [
      "WARNING:tensorflow:Model's `__init__()` arguments contain non-serializable objects. Please implement a `get_config()` method in the subclassed Model for proper saving and loading. Defaulting to empty config.\n"
     ]
    },
    {
     "name": "stdout",
     "output_type": "stream",
     "text": [
      "WARNING:tensorflow:Model's `__init__()` arguments contain non-serializable objects. Please implement a `get_config()` method in the subclassed Model for proper saving and loading. Defaulting to empty config.\n"
     ]
    },
    {
     "name": "stderr",
     "output_type": "stream",
     "text": [
      "WARNING:tensorflow:Model's `__init__()` arguments contain non-serializable objects. Please implement a `get_config()` method in the subclassed Model for proper saving and loading. Defaulting to empty config.\n",
      "WARNING:absl:Found untraced functions such as _update_step_xla, lstm_cell_layer_call_fn, lstm_cell_layer_call_and_return_conditional_losses, lstm_cell_1_layer_call_fn, lstm_cell_1_layer_call_and_return_conditional_losses while saving (showing 5 of 5). These functions will not be directly callable after loading.\n"
     ]
    },
    {
     "name": "stdout",
     "output_type": "stream",
     "text": [
      "INFO:tensorflow:Assets written to: ckpt\\assets\n"
     ]
    },
    {
     "name": "stderr",
     "output_type": "stream",
     "text": [
      "INFO:tensorflow:Assets written to: ckpt\\assets\n"
     ]
    },
    {
     "name": "stdout",
     "output_type": "stream",
     "text": [
      "WARNING:tensorflow:Model's `__init__()` arguments contain non-serializable objects. Please implement a `get_config()` method in the subclassed Model for proper saving and loading. Defaulting to empty config.\n"
     ]
    },
    {
     "name": "stderr",
     "output_type": "stream",
     "text": [
      "WARNING:tensorflow:Model's `__init__()` arguments contain non-serializable objects. Please implement a `get_config()` method in the subclassed Model for proper saving and loading. Defaulting to empty config.\n"
     ]
    },
    {
     "name": "stdout",
     "output_type": "stream",
     "text": [
      "WARNING:tensorflow:Model's `__init__()` arguments contain non-serializable objects. Please implement a `get_config()` method in the subclassed Model for proper saving and loading. Defaulting to empty config.\n"
     ]
    },
    {
     "name": "stderr",
     "output_type": "stream",
     "text": [
      "WARNING:tensorflow:Model's `__init__()` arguments contain non-serializable objects. Please implement a `get_config()` method in the subclassed Model for proper saving and loading. Defaulting to empty config.\n"
     ]
    },
    {
     "name": "stdout",
     "output_type": "stream",
     "text": [
      "23/23 [==============================] - 76s 3s/step - loss: 1.0237 - accuracy: 0.3565 - val_loss: 0.8567 - val_accuracy: 0.3997\n",
      "Epoch 5/150\n",
      "23/23 [==============================] - ETA: 0s - loss: 0.9679 - accuracy: 0.3696\n",
      "Epoch 5: val_loss improved from 0.85672 to 0.83682, saving model to ckpt\n",
      "WARNING:tensorflow:Model's `__init__()` arguments contain non-serializable objects. Please implement a `get_config()` method in the subclassed Model for proper saving and loading. Defaulting to empty config.\n"
     ]
    },
    {
     "name": "stderr",
     "output_type": "stream",
     "text": [
      "WARNING:tensorflow:Model's `__init__()` arguments contain non-serializable objects. Please implement a `get_config()` method in the subclassed Model for proper saving and loading. Defaulting to empty config.\n"
     ]
    },
    {
     "name": "stdout",
     "output_type": "stream",
     "text": [
      "WARNING:tensorflow:Model's `__init__()` arguments contain non-serializable objects. Please implement a `get_config()` method in the subclassed Model for proper saving and loading. Defaulting to empty config.\n"
     ]
    },
    {
     "name": "stderr",
     "output_type": "stream",
     "text": [
      "WARNING:tensorflow:Model's `__init__()` arguments contain non-serializable objects. Please implement a `get_config()` method in the subclassed Model for proper saving and loading. Defaulting to empty config.\n",
      "WARNING:absl:Found untraced functions such as _update_step_xla, lstm_cell_layer_call_fn, lstm_cell_layer_call_and_return_conditional_losses, lstm_cell_1_layer_call_fn, lstm_cell_1_layer_call_and_return_conditional_losses while saving (showing 5 of 5). These functions will not be directly callable after loading.\n"
     ]
    },
    {
     "name": "stdout",
     "output_type": "stream",
     "text": [
      "INFO:tensorflow:Assets written to: ckpt\\assets\n"
     ]
    },
    {
     "name": "stderr",
     "output_type": "stream",
     "text": [
      "INFO:tensorflow:Assets written to: ckpt\\assets\n"
     ]
    },
    {
     "name": "stdout",
     "output_type": "stream",
     "text": [
      "WARNING:tensorflow:Model's `__init__()` arguments contain non-serializable objects. Please implement a `get_config()` method in the subclassed Model for proper saving and loading. Defaulting to empty config.\n"
     ]
    },
    {
     "name": "stderr",
     "output_type": "stream",
     "text": [
      "WARNING:tensorflow:Model's `__init__()` arguments contain non-serializable objects. Please implement a `get_config()` method in the subclassed Model for proper saving and loading. Defaulting to empty config.\n"
     ]
    },
    {
     "name": "stdout",
     "output_type": "stream",
     "text": [
      "WARNING:tensorflow:Model's `__init__()` arguments contain non-serializable objects. Please implement a `get_config()` method in the subclassed Model for proper saving and loading. Defaulting to empty config.\n"
     ]
    },
    {
     "name": "stderr",
     "output_type": "stream",
     "text": [
      "WARNING:tensorflow:Model's `__init__()` arguments contain non-serializable objects. Please implement a `get_config()` method in the subclassed Model for proper saving and loading. Defaulting to empty config.\n"
     ]
    },
    {
     "name": "stdout",
     "output_type": "stream",
     "text": [
      "23/23 [==============================] - 89s 4s/step - loss: 0.9664 - accuracy: 0.3700 - val_loss: 0.8368 - val_accuracy: 0.3675\n",
      "Epoch 6/150\n",
      "23/23 [==============================] - ETA: 0s - loss: 0.9205 - accuracy: 0.3822\n",
      "Epoch 6: val_loss did not improve from 0.83682\n",
      "23/23 [==============================] - 72s 3s/step - loss: 0.9233 - accuracy: 0.3824 - val_loss: 0.8838 - val_accuracy: 0.3949\n",
      "Epoch 7/150\n",
      "23/23 [==============================] - ETA: 0s - loss: 0.8806 - accuracy: 0.3915\n",
      "Epoch 7: val_loss did not improve from 0.83682\n",
      "23/23 [==============================] - 70s 3s/step - loss: 0.8795 - accuracy: 0.3920 - val_loss: 0.8697 - val_accuracy: 0.3906\n",
      "Epoch 8/150\n",
      "23/23 [==============================] - ETA: 0s - loss: 0.8459 - accuracy: 0.4021\n",
      "Epoch 8: val_loss improved from 0.83682 to 0.82586, saving model to ckpt\n",
      "WARNING:tensorflow:Model's `__init__()` arguments contain non-serializable objects. Please implement a `get_config()` method in the subclassed Model for proper saving and loading. Defaulting to empty config.\n"
     ]
    },
    {
     "name": "stderr",
     "output_type": "stream",
     "text": [
      "WARNING:tensorflow:Model's `__init__()` arguments contain non-serializable objects. Please implement a `get_config()` method in the subclassed Model for proper saving and loading. Defaulting to empty config.\n"
     ]
    },
    {
     "name": "stdout",
     "output_type": "stream",
     "text": [
      "WARNING:tensorflow:Model's `__init__()` arguments contain non-serializable objects. Please implement a `get_config()` method in the subclassed Model for proper saving and loading. Defaulting to empty config.\n"
     ]
    },
    {
     "name": "stderr",
     "output_type": "stream",
     "text": [
      "WARNING:tensorflow:Model's `__init__()` arguments contain non-serializable objects. Please implement a `get_config()` method in the subclassed Model for proper saving and loading. Defaulting to empty config.\n",
      "WARNING:absl:Found untraced functions such as _update_step_xla, lstm_cell_layer_call_fn, lstm_cell_layer_call_and_return_conditional_losses, lstm_cell_1_layer_call_fn, lstm_cell_1_layer_call_and_return_conditional_losses while saving (showing 5 of 5). These functions will not be directly callable after loading.\n"
     ]
    },
    {
     "name": "stdout",
     "output_type": "stream",
     "text": [
      "INFO:tensorflow:Assets written to: ckpt\\assets\n"
     ]
    },
    {
     "name": "stderr",
     "output_type": "stream",
     "text": [
      "INFO:tensorflow:Assets written to: ckpt\\assets\n"
     ]
    },
    {
     "name": "stdout",
     "output_type": "stream",
     "text": [
      "WARNING:tensorflow:Model's `__init__()` arguments contain non-serializable objects. Please implement a `get_config()` method in the subclassed Model for proper saving and loading. Defaulting to empty config.\n"
     ]
    },
    {
     "name": "stderr",
     "output_type": "stream",
     "text": [
      "WARNING:tensorflow:Model's `__init__()` arguments contain non-serializable objects. Please implement a `get_config()` method in the subclassed Model for proper saving and loading. Defaulting to empty config.\n"
     ]
    },
    {
     "name": "stdout",
     "output_type": "stream",
     "text": [
      "WARNING:tensorflow:Model's `__init__()` arguments contain non-serializable objects. Please implement a `get_config()` method in the subclassed Model for proper saving and loading. Defaulting to empty config.\n"
     ]
    },
    {
     "name": "stderr",
     "output_type": "stream",
     "text": [
      "WARNING:tensorflow:Model's `__init__()` arguments contain non-serializable objects. Please implement a `get_config()` method in the subclassed Model for proper saving and loading. Defaulting to empty config.\n"
     ]
    },
    {
     "name": "stdout",
     "output_type": "stream",
     "text": [
      "23/23 [==============================] - 119s 5s/step - loss: 0.8445 - accuracy: 0.4028 - val_loss: 0.8259 - val_accuracy: 0.3949\n",
      "Epoch 9/150\n",
      "23/23 [==============================] - ETA: 0s - loss: 0.8169 - accuracy: 0.4121\n",
      "Epoch 9: val_loss did not improve from 0.82586\n",
      "23/23 [==============================] - 50s 2s/step - loss: 0.8174 - accuracy: 0.4118 - val_loss: 0.8864 - val_accuracy: 0.4157\n",
      "Epoch 10/150\n",
      "23/23 [==============================] - ETA: 0s - loss: 0.7934 - accuracy: 0.4177\n",
      "Epoch 10: val_loss improved from 0.82586 to 0.78255, saving model to ckpt\n",
      "WARNING:tensorflow:Model's `__init__()` arguments contain non-serializable objects. Please implement a `get_config()` method in the subclassed Model for proper saving and loading. Defaulting to empty config.\n"
     ]
    },
    {
     "name": "stderr",
     "output_type": "stream",
     "text": [
      "WARNING:tensorflow:Model's `__init__()` arguments contain non-serializable objects. Please implement a `get_config()` method in the subclassed Model for proper saving and loading. Defaulting to empty config.\n"
     ]
    },
    {
     "name": "stdout",
     "output_type": "stream",
     "text": [
      "WARNING:tensorflow:Model's `__init__()` arguments contain non-serializable objects. Please implement a `get_config()` method in the subclassed Model for proper saving and loading. Defaulting to empty config.\n"
     ]
    },
    {
     "name": "stderr",
     "output_type": "stream",
     "text": [
      "WARNING:tensorflow:Model's `__init__()` arguments contain non-serializable objects. Please implement a `get_config()` method in the subclassed Model for proper saving and loading. Defaulting to empty config.\n",
      "WARNING:absl:Found untraced functions such as _update_step_xla, lstm_cell_layer_call_fn, lstm_cell_layer_call_and_return_conditional_losses, lstm_cell_1_layer_call_fn, lstm_cell_1_layer_call_and_return_conditional_losses while saving (showing 5 of 5). These functions will not be directly callable after loading.\n"
     ]
    },
    {
     "name": "stdout",
     "output_type": "stream",
     "text": [
      "INFO:tensorflow:Assets written to: ckpt\\assets\n"
     ]
    },
    {
     "name": "stderr",
     "output_type": "stream",
     "text": [
      "INFO:tensorflow:Assets written to: ckpt\\assets\n"
     ]
    },
    {
     "name": "stdout",
     "output_type": "stream",
     "text": [
      "WARNING:tensorflow:Model's `__init__()` arguments contain non-serializable objects. Please implement a `get_config()` method in the subclassed Model for proper saving and loading. Defaulting to empty config.\n"
     ]
    },
    {
     "name": "stderr",
     "output_type": "stream",
     "text": [
      "WARNING:tensorflow:Model's `__init__()` arguments contain non-serializable objects. Please implement a `get_config()` method in the subclassed Model for proper saving and loading. Defaulting to empty config.\n"
     ]
    },
    {
     "name": "stdout",
     "output_type": "stream",
     "text": [
      "WARNING:tensorflow:Model's `__init__()` arguments contain non-serializable objects. Please implement a `get_config()` method in the subclassed Model for proper saving and loading. Defaulting to empty config.\n"
     ]
    },
    {
     "name": "stderr",
     "output_type": "stream",
     "text": [
      "WARNING:tensorflow:Model's `__init__()` arguments contain non-serializable objects. Please implement a `get_config()` method in the subclassed Model for proper saving and loading. Defaulting to empty config.\n"
     ]
    },
    {
     "name": "stdout",
     "output_type": "stream",
     "text": [
      "23/23 [==============================] - 85s 4s/step - loss: 0.7939 - accuracy: 0.4179 - val_loss: 0.7825 - val_accuracy: 0.4562\n",
      "Epoch 11/150\n",
      "23/23 [==============================] - ETA: 0s - loss: 0.7731 - accuracy: 0.4235\n",
      "Epoch 11: val_loss did not improve from 0.78255\n",
      "23/23 [==============================] - 75s 3s/step - loss: 0.7725 - accuracy: 0.4224 - val_loss: 0.8237 - val_accuracy: 0.4381\n",
      "Epoch 12/150\n",
      "23/23 [==============================] - ETA: 0s - loss: 0.7473 - accuracy: 0.4376\n",
      "Epoch 12: val_loss improved from 0.78255 to 0.77287, saving model to ckpt\n",
      "WARNING:tensorflow:Model's `__init__()` arguments contain non-serializable objects. Please implement a `get_config()` method in the subclassed Model for proper saving and loading. Defaulting to empty config.\n"
     ]
    },
    {
     "name": "stderr",
     "output_type": "stream",
     "text": [
      "WARNING:tensorflow:Model's `__init__()` arguments contain non-serializable objects. Please implement a `get_config()` method in the subclassed Model for proper saving and loading. Defaulting to empty config.\n"
     ]
    },
    {
     "name": "stdout",
     "output_type": "stream",
     "text": [
      "WARNING:tensorflow:Model's `__init__()` arguments contain non-serializable objects. Please implement a `get_config()` method in the subclassed Model for proper saving and loading. Defaulting to empty config.\n"
     ]
    },
    {
     "name": "stderr",
     "output_type": "stream",
     "text": [
      "WARNING:tensorflow:Model's `__init__()` arguments contain non-serializable objects. Please implement a `get_config()` method in the subclassed Model for proper saving and loading. Defaulting to empty config.\n",
      "WARNING:absl:Found untraced functions such as _update_step_xla, lstm_cell_layer_call_fn, lstm_cell_layer_call_and_return_conditional_losses, lstm_cell_1_layer_call_fn, lstm_cell_1_layer_call_and_return_conditional_losses while saving (showing 5 of 5). These functions will not be directly callable after loading.\n"
     ]
    },
    {
     "name": "stdout",
     "output_type": "stream",
     "text": [
      "INFO:tensorflow:Assets written to: ckpt\\assets\n"
     ]
    },
    {
     "name": "stderr",
     "output_type": "stream",
     "text": [
      "INFO:tensorflow:Assets written to: ckpt\\assets\n"
     ]
    },
    {
     "name": "stdout",
     "output_type": "stream",
     "text": [
      "WARNING:tensorflow:Model's `__init__()` arguments contain non-serializable objects. Please implement a `get_config()` method in the subclassed Model for proper saving and loading. Defaulting to empty config.\n"
     ]
    },
    {
     "name": "stderr",
     "output_type": "stream",
     "text": [
      "WARNING:tensorflow:Model's `__init__()` arguments contain non-serializable objects. Please implement a `get_config()` method in the subclassed Model for proper saving and loading. Defaulting to empty config.\n"
     ]
    },
    {
     "name": "stdout",
     "output_type": "stream",
     "text": [
      "WARNING:tensorflow:Model's `__init__()` arguments contain non-serializable objects. Please implement a `get_config()` method in the subclassed Model for proper saving and loading. Defaulting to empty config.\n"
     ]
    },
    {
     "name": "stderr",
     "output_type": "stream",
     "text": [
      "WARNING:tensorflow:Model's `__init__()` arguments contain non-serializable objects. Please implement a `get_config()` method in the subclassed Model for proper saving and loading. Defaulting to empty config.\n"
     ]
    },
    {
     "name": "stdout",
     "output_type": "stream",
     "text": [
      "23/23 [==============================] - 109s 5s/step - loss: 0.7477 - accuracy: 0.4372 - val_loss: 0.7729 - val_accuracy: 0.4561\n",
      "Epoch 13/150\n",
      "23/23 [==============================] - ETA: 0s - loss: 0.7311 - accuracy: 0.4451\n",
      "Epoch 13: val_loss improved from 0.77287 to 0.67675, saving model to ckpt\n",
      "WARNING:tensorflow:Model's `__init__()` arguments contain non-serializable objects. Please implement a `get_config()` method in the subclassed Model for proper saving and loading. Defaulting to empty config.\n"
     ]
    },
    {
     "name": "stderr",
     "output_type": "stream",
     "text": [
      "WARNING:tensorflow:Model's `__init__()` arguments contain non-serializable objects. Please implement a `get_config()` method in the subclassed Model for proper saving and loading. Defaulting to empty config.\n"
     ]
    },
    {
     "name": "stdout",
     "output_type": "stream",
     "text": [
      "WARNING:tensorflow:Model's `__init__()` arguments contain non-serializable objects. Please implement a `get_config()` method in the subclassed Model for proper saving and loading. Defaulting to empty config.\n"
     ]
    },
    {
     "name": "stderr",
     "output_type": "stream",
     "text": [
      "WARNING:tensorflow:Model's `__init__()` arguments contain non-serializable objects. Please implement a `get_config()` method in the subclassed Model for proper saving and loading. Defaulting to empty config.\n",
      "WARNING:absl:Found untraced functions such as _update_step_xla, lstm_cell_layer_call_fn, lstm_cell_layer_call_and_return_conditional_losses, lstm_cell_1_layer_call_fn, lstm_cell_1_layer_call_and_return_conditional_losses while saving (showing 5 of 5). These functions will not be directly callable after loading.\n"
     ]
    },
    {
     "name": "stdout",
     "output_type": "stream",
     "text": [
      "INFO:tensorflow:Assets written to: ckpt\\assets\n"
     ]
    },
    {
     "name": "stderr",
     "output_type": "stream",
     "text": [
      "INFO:tensorflow:Assets written to: ckpt\\assets\n"
     ]
    },
    {
     "name": "stdout",
     "output_type": "stream",
     "text": [
      "WARNING:tensorflow:Model's `__init__()` arguments contain non-serializable objects. Please implement a `get_config()` method in the subclassed Model for proper saving and loading. Defaulting to empty config.\n"
     ]
    },
    {
     "name": "stderr",
     "output_type": "stream",
     "text": [
      "WARNING:tensorflow:Model's `__init__()` arguments contain non-serializable objects. Please implement a `get_config()` method in the subclassed Model for proper saving and loading. Defaulting to empty config.\n"
     ]
    },
    {
     "name": "stdout",
     "output_type": "stream",
     "text": [
      "WARNING:tensorflow:Model's `__init__()` arguments contain non-serializable objects. Please implement a `get_config()` method in the subclassed Model for proper saving and loading. Defaulting to empty config.\n"
     ]
    },
    {
     "name": "stderr",
     "output_type": "stream",
     "text": [
      "WARNING:tensorflow:Model's `__init__()` arguments contain non-serializable objects. Please implement a `get_config()` method in the subclassed Model for proper saving and loading. Defaulting to empty config.\n"
     ]
    },
    {
     "name": "stdout",
     "output_type": "stream",
     "text": [
      "23/23 [==============================] - 131s 6s/step - loss: 0.7314 - accuracy: 0.4456 - val_loss: 0.6768 - val_accuracy: 0.5014\n",
      "Epoch 14/150\n",
      "23/23 [==============================] - ETA: 0s - loss: 0.7101 - accuracy: 0.4545\n",
      "Epoch 14: val_loss did not improve from 0.67675\n",
      "23/23 [==============================] - 84s 4s/step - loss: 0.7090 - accuracy: 0.4546 - val_loss: 0.7904 - val_accuracy: 0.4435\n",
      "Epoch 15/150\n",
      "23/23 [==============================] - ETA: 0s - loss: 0.6941 - accuracy: 0.4627\n",
      "Epoch 15: val_loss did not improve from 0.67675\n",
      "23/23 [==============================] - 83s 4s/step - loss: 0.6955 - accuracy: 0.4627 - val_loss: 0.7010 - val_accuracy: 0.4779\n",
      "Epoch 16/150\n",
      "23/23 [==============================] - ETA: 0s - loss: 0.6790 - accuracy: 0.4680\n",
      "Epoch 16: val_loss did not improve from 0.67675\n",
      "23/23 [==============================] - 74s 3s/step - loss: 0.6808 - accuracy: 0.4668 - val_loss: 0.7222 - val_accuracy: 0.4130\n",
      "Epoch 17/150\n",
      "23/23 [==============================] - ETA: 0s - loss: 0.6686 - accuracy: 0.4726\n",
      "Epoch 17: val_loss improved from 0.67675 to 0.64789, saving model to ckpt\n",
      "WARNING:tensorflow:Model's `__init__()` arguments contain non-serializable objects. Please implement a `get_config()` method in the subclassed Model for proper saving and loading. Defaulting to empty config.\n"
     ]
    },
    {
     "name": "stderr",
     "output_type": "stream",
     "text": [
      "WARNING:tensorflow:Model's `__init__()` arguments contain non-serializable objects. Please implement a `get_config()` method in the subclassed Model for proper saving and loading. Defaulting to empty config.\n"
     ]
    },
    {
     "name": "stdout",
     "output_type": "stream",
     "text": [
      "WARNING:tensorflow:Model's `__init__()` arguments contain non-serializable objects. Please implement a `get_config()` method in the subclassed Model for proper saving and loading. Defaulting to empty config.\n"
     ]
    },
    {
     "name": "stderr",
     "output_type": "stream",
     "text": [
      "WARNING:tensorflow:Model's `__init__()` arguments contain non-serializable objects. Please implement a `get_config()` method in the subclassed Model for proper saving and loading. Defaulting to empty config.\n",
      "WARNING:absl:Found untraced functions such as _update_step_xla, lstm_cell_layer_call_fn, lstm_cell_layer_call_and_return_conditional_losses, lstm_cell_1_layer_call_fn, lstm_cell_1_layer_call_and_return_conditional_losses while saving (showing 5 of 5). These functions will not be directly callable after loading.\n"
     ]
    },
    {
     "name": "stdout",
     "output_type": "stream",
     "text": [
      "INFO:tensorflow:Assets written to: ckpt\\assets\n"
     ]
    },
    {
     "name": "stderr",
     "output_type": "stream",
     "text": [
      "INFO:tensorflow:Assets written to: ckpt\\assets\n"
     ]
    },
    {
     "name": "stdout",
     "output_type": "stream",
     "text": [
      "WARNING:tensorflow:Model's `__init__()` arguments contain non-serializable objects. Please implement a `get_config()` method in the subclassed Model for proper saving and loading. Defaulting to empty config.\n"
     ]
    },
    {
     "name": "stderr",
     "output_type": "stream",
     "text": [
      "WARNING:tensorflow:Model's `__init__()` arguments contain non-serializable objects. Please implement a `get_config()` method in the subclassed Model for proper saving and loading. Defaulting to empty config.\n"
     ]
    },
    {
     "name": "stdout",
     "output_type": "stream",
     "text": [
      "WARNING:tensorflow:Model's `__init__()` arguments contain non-serializable objects. Please implement a `get_config()` method in the subclassed Model for proper saving and loading. Defaulting to empty config.\n"
     ]
    },
    {
     "name": "stderr",
     "output_type": "stream",
     "text": [
      "WARNING:tensorflow:Model's `__init__()` arguments contain non-serializable objects. Please implement a `get_config()` method in the subclassed Model for proper saving and loading. Defaulting to empty config.\n"
     ]
    },
    {
     "name": "stdout",
     "output_type": "stream",
     "text": [
      "23/23 [==============================] - 111s 5s/step - loss: 0.6697 - accuracy: 0.4720 - val_loss: 0.6479 - val_accuracy: 0.5081\n",
      "Epoch 18/150\n",
      "23/23 [==============================] - ETA: 0s - loss: 0.6533 - accuracy: 0.4775\n",
      "Epoch 18: val_loss did not improve from 0.64789\n",
      "23/23 [==============================] - 77s 3s/step - loss: 0.6542 - accuracy: 0.4767 - val_loss: 0.6790 - val_accuracy: 0.4693\n",
      "Epoch 19/150\n",
      "23/23 [==============================] - ETA: 0s - loss: 0.6399 - accuracy: 0.4839\n",
      "Epoch 19: val_loss did not improve from 0.64789\n",
      "23/23 [==============================] - 104s 5s/step - loss: 0.6366 - accuracy: 0.4843 - val_loss: 0.7412 - val_accuracy: 0.4791\n",
      "Epoch 20/150\n",
      "23/23 [==============================] - ETA: 0s - loss: 0.6280 - accuracy: 0.4906\n",
      "Epoch 20: val_loss improved from 0.64789 to 0.60454, saving model to ckpt\n",
      "WARNING:tensorflow:Model's `__init__()` arguments contain non-serializable objects. Please implement a `get_config()` method in the subclassed Model for proper saving and loading. Defaulting to empty config.\n"
     ]
    },
    {
     "name": "stderr",
     "output_type": "stream",
     "text": [
      "WARNING:tensorflow:Model's `__init__()` arguments contain non-serializable objects. Please implement a `get_config()` method in the subclassed Model for proper saving and loading. Defaulting to empty config.\n"
     ]
    },
    {
     "name": "stdout",
     "output_type": "stream",
     "text": [
      "WARNING:tensorflow:Model's `__init__()` arguments contain non-serializable objects. Please implement a `get_config()` method in the subclassed Model for proper saving and loading. Defaulting to empty config.\n"
     ]
    },
    {
     "name": "stderr",
     "output_type": "stream",
     "text": [
      "WARNING:tensorflow:Model's `__init__()` arguments contain non-serializable objects. Please implement a `get_config()` method in the subclassed Model for proper saving and loading. Defaulting to empty config.\n",
      "WARNING:absl:Found untraced functions such as _update_step_xla, lstm_cell_layer_call_fn, lstm_cell_layer_call_and_return_conditional_losses, lstm_cell_1_layer_call_fn, lstm_cell_1_layer_call_and_return_conditional_losses while saving (showing 5 of 5). These functions will not be directly callable after loading.\n"
     ]
    },
    {
     "name": "stdout",
     "output_type": "stream",
     "text": [
      "INFO:tensorflow:Assets written to: ckpt\\assets\n"
     ]
    },
    {
     "name": "stderr",
     "output_type": "stream",
     "text": [
      "INFO:tensorflow:Assets written to: ckpt\\assets\n"
     ]
    },
    {
     "name": "stdout",
     "output_type": "stream",
     "text": [
      "WARNING:tensorflow:Model's `__init__()` arguments contain non-serializable objects. Please implement a `get_config()` method in the subclassed Model for proper saving and loading. Defaulting to empty config.\n"
     ]
    },
    {
     "name": "stderr",
     "output_type": "stream",
     "text": [
      "WARNING:tensorflow:Model's `__init__()` arguments contain non-serializable objects. Please implement a `get_config()` method in the subclassed Model for proper saving and loading. Defaulting to empty config.\n"
     ]
    },
    {
     "name": "stdout",
     "output_type": "stream",
     "text": [
      "WARNING:tensorflow:Model's `__init__()` arguments contain non-serializable objects. Please implement a `get_config()` method in the subclassed Model for proper saving and loading. Defaulting to empty config.\n"
     ]
    },
    {
     "name": "stderr",
     "output_type": "stream",
     "text": [
      "WARNING:tensorflow:Model's `__init__()` arguments contain non-serializable objects. Please implement a `get_config()` method in the subclassed Model for proper saving and loading. Defaulting to empty config.\n"
     ]
    },
    {
     "name": "stdout",
     "output_type": "stream",
     "text": [
      "23/23 [==============================] - 130s 6s/step - loss: 0.6261 - accuracy: 0.4903 - val_loss: 0.6045 - val_accuracy: 0.4986\n",
      "Epoch 21/150\n",
      "23/23 [==============================] - ETA: 0s - loss: 0.6214 - accuracy: 0.4952\n",
      "Epoch 21: val_loss improved from 0.60454 to 0.56398, saving model to ckpt\n",
      "WARNING:tensorflow:Model's `__init__()` arguments contain non-serializable objects. Please implement a `get_config()` method in the subclassed Model for proper saving and loading. Defaulting to empty config.\n"
     ]
    },
    {
     "name": "stderr",
     "output_type": "stream",
     "text": [
      "WARNING:tensorflow:Model's `__init__()` arguments contain non-serializable objects. Please implement a `get_config()` method in the subclassed Model for proper saving and loading. Defaulting to empty config.\n"
     ]
    },
    {
     "name": "stdout",
     "output_type": "stream",
     "text": [
      "WARNING:tensorflow:Model's `__init__()` arguments contain non-serializable objects. Please implement a `get_config()` method in the subclassed Model for proper saving and loading. Defaulting to empty config.\n"
     ]
    },
    {
     "name": "stderr",
     "output_type": "stream",
     "text": [
      "WARNING:tensorflow:Model's `__init__()` arguments contain non-serializable objects. Please implement a `get_config()` method in the subclassed Model for proper saving and loading. Defaulting to empty config.\n",
      "WARNING:absl:Found untraced functions such as _update_step_xla, lstm_cell_layer_call_fn, lstm_cell_layer_call_and_return_conditional_losses, lstm_cell_1_layer_call_fn, lstm_cell_1_layer_call_and_return_conditional_losses while saving (showing 5 of 5). These functions will not be directly callable after loading.\n"
     ]
    },
    {
     "name": "stdout",
     "output_type": "stream",
     "text": [
      "INFO:tensorflow:Assets written to: ckpt\\assets\n"
     ]
    },
    {
     "name": "stderr",
     "output_type": "stream",
     "text": [
      "INFO:tensorflow:Assets written to: ckpt\\assets\n"
     ]
    },
    {
     "name": "stdout",
     "output_type": "stream",
     "text": [
      "WARNING:tensorflow:Model's `__init__()` arguments contain non-serializable objects. Please implement a `get_config()` method in the subclassed Model for proper saving and loading. Defaulting to empty config.\n"
     ]
    },
    {
     "name": "stderr",
     "output_type": "stream",
     "text": [
      "WARNING:tensorflow:Model's `__init__()` arguments contain non-serializable objects. Please implement a `get_config()` method in the subclassed Model for proper saving and loading. Defaulting to empty config.\n"
     ]
    },
    {
     "name": "stdout",
     "output_type": "stream",
     "text": [
      "WARNING:tensorflow:Model's `__init__()` arguments contain non-serializable objects. Please implement a `get_config()` method in the subclassed Model for proper saving and loading. Defaulting to empty config.\n"
     ]
    },
    {
     "name": "stderr",
     "output_type": "stream",
     "text": [
      "WARNING:tensorflow:Model's `__init__()` arguments contain non-serializable objects. Please implement a `get_config()` method in the subclassed Model for proper saving and loading. Defaulting to empty config.\n"
     ]
    },
    {
     "name": "stdout",
     "output_type": "stream",
     "text": [
      "23/23 [==============================] - 142s 6s/step - loss: 0.6253 - accuracy: 0.4936 - val_loss: 0.5640 - val_accuracy: 0.5376\n",
      "Epoch 22/150\n",
      "23/23 [==============================] - ETA: 0s - loss: 0.6118 - accuracy: 0.5018\n",
      "Epoch 22: val_loss did not improve from 0.56398\n",
      "23/23 [==============================] - 94s 4s/step - loss: 0.6136 - accuracy: 0.5009 - val_loss: 0.7449 - val_accuracy: 0.4628\n",
      "Epoch 23/150\n",
      "23/23 [==============================] - ETA: 0s - loss: 0.6011 - accuracy: 0.5093\n",
      "Epoch 23: val_loss did not improve from 0.56398\n",
      "23/23 [==============================] - 77s 3s/step - loss: 0.6023 - accuracy: 0.5084 - val_loss: 0.6892 - val_accuracy: 0.5261\n",
      "Epoch 24/150\n",
      "23/23 [==============================] - ETA: 0s - loss: 0.5898 - accuracy: 0.5145\n",
      "Epoch 24: val_loss did not improve from 0.56398\n",
      "23/23 [==============================] - 94s 4s/step - loss: 0.5900 - accuracy: 0.5141 - val_loss: 0.6516 - val_accuracy: 0.5100\n",
      "Epoch 25/150\n",
      "23/23 [==============================] - ETA: 0s - loss: 0.5825 - accuracy: 0.5186\n",
      "Epoch 25: val_loss did not improve from 0.56398\n",
      "23/23 [==============================] - 136s 6s/step - loss: 0.5842 - accuracy: 0.5178 - val_loss: 0.6266 - val_accuracy: 0.5292\n",
      "Epoch 26/150\n",
      "23/23 [==============================] - ETA: 0s - loss: 0.5710 - accuracy: 0.5252\n",
      "Epoch 26: val_loss did not improve from 0.56398\n",
      "23/23 [==============================] - 129s 6s/step - loss: 0.5704 - accuracy: 0.5248 - val_loss: 0.6271 - val_accuracy: 0.5129\n",
      "Epoch 27/150\n",
      "23/23 [==============================] - ETA: 0s - loss: 0.5629 - accuracy: 0.5300\n",
      "Epoch 27: val_loss did not improve from 0.56398\n",
      "23/23 [==============================] - 132s 6s/step - loss: 0.5639 - accuracy: 0.5290 - val_loss: 0.6032 - val_accuracy: 0.5256\n",
      "Epoch 28/150\n",
      "23/23 [==============================] - ETA: 0s - loss: 0.5602 - accuracy: 0.5308\n",
      "Epoch 28: val_loss did not improve from 0.56398\n",
      "23/23 [==============================] - 94s 4s/step - loss: 0.5633 - accuracy: 0.5296 - val_loss: 0.5961 - val_accuracy: 0.5377\n",
      "Epoch 29/150\n",
      "23/23 [==============================] - ETA: 0s - loss: 0.5507 - accuracy: 0.5332\n",
      "Epoch 29: val_loss did not improve from 0.56398\n",
      "23/23 [==============================] - 35s 2s/step - loss: 0.5529 - accuracy: 0.5327 - val_loss: 0.5796 - val_accuracy: 0.5356\n",
      "Epoch 30/150\n",
      "23/23 [==============================] - ETA: 0s - loss: 0.5417 - accuracy: 0.5420\n",
      "Epoch 30: val_loss improved from 0.56398 to 0.49501, saving model to ckpt\n",
      "WARNING:tensorflow:Model's `__init__()` arguments contain non-serializable objects. Please implement a `get_config()` method in the subclassed Model for proper saving and loading. Defaulting to empty config.\n"
     ]
    },
    {
     "name": "stderr",
     "output_type": "stream",
     "text": [
      "WARNING:tensorflow:Model's `__init__()` arguments contain non-serializable objects. Please implement a `get_config()` method in the subclassed Model for proper saving and loading. Defaulting to empty config.\n"
     ]
    },
    {
     "name": "stdout",
     "output_type": "stream",
     "text": [
      "WARNING:tensorflow:Model's `__init__()` arguments contain non-serializable objects. Please implement a `get_config()` method in the subclassed Model for proper saving and loading. Defaulting to empty config.\n"
     ]
    },
    {
     "name": "stderr",
     "output_type": "stream",
     "text": [
      "WARNING:tensorflow:Model's `__init__()` arguments contain non-serializable objects. Please implement a `get_config()` method in the subclassed Model for proper saving and loading. Defaulting to empty config.\n",
      "WARNING:absl:Found untraced functions such as _update_step_xla, lstm_cell_layer_call_fn, lstm_cell_layer_call_and_return_conditional_losses, lstm_cell_1_layer_call_fn, lstm_cell_1_layer_call_and_return_conditional_losses while saving (showing 5 of 5). These functions will not be directly callable after loading.\n"
     ]
    },
    {
     "name": "stdout",
     "output_type": "stream",
     "text": [
      "INFO:tensorflow:Assets written to: ckpt\\assets\n"
     ]
    },
    {
     "name": "stderr",
     "output_type": "stream",
     "text": [
      "INFO:tensorflow:Assets written to: ckpt\\assets\n"
     ]
    },
    {
     "name": "stdout",
     "output_type": "stream",
     "text": [
      "WARNING:tensorflow:Model's `__init__()` arguments contain non-serializable objects. Please implement a `get_config()` method in the subclassed Model for proper saving and loading. Defaulting to empty config.\n"
     ]
    },
    {
     "name": "stderr",
     "output_type": "stream",
     "text": [
      "WARNING:tensorflow:Model's `__init__()` arguments contain non-serializable objects. Please implement a `get_config()` method in the subclassed Model for proper saving and loading. Defaulting to empty config.\n"
     ]
    },
    {
     "name": "stdout",
     "output_type": "stream",
     "text": [
      "WARNING:tensorflow:Model's `__init__()` arguments contain non-serializable objects. Please implement a `get_config()` method in the subclassed Model for proper saving and loading. Defaulting to empty config.\n"
     ]
    },
    {
     "name": "stderr",
     "output_type": "stream",
     "text": [
      "WARNING:tensorflow:Model's `__init__()` arguments contain non-serializable objects. Please implement a `get_config()` method in the subclassed Model for proper saving and loading. Defaulting to empty config.\n"
     ]
    },
    {
     "name": "stdout",
     "output_type": "stream",
     "text": [
      "23/23 [==============================] - 57s 3s/step - loss: 0.5436 - accuracy: 0.5418 - val_loss: 0.4950 - val_accuracy: 0.5827\n",
      "Epoch 31/150\n",
      "23/23 [==============================] - ETA: 0s - loss: 0.5352 - accuracy: 0.5460\n",
      "Epoch 31: val_loss did not improve from 0.49501\n",
      "23/23 [==============================] - 35s 2s/step - loss: 0.5375 - accuracy: 0.5450 - val_loss: 0.5257 - val_accuracy: 0.5694\n",
      "Epoch 32/150\n",
      "23/23 [==============================] - ETA: 0s - loss: 0.5313 - accuracy: 0.5495\n",
      "Epoch 32: val_loss did not improve from 0.49501\n",
      "23/23 [==============================] - 35s 2s/step - loss: 0.5338 - accuracy: 0.5480 - val_loss: 0.6391 - val_accuracy: 0.5432\n",
      "Epoch 33/150\n",
      "23/23 [==============================] - ETA: 0s - loss: 0.5245 - accuracy: 0.5479\n",
      "Epoch 33: val_loss did not improve from 0.49501\n",
      "23/23 [==============================] - 36s 2s/step - loss: 0.5257 - accuracy: 0.5468 - val_loss: 0.5677 - val_accuracy: 0.5486\n",
      "Epoch 34/150\n",
      "23/23 [==============================] - ETA: 0s - loss: 0.5203 - accuracy: 0.5550\n",
      "Epoch 34: val_loss improved from 0.49501 to 0.48726, saving model to ckpt\n",
      "WARNING:tensorflow:Model's `__init__()` arguments contain non-serializable objects. Please implement a `get_config()` method in the subclassed Model for proper saving and loading. Defaulting to empty config.\n"
     ]
    },
    {
     "name": "stderr",
     "output_type": "stream",
     "text": [
      "WARNING:tensorflow:Model's `__init__()` arguments contain non-serializable objects. Please implement a `get_config()` method in the subclassed Model for proper saving and loading. Defaulting to empty config.\n"
     ]
    },
    {
     "name": "stdout",
     "output_type": "stream",
     "text": [
      "WARNING:tensorflow:Model's `__init__()` arguments contain non-serializable objects. Please implement a `get_config()` method in the subclassed Model for proper saving and loading. Defaulting to empty config.\n"
     ]
    },
    {
     "name": "stderr",
     "output_type": "stream",
     "text": [
      "WARNING:tensorflow:Model's `__init__()` arguments contain non-serializable objects. Please implement a `get_config()` method in the subclassed Model for proper saving and loading. Defaulting to empty config.\n",
      "WARNING:absl:Found untraced functions such as _update_step_xla, lstm_cell_layer_call_fn, lstm_cell_layer_call_and_return_conditional_losses, lstm_cell_1_layer_call_fn, lstm_cell_1_layer_call_and_return_conditional_losses while saving (showing 5 of 5). These functions will not be directly callable after loading.\n"
     ]
    },
    {
     "name": "stdout",
     "output_type": "stream",
     "text": [
      "INFO:tensorflow:Assets written to: ckpt\\assets\n"
     ]
    },
    {
     "name": "stderr",
     "output_type": "stream",
     "text": [
      "INFO:tensorflow:Assets written to: ckpt\\assets\n"
     ]
    },
    {
     "name": "stdout",
     "output_type": "stream",
     "text": [
      "WARNING:tensorflow:Model's `__init__()` arguments contain non-serializable objects. Please implement a `get_config()` method in the subclassed Model for proper saving and loading. Defaulting to empty config.\n"
     ]
    },
    {
     "name": "stderr",
     "output_type": "stream",
     "text": [
      "WARNING:tensorflow:Model's `__init__()` arguments contain non-serializable objects. Please implement a `get_config()` method in the subclassed Model for proper saving and loading. Defaulting to empty config.\n"
     ]
    },
    {
     "name": "stdout",
     "output_type": "stream",
     "text": [
      "WARNING:tensorflow:Model's `__init__()` arguments contain non-serializable objects. Please implement a `get_config()` method in the subclassed Model for proper saving and loading. Defaulting to empty config.\n"
     ]
    },
    {
     "name": "stderr",
     "output_type": "stream",
     "text": [
      "WARNING:tensorflow:Model's `__init__()` arguments contain non-serializable objects. Please implement a `get_config()` method in the subclassed Model for proper saving and loading. Defaulting to empty config.\n"
     ]
    },
    {
     "name": "stdout",
     "output_type": "stream",
     "text": [
      "23/23 [==============================] - 55s 2s/step - loss: 0.5240 - accuracy: 0.5532 - val_loss: 0.4873 - val_accuracy: 0.5868\n",
      "Epoch 35/150\n",
      "23/23 [==============================] - ETA: 0s - loss: 0.5134 - accuracy: 0.5603\n",
      "Epoch 35: val_loss did not improve from 0.48726\n",
      "23/23 [==============================] - 31s 1s/step - loss: 0.5139 - accuracy: 0.5603 - val_loss: 0.6008 - val_accuracy: 0.5120\n",
      "Epoch 36/150\n",
      "23/23 [==============================] - ETA: 0s - loss: 0.5084 - accuracy: 0.5625\n",
      "Epoch 36: val_loss did not improve from 0.48726\n",
      "23/23 [==============================] - 30s 1s/step - loss: 0.5092 - accuracy: 0.5613 - val_loss: 0.5936 - val_accuracy: 0.5489\n",
      "Epoch 37/150\n",
      "23/23 [==============================] - ETA: 0s - loss: 0.5042 - accuracy: 0.5631\n",
      "Epoch 37: val_loss did not improve from 0.48726\n",
      "23/23 [==============================] - 30s 1s/step - loss: 0.5059 - accuracy: 0.5620 - val_loss: 0.5379 - val_accuracy: 0.5596\n",
      "Epoch 38/150\n",
      "23/23 [==============================] - ETA: 0s - loss: 0.4971 - accuracy: 0.5667\n",
      "Epoch 38: val_loss did not improve from 0.48726\n",
      "23/23 [==============================] - 31s 1s/step - loss: 0.4968 - accuracy: 0.5669 - val_loss: 0.5358 - val_accuracy: 0.5467\n",
      "Epoch 39/150\n",
      "23/23 [==============================] - ETA: 0s - loss: 0.4932 - accuracy: 0.5716\n",
      "Epoch 39: val_loss did not improve from 0.48726\n",
      "23/23 [==============================] - 31s 1s/step - loss: 0.4960 - accuracy: 0.5708 - val_loss: 0.5227 - val_accuracy: 0.5891\n",
      "Epoch 40/150\n",
      "23/23 [==============================] - ETA: 0s - loss: 0.4867 - accuracy: 0.5734\n",
      "Epoch 40: val_loss did not improve from 0.48726\n",
      "23/23 [==============================] - 31s 1s/step - loss: 0.4855 - accuracy: 0.5742 - val_loss: 0.6497 - val_accuracy: 0.5359\n",
      "Epoch 41/150\n",
      "23/23 [==============================] - ETA: 0s - loss: 0.4824 - accuracy: 0.5750\n",
      "Epoch 41: val_loss did not improve from 0.48726\n",
      "23/23 [==============================] - 31s 1s/step - loss: 0.4815 - accuracy: 0.5744 - val_loss: 0.5965 - val_accuracy: 0.5428\n",
      "Epoch 42/150\n",
      "23/23 [==============================] - ETA: 0s - loss: 0.4808 - accuracy: 0.5765\n",
      "Epoch 42: val_loss did not improve from 0.48726\n",
      "23/23 [==============================] - 33s 1s/step - loss: 0.4815 - accuracy: 0.5760 - val_loss: 0.5545 - val_accuracy: 0.5690\n",
      "Epoch 43/150\n",
      "23/23 [==============================] - ETA: 0s - loss: 0.4779 - accuracy: 0.5800\n",
      "Epoch 43: val_loss did not improve from 0.48726\n",
      "23/23 [==============================] - 31s 1s/step - loss: 0.4797 - accuracy: 0.5791 - val_loss: 0.5290 - val_accuracy: 0.5531\n",
      "Epoch 44/150\n",
      "23/23 [==============================] - ETA: 0s - loss: 0.4703 - accuracy: 0.5856\n",
      "Epoch 44: val_loss did not improve from 0.48726\n",
      "23/23 [==============================] - 31s 1s/step - loss: 0.4703 - accuracy: 0.5863 - val_loss: 0.5407 - val_accuracy: 0.5569\n",
      "Epoch 45/150\n",
      "23/23 [==============================] - ETA: 0s - loss: 0.4685 - accuracy: 0.5853\n",
      "Epoch 45: val_loss did not improve from 0.48726\n",
      "23/23 [==============================] - 31s 1s/step - loss: 0.4680 - accuracy: 0.5852 - val_loss: 0.5475 - val_accuracy: 0.5918\n",
      "Epoch 46/150\n",
      "23/23 [==============================] - ETA: 0s - loss: 0.4625 - accuracy: 0.5919\n",
      "Epoch 46: val_loss did not improve from 0.48726\n",
      "23/23 [==============================] - 31s 1s/step - loss: 0.4646 - accuracy: 0.5904 - val_loss: 0.5231 - val_accuracy: 0.5706\n",
      "Epoch 47/150\n",
      "23/23 [==============================] - ETA: 0s - loss: 0.4610 - accuracy: 0.5911\n",
      "Epoch 47: val_loss did not improve from 0.48726\n",
      "23/23 [==============================] - 31s 1s/step - loss: 0.4621 - accuracy: 0.5905 - val_loss: 0.5292 - val_accuracy: 0.5765\n",
      "Epoch 48/150\n",
      "23/23 [==============================] - ETA: 0s - loss: 0.4528 - accuracy: 0.5985\n",
      "Epoch 48: val_loss did not improve from 0.48726\n",
      "23/23 [==============================] - 32s 1s/step - loss: 0.4510 - accuracy: 0.6002 - val_loss: 0.5901 - val_accuracy: 0.5812\n",
      "Epoch 49/150\n",
      "23/23 [==============================] - ETA: 0s - loss: 0.4513 - accuracy: 0.5989\n",
      "Epoch 49: val_loss did not improve from 0.48726\n",
      "23/23 [==============================] - 31s 1s/step - loss: 0.4513 - accuracy: 0.5979 - val_loss: 0.5412 - val_accuracy: 0.5794\n",
      "Epoch 50/150\n",
      "23/23 [==============================] - ETA: 0s - loss: 0.4491 - accuracy: 0.5984\n",
      "Epoch 50: val_loss did not improve from 0.48726\n",
      "23/23 [==============================] - 31s 1s/step - loss: 0.4492 - accuracy: 0.5983 - val_loss: 0.5272 - val_accuracy: 0.5885\n",
      "Epoch 51/150\n",
      "23/23 [==============================] - ETA: 0s - loss: 0.4473 - accuracy: 0.6021\n",
      "Epoch 51: val_loss did not improve from 0.48726\n",
      "23/23 [==============================] - 31s 1s/step - loss: 0.4485 - accuracy: 0.6018 - val_loss: 0.5243 - val_accuracy: 0.5956\n",
      "Epoch 52/150\n",
      "23/23 [==============================] - ETA: 0s - loss: 0.4432 - accuracy: 0.6042\n",
      "Epoch 52: val_loss did not improve from 0.48726\n",
      "23/23 [==============================] - 31s 1s/step - loss: 0.4429 - accuracy: 0.6047 - val_loss: 0.5422 - val_accuracy: 0.6047\n",
      "Epoch 53/150\n",
      "23/23 [==============================] - ETA: 0s - loss: 0.4372 - accuracy: 0.6077\n",
      "Epoch 53: val_loss did not improve from 0.48726\n",
      "23/23 [==============================] - 31s 1s/step - loss: 0.4392 - accuracy: 0.6067 - val_loss: 0.6370 - val_accuracy: 0.5635\n",
      "Epoch 54/150\n",
      "23/23 [==============================] - ETA: 0s - loss: 0.4350 - accuracy: 0.6073\n",
      "Epoch 54: val_loss did not improve from 0.48726\n",
      "23/23 [==============================] - 31s 1s/step - loss: 0.4368 - accuracy: 0.6061 - val_loss: 0.5654 - val_accuracy: 0.5987\n",
      "Epoch 55/150\n",
      "23/23 [==============================] - ETA: 0s - loss: 0.4297 - accuracy: 0.6140\n",
      "Epoch 55: val_loss did not improve from 0.48726\n",
      "23/23 [==============================] - 31s 1s/step - loss: 0.4308 - accuracy: 0.6128 - val_loss: 0.5218 - val_accuracy: 0.5916\n",
      "Epoch 56/150\n",
      "23/23 [==============================] - ETA: 0s - loss: 0.4308 - accuracy: 0.6139\n",
      "Epoch 56: val_loss did not improve from 0.48726\n",
      "23/23 [==============================] - 31s 1s/step - loss: 0.4314 - accuracy: 0.6124 - val_loss: 0.5470 - val_accuracy: 0.5595\n",
      "Epoch 57/150\n",
      "23/23 [==============================] - ETA: 0s - loss: 0.4232 - accuracy: 0.6204\n",
      "Epoch 57: val_loss improved from 0.48726 to 0.43829, saving model to ckpt\n",
      "WARNING:tensorflow:Model's `__init__()` arguments contain non-serializable objects. Please implement a `get_config()` method in the subclassed Model for proper saving and loading. Defaulting to empty config.\n"
     ]
    },
    {
     "name": "stderr",
     "output_type": "stream",
     "text": [
      "WARNING:tensorflow:Model's `__init__()` arguments contain non-serializable objects. Please implement a `get_config()` method in the subclassed Model for proper saving and loading. Defaulting to empty config.\n"
     ]
    },
    {
     "name": "stdout",
     "output_type": "stream",
     "text": [
      "WARNING:tensorflow:Model's `__init__()` arguments contain non-serializable objects. Please implement a `get_config()` method in the subclassed Model for proper saving and loading. Defaulting to empty config.\n"
     ]
    },
    {
     "name": "stderr",
     "output_type": "stream",
     "text": [
      "WARNING:tensorflow:Model's `__init__()` arguments contain non-serializable objects. Please implement a `get_config()` method in the subclassed Model for proper saving and loading. Defaulting to empty config.\n",
      "WARNING:absl:Found untraced functions such as _update_step_xla, lstm_cell_layer_call_fn, lstm_cell_layer_call_and_return_conditional_losses, lstm_cell_1_layer_call_fn, lstm_cell_1_layer_call_and_return_conditional_losses while saving (showing 5 of 5). These functions will not be directly callable after loading.\n"
     ]
    },
    {
     "name": "stdout",
     "output_type": "stream",
     "text": [
      "INFO:tensorflow:Assets written to: ckpt\\assets\n"
     ]
    },
    {
     "name": "stderr",
     "output_type": "stream",
     "text": [
      "INFO:tensorflow:Assets written to: ckpt\\assets\n"
     ]
    },
    {
     "name": "stdout",
     "output_type": "stream",
     "text": [
      "WARNING:tensorflow:Model's `__init__()` arguments contain non-serializable objects. Please implement a `get_config()` method in the subclassed Model for proper saving and loading. Defaulting to empty config.\n"
     ]
    },
    {
     "name": "stderr",
     "output_type": "stream",
     "text": [
      "WARNING:tensorflow:Model's `__init__()` arguments contain non-serializable objects. Please implement a `get_config()` method in the subclassed Model for proper saving and loading. Defaulting to empty config.\n"
     ]
    },
    {
     "name": "stdout",
     "output_type": "stream",
     "text": [
      "WARNING:tensorflow:Model's `__init__()` arguments contain non-serializable objects. Please implement a `get_config()` method in the subclassed Model for proper saving and loading. Defaulting to empty config.\n"
     ]
    },
    {
     "name": "stderr",
     "output_type": "stream",
     "text": [
      "WARNING:tensorflow:Model's `__init__()` arguments contain non-serializable objects. Please implement a `get_config()` method in the subclassed Model for proper saving and loading. Defaulting to empty config.\n"
     ]
    },
    {
     "name": "stdout",
     "output_type": "stream",
     "text": [
      "23/23 [==============================] - 52s 2s/step - loss: 0.4220 - accuracy: 0.6220 - val_loss: 0.4383 - val_accuracy: 0.6035\n",
      "Epoch 58/150\n",
      "23/23 [==============================] - ETA: 0s - loss: 0.4237 - accuracy: 0.6168\n",
      "Epoch 58: val_loss did not improve from 0.43829\n",
      "23/23 [==============================] - 34s 1s/step - loss: 0.4237 - accuracy: 0.6173 - val_loss: 0.5055 - val_accuracy: 0.5891\n",
      "Epoch 59/150\n",
      "23/23 [==============================] - ETA: 0s - loss: 0.4209 - accuracy: 0.6188\n",
      "Epoch 59: val_loss did not improve from 0.43829\n",
      "23/23 [==============================] - 34s 1s/step - loss: 0.4223 - accuracy: 0.6176 - val_loss: 0.5205 - val_accuracy: 0.6104\n",
      "Epoch 60/150\n",
      "23/23 [==============================] - ETA: 0s - loss: 0.4169 - accuracy: 0.6221\n",
      "Epoch 60: val_loss did not improve from 0.43829\n",
      "23/23 [==============================] - 34s 2s/step - loss: 0.4167 - accuracy: 0.6225 - val_loss: 0.4718 - val_accuracy: 0.6411\n",
      "Epoch 61/150\n",
      "23/23 [==============================] - ETA: 0s - loss: 0.4158 - accuracy: 0.6211\n",
      "Epoch 61: val_loss did not improve from 0.43829\n",
      "23/23 [==============================] - 34s 1s/step - loss: 0.4168 - accuracy: 0.6201 - val_loss: 0.6454 - val_accuracy: 0.5820\n",
      "Epoch 62/150\n",
      "23/23 [==============================] - ETA: 0s - loss: 0.4147 - accuracy: 0.6258\n",
      "Epoch 62: val_loss did not improve from 0.43829\n",
      "23/23 [==============================] - 34s 1s/step - loss: 0.4153 - accuracy: 0.6259 - val_loss: 0.4780 - val_accuracy: 0.5883\n",
      "Epoch 63/150\n",
      "23/23 [==============================] - ETA: 0s - loss: 0.4111 - accuracy: 0.6234\n",
      "Epoch 63: val_loss did not improve from 0.43829\n",
      "23/23 [==============================] - 34s 1s/step - loss: 0.4113 - accuracy: 0.6230 - val_loss: 0.5399 - val_accuracy: 0.6014\n",
      "Epoch 64/150\n",
      "23/23 [==============================] - ETA: 0s - loss: 0.4110 - accuracy: 0.6248\n",
      "Epoch 64: val_loss did not improve from 0.43829\n",
      "23/23 [==============================] - 34s 1s/step - loss: 0.4115 - accuracy: 0.6239 - val_loss: 0.4923 - val_accuracy: 0.5843\n",
      "Epoch 65/150\n",
      "23/23 [==============================] - ETA: 0s - loss: 0.4067 - accuracy: 0.6286\n",
      "Epoch 65: val_loss did not improve from 0.43829\n",
      "23/23 [==============================] - 34s 1s/step - loss: 0.4082 - accuracy: 0.6279 - val_loss: 0.5570 - val_accuracy: 0.5995\n",
      "Epoch 66/150\n",
      "23/23 [==============================] - ETA: 0s - loss: 0.4030 - accuracy: 0.6303\n",
      "Epoch 66: val_loss improved from 0.43829 to 0.38214, saving model to ckpt\n",
      "WARNING:tensorflow:Model's `__init__()` arguments contain non-serializable objects. Please implement a `get_config()` method in the subclassed Model for proper saving and loading. Defaulting to empty config.\n"
     ]
    },
    {
     "name": "stderr",
     "output_type": "stream",
     "text": [
      "WARNING:tensorflow:Model's `__init__()` arguments contain non-serializable objects. Please implement a `get_config()` method in the subclassed Model for proper saving and loading. Defaulting to empty config.\n"
     ]
    },
    {
     "name": "stdout",
     "output_type": "stream",
     "text": [
      "WARNING:tensorflow:Model's `__init__()` arguments contain non-serializable objects. Please implement a `get_config()` method in the subclassed Model for proper saving and loading. Defaulting to empty config.\n"
     ]
    },
    {
     "name": "stderr",
     "output_type": "stream",
     "text": [
      "WARNING:tensorflow:Model's `__init__()` arguments contain non-serializable objects. Please implement a `get_config()` method in the subclassed Model for proper saving and loading. Defaulting to empty config.\n",
      "WARNING:absl:Found untraced functions such as _update_step_xla, lstm_cell_layer_call_fn, lstm_cell_layer_call_and_return_conditional_losses, lstm_cell_1_layer_call_fn, lstm_cell_1_layer_call_and_return_conditional_losses while saving (showing 5 of 5). These functions will not be directly callable after loading.\n"
     ]
    },
    {
     "name": "stdout",
     "output_type": "stream",
     "text": [
      "INFO:tensorflow:Assets written to: ckpt\\assets\n"
     ]
    },
    {
     "name": "stderr",
     "output_type": "stream",
     "text": [
      "INFO:tensorflow:Assets written to: ckpt\\assets\n"
     ]
    },
    {
     "name": "stdout",
     "output_type": "stream",
     "text": [
      "WARNING:tensorflow:Model's `__init__()` arguments contain non-serializable objects. Please implement a `get_config()` method in the subclassed Model for proper saving and loading. Defaulting to empty config.\n"
     ]
    },
    {
     "name": "stderr",
     "output_type": "stream",
     "text": [
      "WARNING:tensorflow:Model's `__init__()` arguments contain non-serializable objects. Please implement a `get_config()` method in the subclassed Model for proper saving and loading. Defaulting to empty config.\n"
     ]
    },
    {
     "name": "stdout",
     "output_type": "stream",
     "text": [
      "WARNING:tensorflow:Model's `__init__()` arguments contain non-serializable objects. Please implement a `get_config()` method in the subclassed Model for proper saving and loading. Defaulting to empty config.\n"
     ]
    },
    {
     "name": "stderr",
     "output_type": "stream",
     "text": [
      "WARNING:tensorflow:Model's `__init__()` arguments contain non-serializable objects. Please implement a `get_config()` method in the subclassed Model for proper saving and loading. Defaulting to empty config.\n"
     ]
    },
    {
     "name": "stdout",
     "output_type": "stream",
     "text": [
      "23/23 [==============================] - 55s 2s/step - loss: 0.4022 - accuracy: 0.6301 - val_loss: 0.3821 - val_accuracy: 0.6628\n",
      "Epoch 67/150\n",
      "23/23 [==============================] - ETA: 0s - loss: 0.4023 - accuracy: 0.6311\n",
      "Epoch 67: val_loss did not improve from 0.38214\n",
      "23/23 [==============================] - 30s 1s/step - loss: 0.4026 - accuracy: 0.6306 - val_loss: 0.4726 - val_accuracy: 0.6027\n",
      "Epoch 68/150\n",
      "23/23 [==============================] - ETA: 0s - loss: 0.4011 - accuracy: 0.6346\n",
      "Epoch 68: val_loss did not improve from 0.38214\n",
      "23/23 [==============================] - 33s 1s/step - loss: 0.4028 - accuracy: 0.6337 - val_loss: 0.5008 - val_accuracy: 0.5890\n",
      "Epoch 69/150\n",
      "23/23 [==============================] - ETA: 0s - loss: 0.3982 - accuracy: 0.6364\n",
      "Epoch 69: val_loss did not improve from 0.38214\n",
      "23/23 [==============================] - 36s 2s/step - loss: 0.3988 - accuracy: 0.6364 - val_loss: 0.4943 - val_accuracy: 0.6122\n",
      "Epoch 70/150\n",
      "23/23 [==============================] - ETA: 0s - loss: 0.3961 - accuracy: 0.6370\n",
      "Epoch 70: val_loss did not improve from 0.38214\n",
      "23/23 [==============================] - 33s 1s/step - loss: 0.3978 - accuracy: 0.6358 - val_loss: 0.4481 - val_accuracy: 0.6210\n",
      "Epoch 71/150\n",
      "23/23 [==============================] - ETA: 0s - loss: 0.3909 - accuracy: 0.6396\n",
      "Epoch 71: val_loss did not improve from 0.38214\n",
      "23/23 [==============================] - 33s 1s/step - loss: 0.3914 - accuracy: 0.6394 - val_loss: 0.4915 - val_accuracy: 0.5917\n",
      "Epoch 72/150\n",
      "23/23 [==============================] - ETA: 0s - loss: 0.3899 - accuracy: 0.6406\n",
      "Epoch 72: val_loss did not improve from 0.38214\n",
      "23/23 [==============================] - 33s 1s/step - loss: 0.3904 - accuracy: 0.6406 - val_loss: 0.5559 - val_accuracy: 0.5840\n",
      "Epoch 73/150\n",
      "23/23 [==============================] - ETA: 0s - loss: 0.3920 - accuracy: 0.6374\n",
      "Epoch 73: val_loss did not improve from 0.38214\n",
      "23/23 [==============================] - 33s 1s/step - loss: 0.3930 - accuracy: 0.6361 - val_loss: 0.5378 - val_accuracy: 0.6240\n",
      "Epoch 74/150\n",
      "23/23 [==============================] - ETA: 0s - loss: 0.3904 - accuracy: 0.6433\n",
      "Epoch 74: val_loss did not improve from 0.38214\n",
      "23/23 [==============================] - 33s 1s/step - loss: 0.3897 - accuracy: 0.6440 - val_loss: 0.4267 - val_accuracy: 0.6319\n",
      "Epoch 75/150\n",
      "23/23 [==============================] - ETA: 0s - loss: 0.3857 - accuracy: 0.6433\n",
      "Epoch 75: val_loss improved from 0.38214 to 0.36929, saving model to ckpt\n",
      "WARNING:tensorflow:Model's `__init__()` arguments contain non-serializable objects. Please implement a `get_config()` method in the subclassed Model for proper saving and loading. Defaulting to empty config.\n"
     ]
    },
    {
     "name": "stderr",
     "output_type": "stream",
     "text": [
      "WARNING:tensorflow:Model's `__init__()` arguments contain non-serializable objects. Please implement a `get_config()` method in the subclassed Model for proper saving and loading. Defaulting to empty config.\n"
     ]
    },
    {
     "name": "stdout",
     "output_type": "stream",
     "text": [
      "WARNING:tensorflow:Model's `__init__()` arguments contain non-serializable objects. Please implement a `get_config()` method in the subclassed Model for proper saving and loading. Defaulting to empty config.\n"
     ]
    },
    {
     "name": "stderr",
     "output_type": "stream",
     "text": [
      "WARNING:tensorflow:Model's `__init__()` arguments contain non-serializable objects. Please implement a `get_config()` method in the subclassed Model for proper saving and loading. Defaulting to empty config.\n",
      "WARNING:absl:Found untraced functions such as _update_step_xla, lstm_cell_layer_call_fn, lstm_cell_layer_call_and_return_conditional_losses, lstm_cell_1_layer_call_fn, lstm_cell_1_layer_call_and_return_conditional_losses while saving (showing 5 of 5). These functions will not be directly callable after loading.\n"
     ]
    },
    {
     "name": "stdout",
     "output_type": "stream",
     "text": [
      "INFO:tensorflow:Assets written to: ckpt\\assets\n"
     ]
    },
    {
     "name": "stderr",
     "output_type": "stream",
     "text": [
      "INFO:tensorflow:Assets written to: ckpt\\assets\n"
     ]
    },
    {
     "name": "stdout",
     "output_type": "stream",
     "text": [
      "WARNING:tensorflow:Model's `__init__()` arguments contain non-serializable objects. Please implement a `get_config()` method in the subclassed Model for proper saving and loading. Defaulting to empty config.\n"
     ]
    },
    {
     "name": "stderr",
     "output_type": "stream",
     "text": [
      "WARNING:tensorflow:Model's `__init__()` arguments contain non-serializable objects. Please implement a `get_config()` method in the subclassed Model for proper saving and loading. Defaulting to empty config.\n"
     ]
    },
    {
     "name": "stdout",
     "output_type": "stream",
     "text": [
      "WARNING:tensorflow:Model's `__init__()` arguments contain non-serializable objects. Please implement a `get_config()` method in the subclassed Model for proper saving and loading. Defaulting to empty config.\n"
     ]
    },
    {
     "name": "stderr",
     "output_type": "stream",
     "text": [
      "WARNING:tensorflow:Model's `__init__()` arguments contain non-serializable objects. Please implement a `get_config()` method in the subclassed Model for proper saving and loading. Defaulting to empty config.\n"
     ]
    },
    {
     "name": "stdout",
     "output_type": "stream",
     "text": [
      "23/23 [==============================] - 52s 2s/step - loss: 0.3864 - accuracy: 0.6426 - val_loss: 0.3693 - val_accuracy: 0.6648\n",
      "Epoch 76/150\n",
      "23/23 [==============================] - ETA: 0s - loss: 0.3837 - accuracy: 0.6454\n",
      "Epoch 76: val_loss did not improve from 0.36929\n",
      "23/23 [==============================] - 38s 2s/step - loss: 0.3826 - accuracy: 0.6453 - val_loss: 0.5087 - val_accuracy: 0.6201\n",
      "Epoch 77/150\n",
      "23/23 [==============================] - ETA: 0s - loss: 0.3842 - accuracy: 0.6437\n",
      "Epoch 77: val_loss did not improve from 0.36929\n",
      "23/23 [==============================] - 39s 2s/step - loss: 0.3852 - accuracy: 0.6427 - val_loss: 0.4748 - val_accuracy: 0.6079\n",
      "Epoch 78/150\n",
      "23/23 [==============================] - ETA: 0s - loss: 0.3812 - accuracy: 0.6505\n",
      "Epoch 78: val_loss did not improve from 0.36929\n",
      "23/23 [==============================] - 38s 2s/step - loss: 0.3829 - accuracy: 0.6500 - val_loss: 0.4511 - val_accuracy: 0.6207\n",
      "Epoch 79/150\n",
      "23/23 [==============================] - ETA: 0s - loss: 0.3810 - accuracy: 0.6452\n",
      "Epoch 79: val_loss did not improve from 0.36929\n",
      "23/23 [==============================] - 39s 2s/step - loss: 0.3803 - accuracy: 0.6447 - val_loss: 0.4096 - val_accuracy: 0.6544\n",
      "Epoch 80/150\n",
      "23/23 [==============================] - ETA: 0s - loss: 0.3794 - accuracy: 0.6486\n",
      "Epoch 80: val_loss did not improve from 0.36929\n",
      "23/23 [==============================] - 39s 2s/step - loss: 0.3807 - accuracy: 0.6474 - val_loss: 0.5881 - val_accuracy: 0.5937\n",
      "Epoch 81/150\n",
      "23/23 [==============================] - ETA: 0s - loss: 0.3777 - accuracy: 0.6508\n",
      "Epoch 81: val_loss did not improve from 0.36929\n",
      "23/23 [==============================] - 38s 2s/step - loss: 0.3779 - accuracy: 0.6505 - val_loss: 0.5548 - val_accuracy: 0.5979\n",
      "Epoch 82/150\n",
      "23/23 [==============================] - ETA: 0s - loss: 0.3739 - accuracy: 0.6540\n",
      "Epoch 82: val_loss did not improve from 0.36929\n",
      "23/23 [==============================] - 39s 2s/step - loss: 0.3736 - accuracy: 0.6539 - val_loss: 0.4382 - val_accuracy: 0.6327\n",
      "Epoch 83/150\n",
      "23/23 [==============================] - ETA: 0s - loss: 0.3723 - accuracy: 0.6513\n",
      "Epoch 83: val_loss did not improve from 0.36929\n",
      "23/23 [==============================] - 39s 2s/step - loss: 0.3739 - accuracy: 0.6505 - val_loss: 0.4814 - val_accuracy: 0.6215\n",
      "Epoch 84/150\n",
      "23/23 [==============================] - ETA: 0s - loss: 0.3702 - accuracy: 0.6525\n",
      "Epoch 84: val_loss did not improve from 0.36929\n",
      "23/23 [==============================] - 39s 2s/step - loss: 0.3694 - accuracy: 0.6518 - val_loss: 0.4094 - val_accuracy: 0.6394\n",
      "Epoch 85/150\n",
      "23/23 [==============================] - ETA: 0s - loss: 0.3719 - accuracy: 0.6517\n",
      "Epoch 85: val_loss did not improve from 0.36929\n",
      "23/23 [==============================] - 39s 2s/step - loss: 0.3742 - accuracy: 0.6514 - val_loss: 0.4140 - val_accuracy: 0.6473\n",
      "Epoch 86/150\n",
      "23/23 [==============================] - ETA: 0s - loss: 0.3688 - accuracy: 0.6543\n",
      "Epoch 86: val_loss did not improve from 0.36929\n",
      "23/23 [==============================] - 38s 2s/step - loss: 0.3709 - accuracy: 0.6520 - val_loss: 0.4458 - val_accuracy: 0.6524\n",
      "Epoch 87/150\n",
      "23/23 [==============================] - ETA: 0s - loss: 0.3709 - accuracy: 0.6549\n",
      "Epoch 87: val_loss did not improve from 0.36929\n",
      "23/23 [==============================] - 39s 2s/step - loss: 0.3722 - accuracy: 0.6534 - val_loss: 0.4520 - val_accuracy: 0.6338\n",
      "Epoch 88/150\n",
      "23/23 [==============================] - ETA: 0s - loss: 0.3626 - accuracy: 0.6636\n",
      "Epoch 88: val_loss did not improve from 0.36929\n",
      "23/23 [==============================] - 38s 2s/step - loss: 0.3616 - accuracy: 0.6641 - val_loss: 0.4517 - val_accuracy: 0.6676\n",
      "Epoch 89/150\n",
      "23/23 [==============================] - ETA: 0s - loss: 0.3641 - accuracy: 0.6598\n",
      "Epoch 89: val_loss did not improve from 0.36929\n",
      "23/23 [==============================] - 38s 2s/step - loss: 0.3640 - accuracy: 0.6595 - val_loss: 0.4339 - val_accuracy: 0.6310\n",
      "Epoch 90/150\n",
      "23/23 [==============================] - ETA: 0s - loss: 0.3616 - accuracy: 0.6619\n",
      "Epoch 90: val_loss did not improve from 0.36929\n",
      "23/23 [==============================] - 38s 2s/step - loss: 0.3615 - accuracy: 0.6622 - val_loss: 0.4162 - val_accuracy: 0.6507\n",
      "Epoch 91/150\n",
      "23/23 [==============================] - ETA: 0s - loss: 0.3588 - accuracy: 0.6631\n",
      "Epoch 91: val_loss did not improve from 0.36929\n",
      "23/23 [==============================] - 38s 2s/step - loss: 0.3594 - accuracy: 0.6626 - val_loss: 0.3902 - val_accuracy: 0.6615\n",
      "Epoch 92/150\n",
      "23/23 [==============================] - ETA: 0s - loss: 0.3641 - accuracy: 0.6586\n",
      "Epoch 92: val_loss did not improve from 0.36929\n",
      "23/23 [==============================] - 38s 2s/step - loss: 0.3642 - accuracy: 0.6583 - val_loss: 0.3915 - val_accuracy: 0.6607\n",
      "Epoch 93/150\n",
      "23/23 [==============================] - ETA: 0s - loss: 0.3578 - accuracy: 0.6653\n",
      "Epoch 93: val_loss did not improve from 0.36929\n",
      "23/23 [==============================] - 41s 2s/step - loss: 0.3584 - accuracy: 0.6642 - val_loss: 0.4325 - val_accuracy: 0.6263\n",
      "Epoch 94/150\n",
      "23/23 [==============================] - ETA: 0s - loss: 0.3557 - accuracy: 0.6655\n",
      "Epoch 94: val_loss did not improve from 0.36929\n",
      "23/23 [==============================] - 39s 2s/step - loss: 0.3567 - accuracy: 0.6648 - val_loss: 0.4761 - val_accuracy: 0.6208\n",
      "Epoch 95/150\n",
      "23/23 [==============================] - ETA: 0s - loss: 0.3603 - accuracy: 0.6595\n",
      "Epoch 95: val_loss did not improve from 0.36929\n",
      "23/23 [==============================] - 39s 2s/step - loss: 0.3600 - accuracy: 0.6590 - val_loss: 0.3701 - val_accuracy: 0.6643\n",
      "Epoch 96/150\n",
      "23/23 [==============================] - ETA: 0s - loss: 0.3561 - accuracy: 0.6641\n",
      "Epoch 96: val_loss did not improve from 0.36929\n",
      "23/23 [==============================] - 38s 2s/step - loss: 0.3566 - accuracy: 0.6644 - val_loss: 0.4573 - val_accuracy: 0.6417\n",
      "Epoch 97/150\n",
      "23/23 [==============================] - ETA: 0s - loss: 0.3576 - accuracy: 0.6659\n",
      "Epoch 97: val_loss did not improve from 0.36929\n",
      "23/23 [==============================] - 38s 2s/step - loss: 0.3574 - accuracy: 0.6658 - val_loss: 0.5855 - val_accuracy: 0.6179\n",
      "Epoch 98/150\n",
      "23/23 [==============================] - ETA: 0s - loss: 0.3523 - accuracy: 0.6681\n",
      "Epoch 98: val_loss did not improve from 0.36929\n",
      "23/23 [==============================] - 38s 2s/step - loss: 0.3518 - accuracy: 0.6687 - val_loss: 0.5205 - val_accuracy: 0.6468\n",
      "Epoch 99/150\n",
      "23/23 [==============================] - ETA: 0s - loss: 0.3524 - accuracy: 0.6672\n",
      "Epoch 99: val_loss did not improve from 0.36929\n",
      "23/23 [==============================] - 38s 2s/step - loss: 0.3529 - accuracy: 0.6678 - val_loss: 0.5072 - val_accuracy: 0.6273\n",
      "Epoch 100/150\n",
      "23/23 [==============================] - ETA: 0s - loss: 0.3533 - accuracy: 0.6703\n",
      "Epoch 100: val_loss did not improve from 0.36929\n",
      "23/23 [==============================] - 38s 2s/step - loss: 0.3540 - accuracy: 0.6702 - val_loss: 0.5164 - val_accuracy: 0.6085\n",
      "Epoch 101/150\n",
      "23/23 [==============================] - ETA: 0s - loss: 0.3533 - accuracy: 0.6673\n",
      "Epoch 101: val_loss did not improve from 0.36929\n",
      "23/23 [==============================] - 38s 2s/step - loss: 0.3534 - accuracy: 0.6661 - val_loss: 0.5064 - val_accuracy: 0.6364\n",
      "Epoch 102/150\n",
      "23/23 [==============================] - ETA: 0s - loss: 0.3488 - accuracy: 0.6697\n",
      "Epoch 102: val_loss did not improve from 0.36929\n",
      "23/23 [==============================] - 38s 2s/step - loss: 0.3489 - accuracy: 0.6695 - val_loss: 0.4678 - val_accuracy: 0.6543\n",
      "Epoch 103/150\n",
      "23/23 [==============================] - ETA: 0s - loss: 0.3510 - accuracy: 0.6671\n",
      "Epoch 103: val_loss did not improve from 0.36929\n",
      "23/23 [==============================] - 38s 2s/step - loss: 0.3505 - accuracy: 0.6666 - val_loss: 0.3952 - val_accuracy: 0.6527\n",
      "Epoch 104/150\n",
      "23/23 [==============================] - ETA: 0s - loss: 0.3491 - accuracy: 0.6704\n",
      "Epoch 104: val_loss did not improve from 0.36929\n",
      "23/23 [==============================] - 38s 2s/step - loss: 0.3500 - accuracy: 0.6701 - val_loss: 0.4709 - val_accuracy: 0.6290\n",
      "Epoch 105/150\n",
      "23/23 [==============================] - ETA: 0s - loss: 0.3452 - accuracy: 0.6710\n",
      "Epoch 105: val_loss improved from 0.36929 to 0.36500, saving model to ckpt\n",
      "WARNING:tensorflow:Model's `__init__()` arguments contain non-serializable objects. Please implement a `get_config()` method in the subclassed Model for proper saving and loading. Defaulting to empty config.\n"
     ]
    },
    {
     "name": "stderr",
     "output_type": "stream",
     "text": [
      "WARNING:tensorflow:Model's `__init__()` arguments contain non-serializable objects. Please implement a `get_config()` method in the subclassed Model for proper saving and loading. Defaulting to empty config.\n"
     ]
    },
    {
     "name": "stdout",
     "output_type": "stream",
     "text": [
      "WARNING:tensorflow:Model's `__init__()` arguments contain non-serializable objects. Please implement a `get_config()` method in the subclassed Model for proper saving and loading. Defaulting to empty config.\n"
     ]
    },
    {
     "name": "stderr",
     "output_type": "stream",
     "text": [
      "WARNING:tensorflow:Model's `__init__()` arguments contain non-serializable objects. Please implement a `get_config()` method in the subclassed Model for proper saving and loading. Defaulting to empty config.\n",
      "WARNING:absl:Found untraced functions such as _update_step_xla, lstm_cell_layer_call_fn, lstm_cell_layer_call_and_return_conditional_losses, lstm_cell_1_layer_call_fn, lstm_cell_1_layer_call_and_return_conditional_losses while saving (showing 5 of 5). These functions will not be directly callable after loading.\n"
     ]
    },
    {
     "name": "stdout",
     "output_type": "stream",
     "text": [
      "INFO:tensorflow:Assets written to: ckpt\\assets\n"
     ]
    },
    {
     "name": "stderr",
     "output_type": "stream",
     "text": [
      "INFO:tensorflow:Assets written to: ckpt\\assets\n"
     ]
    },
    {
     "name": "stdout",
     "output_type": "stream",
     "text": [
      "WARNING:tensorflow:Model's `__init__()` arguments contain non-serializable objects. Please implement a `get_config()` method in the subclassed Model for proper saving and loading. Defaulting to empty config.\n"
     ]
    },
    {
     "name": "stderr",
     "output_type": "stream",
     "text": [
      "WARNING:tensorflow:Model's `__init__()` arguments contain non-serializable objects. Please implement a `get_config()` method in the subclassed Model for proper saving and loading. Defaulting to empty config.\n"
     ]
    },
    {
     "name": "stdout",
     "output_type": "stream",
     "text": [
      "WARNING:tensorflow:Model's `__init__()` arguments contain non-serializable objects. Please implement a `get_config()` method in the subclassed Model for proper saving and loading. Defaulting to empty config.\n"
     ]
    },
    {
     "name": "stderr",
     "output_type": "stream",
     "text": [
      "WARNING:tensorflow:Model's `__init__()` arguments contain non-serializable objects. Please implement a `get_config()` method in the subclassed Model for proper saving and loading. Defaulting to empty config.\n"
     ]
    },
    {
     "name": "stdout",
     "output_type": "stream",
     "text": [
      "23/23 [==============================] - 59s 3s/step - loss: 0.3427 - accuracy: 0.6711 - val_loss: 0.3650 - val_accuracy: 0.6672\n",
      "Epoch 106/150\n",
      "23/23 [==============================] - ETA: 0s - loss: 0.3475 - accuracy: 0.6747\n",
      "Epoch 106: val_loss did not improve from 0.36500\n",
      "23/23 [==============================] - 48s 2s/step - loss: 0.3479 - accuracy: 0.6743 - val_loss: 0.4684 - val_accuracy: 0.6303\n",
      "Epoch 107/150\n",
      "23/23 [==============================] - ETA: 0s - loss: 0.3459 - accuracy: 0.6726\n",
      "Epoch 107: val_loss did not improve from 0.36500\n",
      "23/23 [==============================] - 48s 2s/step - loss: 0.3458 - accuracy: 0.6729 - val_loss: 0.4951 - val_accuracy: 0.6419\n",
      "Epoch 108/150\n",
      "23/23 [==============================] - ETA: 0s - loss: 0.3454 - accuracy: 0.6750\n",
      "Epoch 108: val_loss did not improve from 0.36500\n",
      "23/23 [==============================] - 48s 2s/step - loss: 0.3451 - accuracy: 0.6748 - val_loss: 0.4738 - val_accuracy: 0.6446\n",
      "Epoch 109/150\n",
      "23/23 [==============================] - ETA: 0s - loss: 0.3450 - accuracy: 0.6761\n",
      "Epoch 109: val_loss improved from 0.36500 to 0.36294, saving model to ckpt\n",
      "WARNING:tensorflow:Model's `__init__()` arguments contain non-serializable objects. Please implement a `get_config()` method in the subclassed Model for proper saving and loading. Defaulting to empty config.\n"
     ]
    },
    {
     "name": "stderr",
     "output_type": "stream",
     "text": [
      "WARNING:tensorflow:Model's `__init__()` arguments contain non-serializable objects. Please implement a `get_config()` method in the subclassed Model for proper saving and loading. Defaulting to empty config.\n"
     ]
    },
    {
     "name": "stdout",
     "output_type": "stream",
     "text": [
      "WARNING:tensorflow:Model's `__init__()` arguments contain non-serializable objects. Please implement a `get_config()` method in the subclassed Model for proper saving and loading. Defaulting to empty config.\n"
     ]
    },
    {
     "name": "stderr",
     "output_type": "stream",
     "text": [
      "WARNING:tensorflow:Model's `__init__()` arguments contain non-serializable objects. Please implement a `get_config()` method in the subclassed Model for proper saving and loading. Defaulting to empty config.\n",
      "WARNING:absl:Found untraced functions such as _update_step_xla, lstm_cell_layer_call_fn, lstm_cell_layer_call_and_return_conditional_losses, lstm_cell_1_layer_call_fn, lstm_cell_1_layer_call_and_return_conditional_losses while saving (showing 5 of 5). These functions will not be directly callable after loading.\n"
     ]
    },
    {
     "name": "stdout",
     "output_type": "stream",
     "text": [
      "INFO:tensorflow:Assets written to: ckpt\\assets\n"
     ]
    },
    {
     "name": "stderr",
     "output_type": "stream",
     "text": [
      "INFO:tensorflow:Assets written to: ckpt\\assets\n"
     ]
    },
    {
     "name": "stdout",
     "output_type": "stream",
     "text": [
      "WARNING:tensorflow:Model's `__init__()` arguments contain non-serializable objects. Please implement a `get_config()` method in the subclassed Model for proper saving and loading. Defaulting to empty config.\n"
     ]
    },
    {
     "name": "stderr",
     "output_type": "stream",
     "text": [
      "WARNING:tensorflow:Model's `__init__()` arguments contain non-serializable objects. Please implement a `get_config()` method in the subclassed Model for proper saving and loading. Defaulting to empty config.\n"
     ]
    },
    {
     "name": "stdout",
     "output_type": "stream",
     "text": [
      "WARNING:tensorflow:Model's `__init__()` arguments contain non-serializable objects. Please implement a `get_config()` method in the subclassed Model for proper saving and loading. Defaulting to empty config.\n"
     ]
    },
    {
     "name": "stderr",
     "output_type": "stream",
     "text": [
      "WARNING:tensorflow:Model's `__init__()` arguments contain non-serializable objects. Please implement a `get_config()` method in the subclassed Model for proper saving and loading. Defaulting to empty config.\n"
     ]
    },
    {
     "name": "stdout",
     "output_type": "stream",
     "text": [
      "23/23 [==============================] - 68s 3s/step - loss: 0.3458 - accuracy: 0.6764 - val_loss: 0.3629 - val_accuracy: 0.6849\n",
      "Epoch 110/150\n",
      "23/23 [==============================] - ETA: 0s - loss: 0.3386 - accuracy: 0.6813\n",
      "Epoch 110: val_loss did not improve from 0.36294\n",
      "23/23 [==============================] - 41s 2s/step - loss: 0.3384 - accuracy: 0.6809 - val_loss: 0.4927 - val_accuracy: 0.6158\n",
      "Epoch 111/150\n",
      "23/23 [==============================] - ETA: 0s - loss: 0.3405 - accuracy: 0.6748\n",
      "Epoch 111: val_loss did not improve from 0.36294\n",
      "23/23 [==============================] - 41s 2s/step - loss: 0.3398 - accuracy: 0.6756 - val_loss: 0.4309 - val_accuracy: 0.6381\n",
      "Epoch 112/150\n",
      "23/23 [==============================] - ETA: 0s - loss: 0.3402 - accuracy: 0.6765\n",
      "Epoch 112: val_loss improved from 0.36294 to 0.34279, saving model to ckpt\n",
      "WARNING:tensorflow:Model's `__init__()` arguments contain non-serializable objects. Please implement a `get_config()` method in the subclassed Model for proper saving and loading. Defaulting to empty config.\n"
     ]
    },
    {
     "name": "stderr",
     "output_type": "stream",
     "text": [
      "WARNING:tensorflow:Model's `__init__()` arguments contain non-serializable objects. Please implement a `get_config()` method in the subclassed Model for proper saving and loading. Defaulting to empty config.\n"
     ]
    },
    {
     "name": "stdout",
     "output_type": "stream",
     "text": [
      "WARNING:tensorflow:Model's `__init__()` arguments contain non-serializable objects. Please implement a `get_config()` method in the subclassed Model for proper saving and loading. Defaulting to empty config.\n"
     ]
    },
    {
     "name": "stderr",
     "output_type": "stream",
     "text": [
      "WARNING:tensorflow:Model's `__init__()` arguments contain non-serializable objects. Please implement a `get_config()` method in the subclassed Model for proper saving and loading. Defaulting to empty config.\n",
      "WARNING:absl:Found untraced functions such as _update_step_xla, lstm_cell_layer_call_fn, lstm_cell_layer_call_and_return_conditional_losses, lstm_cell_1_layer_call_fn, lstm_cell_1_layer_call_and_return_conditional_losses while saving (showing 5 of 5). These functions will not be directly callable after loading.\n"
     ]
    },
    {
     "name": "stdout",
     "output_type": "stream",
     "text": [
      "INFO:tensorflow:Assets written to: ckpt\\assets\n"
     ]
    },
    {
     "name": "stderr",
     "output_type": "stream",
     "text": [
      "INFO:tensorflow:Assets written to: ckpt\\assets\n"
     ]
    },
    {
     "name": "stdout",
     "output_type": "stream",
     "text": [
      "WARNING:tensorflow:Model's `__init__()` arguments contain non-serializable objects. Please implement a `get_config()` method in the subclassed Model for proper saving and loading. Defaulting to empty config.\n"
     ]
    },
    {
     "name": "stderr",
     "output_type": "stream",
     "text": [
      "WARNING:tensorflow:Model's `__init__()` arguments contain non-serializable objects. Please implement a `get_config()` method in the subclassed Model for proper saving and loading. Defaulting to empty config.\n"
     ]
    },
    {
     "name": "stdout",
     "output_type": "stream",
     "text": [
      "WARNING:tensorflow:Model's `__init__()` arguments contain non-serializable objects. Please implement a `get_config()` method in the subclassed Model for proper saving and loading. Defaulting to empty config.\n"
     ]
    },
    {
     "name": "stderr",
     "output_type": "stream",
     "text": [
      "WARNING:tensorflow:Model's `__init__()` arguments contain non-serializable objects. Please implement a `get_config()` method in the subclassed Model for proper saving and loading. Defaulting to empty config.\n"
     ]
    },
    {
     "name": "stdout",
     "output_type": "stream",
     "text": [
      "23/23 [==============================] - 61s 3s/step - loss: 0.3400 - accuracy: 0.6763 - val_loss: 0.3428 - val_accuracy: 0.7023\n",
      "Epoch 113/150\n",
      "23/23 [==============================] - ETA: 0s - loss: 0.3401 - accuracy: 0.6766\n",
      "Epoch 113: val_loss did not improve from 0.34279\n",
      "23/23 [==============================] - 40s 2s/step - loss: 0.3401 - accuracy: 0.6766 - val_loss: 0.5099 - val_accuracy: 0.6235\n",
      "Epoch 114/150\n",
      "23/23 [==============================] - ETA: 0s - loss: 0.3393 - accuracy: 0.6797\n",
      "Epoch 114: val_loss did not improve from 0.34279\n",
      "23/23 [==============================] - 44s 2s/step - loss: 0.3404 - accuracy: 0.6795 - val_loss: 0.5260 - val_accuracy: 0.6184\n",
      "Epoch 115/150\n",
      "23/23 [==============================] - ETA: 0s - loss: 0.3357 - accuracy: 0.6806\n",
      "Epoch 115: val_loss did not improve from 0.34279\n",
      "23/23 [==============================] - 42s 2s/step - loss: 0.3362 - accuracy: 0.6809 - val_loss: 0.4746 - val_accuracy: 0.6459\n",
      "Epoch 116/150\n",
      "23/23 [==============================] - ETA: 0s - loss: 0.3363 - accuracy: 0.6827\n",
      "Epoch 116: val_loss did not improve from 0.34279\n",
      "23/23 [==============================] - 41s 2s/step - loss: 0.3360 - accuracy: 0.6822 - val_loss: 0.5335 - val_accuracy: 0.6123\n",
      "Epoch 117/150\n",
      "23/23 [==============================] - ETA: 0s - loss: 0.3356 - accuracy: 0.6812\n",
      "Epoch 117: val_loss did not improve from 0.34279\n",
      "23/23 [==============================] - 41s 2s/step - loss: 0.3339 - accuracy: 0.6824 - val_loss: 0.4621 - val_accuracy: 0.6648\n",
      "Epoch 118/150\n",
      "23/23 [==============================] - ETA: 0s - loss: 0.3335 - accuracy: 0.6829\n",
      "Epoch 118: val_loss did not improve from 0.34279\n",
      "23/23 [==============================] - 41s 2s/step - loss: 0.3342 - accuracy: 0.6831 - val_loss: 0.4103 - val_accuracy: 0.6402\n",
      "Epoch 119/150\n",
      "23/23 [==============================] - ETA: 0s - loss: 0.3314 - accuracy: 0.6875\n",
      "Epoch 119: val_loss did not improve from 0.34279\n",
      "23/23 [==============================] - 41s 2s/step - loss: 0.3310 - accuracy: 0.6879 - val_loss: 0.3577 - val_accuracy: 0.6930\n",
      "Epoch 120/150\n",
      "23/23 [==============================] - ETA: 0s - loss: 0.3333 - accuracy: 0.6854\n",
      "Epoch 120: val_loss did not improve from 0.34279\n",
      "23/23 [==============================] - 41s 2s/step - loss: 0.3358 - accuracy: 0.6844 - val_loss: 0.4092 - val_accuracy: 0.6509\n",
      "Epoch 121/150\n",
      "23/23 [==============================] - ETA: 0s - loss: 0.3346 - accuracy: 0.6810\n",
      "Epoch 121: val_loss did not improve from 0.34279\n",
      "23/23 [==============================] - 41s 2s/step - loss: 0.3356 - accuracy: 0.6805 - val_loss: 0.4006 - val_accuracy: 0.6563\n",
      "Epoch 122/150\n",
      "23/23 [==============================] - ETA: 0s - loss: 0.3307 - accuracy: 0.6832\n",
      "Epoch 122: val_loss did not improve from 0.34279\n",
      "23/23 [==============================] - 41s 2s/step - loss: 0.3312 - accuracy: 0.6827 - val_loss: 0.4660 - val_accuracy: 0.6088\n",
      "Epoch 123/150\n",
      "23/23 [==============================] - ETA: 0s - loss: 0.3318 - accuracy: 0.6816\n",
      "Epoch 123: val_loss did not improve from 0.34279\n",
      "23/23 [==============================] - 43s 2s/step - loss: 0.3317 - accuracy: 0.6810 - val_loss: 0.4741 - val_accuracy: 0.6210\n",
      "Epoch 124/150\n",
      "23/23 [==============================] - ETA: 0s - loss: 0.3337 - accuracy: 0.6832\n",
      "Epoch 124: val_loss did not improve from 0.34279\n",
      "23/23 [==============================] - 41s 2s/step - loss: 0.3358 - accuracy: 0.6820 - val_loss: 0.4487 - val_accuracy: 0.6793\n",
      "Epoch 125/150\n",
      "23/23 [==============================] - ETA: 0s - loss: 0.3293 - accuracy: 0.6864\n",
      "Epoch 125: val_loss did not improve from 0.34279\n",
      "23/23 [==============================] - 41s 2s/step - loss: 0.3281 - accuracy: 0.6863 - val_loss: 0.5329 - val_accuracy: 0.6366\n",
      "Epoch 126/150\n",
      "23/23 [==============================] - ETA: 0s - loss: 0.3292 - accuracy: 0.6830\n",
      "Epoch 126: val_loss did not improve from 0.34279\n",
      "23/23 [==============================] - 41s 2s/step - loss: 0.3300 - accuracy: 0.6826 - val_loss: 0.4722 - val_accuracy: 0.6410\n",
      "Epoch 127/150\n",
      "23/23 [==============================] - ETA: 0s - loss: 0.3298 - accuracy: 0.6846\n",
      "Epoch 127: val_loss did not improve from 0.34279\n",
      "23/23 [==============================] - 42s 2s/step - loss: 0.3293 - accuracy: 0.6843 - val_loss: 0.4192 - val_accuracy: 0.6759\n",
      "Epoch 128/150\n",
      "23/23 [==============================] - ETA: 0s - loss: 0.3267 - accuracy: 0.6869\n",
      "Epoch 128: val_loss did not improve from 0.34279\n",
      "23/23 [==============================] - 42s 2s/step - loss: 0.3255 - accuracy: 0.6881 - val_loss: 0.4456 - val_accuracy: 0.6685\n",
      "Epoch 129/150\n",
      "23/23 [==============================] - ETA: 0s - loss: 0.3296 - accuracy: 0.6838\n",
      "Epoch 129: val_loss did not improve from 0.34279\n",
      "23/23 [==============================] - 41s 2s/step - loss: 0.3314 - accuracy: 0.6820 - val_loss: 0.4479 - val_accuracy: 0.6461\n",
      "Epoch 130/150\n",
      "23/23 [==============================] - ETA: 0s - loss: 0.3261 - accuracy: 0.6888\n",
      "Epoch 130: val_loss did not improve from 0.34279\n",
      "23/23 [==============================] - 41s 2s/step - loss: 0.3269 - accuracy: 0.6887 - val_loss: 0.3604 - val_accuracy: 0.6756\n",
      "Epoch 131/150\n",
      "23/23 [==============================] - ETA: 0s - loss: 0.3246 - accuracy: 0.6912\n",
      "Epoch 131: val_loss did not improve from 0.34279\n",
      "23/23 [==============================] - 41s 2s/step - loss: 0.3254 - accuracy: 0.6899 - val_loss: 0.3975 - val_accuracy: 0.6597\n",
      "Epoch 132/150\n",
      "23/23 [==============================] - ETA: 0s - loss: 0.3278 - accuracy: 0.6885\n",
      "Epoch 132: val_loss did not improve from 0.34279\n",
      "23/23 [==============================] - 41s 2s/step - loss: 0.3298 - accuracy: 0.6873 - val_loss: 0.4106 - val_accuracy: 0.6706\n",
      "Epoch 133/150\n",
      "23/23 [==============================] - ETA: 0s - loss: 0.3268 - accuracy: 0.6885\n",
      "Epoch 133: val_loss did not improve from 0.34279\n",
      "23/23 [==============================] - 99s 4s/step - loss: 0.3284 - accuracy: 0.6868 - val_loss: 0.4603 - val_accuracy: 0.6519\n",
      "Epoch 134/150\n",
      "23/23 [==============================] - ETA: 0s - loss: 0.3226 - accuracy: 0.6909\n",
      "Epoch 134: val_loss did not improve from 0.34279\n",
      "23/23 [==============================] - 109s 5s/step - loss: 0.3241 - accuracy: 0.6899 - val_loss: 0.5024 - val_accuracy: 0.6341\n",
      "Epoch 135/150\n",
      "23/23 [==============================] - ETA: 0s - loss: 0.3227 - accuracy: 0.6911\n",
      "Epoch 135: val_loss did not improve from 0.34279\n",
      "23/23 [==============================] - 117s 5s/step - loss: 0.3224 - accuracy: 0.6907 - val_loss: 0.4236 - val_accuracy: 0.6492\n",
      "Epoch 136/150\n",
      "23/23 [==============================] - ETA: 0s - loss: 0.3239 - accuracy: 0.6907\n",
      "Epoch 136: val_loss did not improve from 0.34279\n",
      "23/23 [==============================] - 112s 5s/step - loss: 0.3252 - accuracy: 0.6903 - val_loss: 0.3508 - val_accuracy: 0.6783\n",
      "Epoch 137/150\n",
      "23/23 [==============================] - ETA: 0s - loss: 0.3222 - accuracy: 0.6931\n",
      "Epoch 137: val_loss did not improve from 0.34279\n",
      "23/23 [==============================] - 103s 4s/step - loss: 0.3234 - accuracy: 0.6924 - val_loss: 0.3577 - val_accuracy: 0.7052\n",
      "Epoch 138/150\n",
      "23/23 [==============================] - ETA: 0s - loss: 0.3174 - accuracy: 0.6991\n",
      "Epoch 138: val_loss did not improve from 0.34279\n",
      "23/23 [==============================] - 84s 4s/step - loss: 0.3195 - accuracy: 0.6985 - val_loss: 0.4555 - val_accuracy: 0.6621\n",
      "Epoch 139/150\n",
      "23/23 [==============================] - ETA: 0s - loss: 0.3238 - accuracy: 0.6902\n",
      "Epoch 139: val_loss did not improve from 0.34279\n",
      "23/23 [==============================] - 114s 5s/step - loss: 0.3253 - accuracy: 0.6896 - val_loss: 0.3949 - val_accuracy: 0.6872\n",
      "Epoch 140/150\n",
      "23/23 [==============================] - ETA: 0s - loss: 0.3205 - accuracy: 0.6921\n",
      "Epoch 140: val_loss did not improve from 0.34279\n",
      "23/23 [==============================] - 122s 5s/step - loss: 0.3222 - accuracy: 0.6906 - val_loss: 0.4212 - val_accuracy: 0.6811\n",
      "Epoch 141/150\n",
      "23/23 [==============================] - ETA: 0s - loss: 0.3184 - accuracy: 0.6950\n",
      "Epoch 141: val_loss did not improve from 0.34279\n",
      "23/23 [==============================] - 121s 5s/step - loss: 0.3212 - accuracy: 0.6931 - val_loss: 0.4420 - val_accuracy: 0.6495\n",
      "Epoch 142/150\n",
      "23/23 [==============================] - ETA: 0s - loss: 0.3191 - accuracy: 0.6943\n",
      "Epoch 142: val_loss did not improve from 0.34279\n",
      "23/23 [==============================] - 105s 4s/step - loss: 0.3199 - accuracy: 0.6942 - val_loss: 0.3804 - val_accuracy: 0.6978\n",
      "Epoch 143/150\n",
      "23/23 [==============================] - ETA: 0s - loss: 0.3154 - accuracy: 0.6966\n",
      "Epoch 143: val_loss did not improve from 0.34279\n",
      "23/23 [==============================] - 107s 5s/step - loss: 0.3137 - accuracy: 0.6970 - val_loss: 0.4106 - val_accuracy: 0.6878\n",
      "Epoch 144/150\n",
      "23/23 [==============================] - ETA: 0s - loss: 0.3181 - accuracy: 0.6929\n",
      "Epoch 144: val_loss did not improve from 0.34279\n",
      "23/23 [==============================] - 131s 6s/step - loss: 0.3184 - accuracy: 0.6918 - val_loss: 0.3526 - val_accuracy: 0.7012\n",
      "Epoch 145/150\n",
      "23/23 [==============================] - ETA: 0s - loss: 0.3174 - accuracy: 0.6944\n",
      "Epoch 145: val_loss did not improve from 0.34279\n",
      "23/23 [==============================] - 120s 5s/step - loss: 0.3163 - accuracy: 0.6946 - val_loss: 0.5405 - val_accuracy: 0.6543\n",
      "Epoch 146/150\n",
      "23/23 [==============================] - ETA: 0s - loss: 0.3167 - accuracy: 0.6969\n",
      "Epoch 146: val_loss did not improve from 0.34279\n",
      "23/23 [==============================] - 121s 5s/step - loss: 0.3179 - accuracy: 0.6962 - val_loss: 0.4141 - val_accuracy: 0.6939\n",
      "Epoch 147/150\n",
      "23/23 [==============================] - ETA: 0s - loss: 0.3120 - accuracy: 0.7004\n",
      "Epoch 147: val_loss did not improve from 0.34279\n",
      "23/23 [==============================] - 121s 5s/step - loss: 0.3100 - accuracy: 0.7013 - val_loss: 0.4962 - val_accuracy: 0.6425\n",
      "Epoch 148/150\n",
      "23/23 [==============================] - ETA: 0s - loss: 0.3152 - accuracy: 0.6997\n",
      "Epoch 148: val_loss did not improve from 0.34279\n",
      "23/23 [==============================] - 98s 4s/step - loss: 0.3170 - accuracy: 0.6992 - val_loss: 0.4405 - val_accuracy: 0.6889\n",
      "Epoch 149/150\n",
      "23/23 [==============================] - ETA: 0s - loss: 0.3085 - accuracy: 0.7012\n",
      "Epoch 149: val_loss did not improve from 0.34279\n",
      "23/23 [==============================] - 124s 6s/step - loss: 0.3074 - accuracy: 0.7015 - val_loss: 0.4819 - val_accuracy: 0.6546\n",
      "Epoch 150/150\n",
      "23/23 [==============================] - ETA: 0s - loss: 0.3155 - accuracy: 0.6976\n",
      "Epoch 150: val_loss did not improve from 0.34279\n",
      "23/23 [==============================] - 98s 4s/step - loss: 0.3166 - accuracy: 0.6964 - val_loss: 0.3685 - val_accuracy: 0.6753\n"
     ]
    }
   ],
   "source": [
    "history=model.fit(\n",
    "    train_data,\n",
    "    epochs=150,\n",
    "    validation_data=val_data,\n",
    "    callbacks=[\n",
    "        tf.keras.callbacks.TensorBoard(log_dir='logs'),\n",
    "        tf.keras.callbacks.ModelCheckpoint('ckpt',verbose=1,save_best_only=True)\n",
    "    ]\n",
    ")"
   ]
  },
  {
   "cell_type": "markdown",
   "metadata": {},
   "source": [
    "## Visualize Metrics"
   ]
  },
  {
   "cell_type": "code",
   "execution_count": 24,
   "metadata": {},
   "outputs": [
    {
     "name": "stdout",
     "output_type": "stream",
     "text": [
      "Model: \"chatbot_trainer\"\n",
      "_________________________________________________________________\n",
      " Layer (type)                Output Shape              Param #   \n",
      "=================================================================\n",
      " encoder (Encoder)           multiple                  1151232   \n",
      "                                                                 \n",
      " decoder (Decoder)           multiple                  1779083   \n",
      "                                                                 \n",
      "=================================================================\n",
      "Total params: 2,930,315\n",
      "Trainable params: 2,930,315\n",
      "Non-trainable params: 0\n",
      "_________________________________________________________________\n"
     ]
    }
   ],
   "source": [
    "# Printing the model summary\n",
    "model.summary()"
   ]
  },
  {
   "cell_type": "markdown",
   "metadata": {},
   "source": [
    "### Visualizes training loss and accuracy metrics over epochs, comparing performance on both training and validation data."
   ]
  },
  {
   "cell_type": "code",
   "execution_count": 25,
   "metadata": {},
   "outputs": [
    {
     "data": {
      "image/png": "[encoded data removed]",
      "text/plain": [
       "<Figure size 1440x360 with 2 Axes>"
      ]
     },
     "metadata": {},
     "output_type": "display_data"
    }
   ],
   "source": [
    "fig,ax=plt.subplots(nrows=1,ncols=2,figsize=(20,5))\n",
    "ax[0].plot(history.history['loss'],label='loss',c='red')\n",
    "ax[0].plot(history.history['val_loss'],label='val_loss',c = 'blue')\n",
    "ax[0].set_xlabel('Epochs')\n",
    "ax[1].set_xlabel('Epochs')\n",
    "ax[0].set_ylabel('Loss')\n",
    "ax[1].set_ylabel('Accuracy')\n",
    "ax[0].set_title('Loss Metrics')\n",
    "ax[1].set_title('Accuracy Metrics')\n",
    "ax[1].plot(history.history['accuracy'],label='accuracy')\n",
    "ax[1].plot(history.history['val_accuracy'],label='val_accuracy')\n",
    "ax[0].legend()\n",
    "ax[1].legend()\n",
    "plt.show()"
   ]
  },
  {
   "cell_type": "markdown",
   "metadata": {},
   "source": [
    "## Save Model"
   ]
  },
  {
   "cell_type": "code",
   "execution_count": 32,
   "metadata": {},
   "outputs": [
    {
     "name": "stdout",
     "output_type": "stream",
     "text": [
      "WARNING:tensorflow:Model's `__init__()` arguments contain non-serializable objects. Please implement a `get_config()` method in the subclassed Model for proper saving and loading. Defaulting to empty config.\n"
     ]
    },
    {
     "name": "stderr",
     "output_type": "stream",
     "text": [
      "WARNING:tensorflow:Model's `__init__()` arguments contain non-serializable objects. Please implement a `get_config()` method in the subclassed Model for proper saving and loading. Defaulting to empty config.\n"
     ]
    },
    {
     "name": "stdout",
     "output_type": "stream",
     "text": [
      "WARNING:tensorflow:Model's `__init__()` arguments contain non-serializable objects. Please implement a `get_config()` method in the subclassed Model for proper saving and loading. Defaulting to empty config.\n"
     ]
    },
    {
     "name": "stderr",
     "output_type": "stream",
     "text": [
      "WARNING:tensorflow:Model's `__init__()` arguments contain non-serializable objects. Please implement a `get_config()` method in the subclassed Model for proper saving and loading. Defaulting to empty config.\n"
     ]
    },
    {
     "name": "stdout",
     "output_type": "stream",
     "text": [
      "WARNING:tensorflow:Model's `__init__()` arguments contain non-serializable objects. Please implement a `get_config()` method in the subclassed Model for proper saving and loading. Defaulting to empty config.\n"
     ]
    },
    {
     "name": "stderr",
     "output_type": "stream",
     "text": [
      "WARNING:tensorflow:Model's `__init__()` arguments contain non-serializable objects. Please implement a `get_config()` method in the subclassed Model for proper saving and loading. Defaulting to empty config.\n"
     ]
    },
    {
     "name": "stdout",
     "output_type": "stream",
     "text": [
      "WARNING:tensorflow:Model's `__init__()` arguments contain non-serializable objects. Please implement a `get_config()` method in the subclassed Model for proper saving and loading. Defaulting to empty config.\n"
     ]
    },
    {
     "name": "stderr",
     "output_type": "stream",
     "text": [
      "WARNING:tensorflow:Model's `__init__()` arguments contain non-serializable objects. Please implement a `get_config()` method in the subclassed Model for proper saving and loading. Defaulting to empty config.\n"
     ]
    },
    {
     "name": "stdout",
     "output_type": "stream",
     "text": [
      "WARNING:tensorflow:Model's `__init__()` arguments contain non-serializable objects. Please implement a `get_config()` method in the subclassed Model for proper saving and loading. Defaulting to empty config.\n"
     ]
    },
    {
     "name": "stderr",
     "output_type": "stream",
     "text": [
      "WARNING:tensorflow:Model's `__init__()` arguments contain non-serializable objects. Please implement a `get_config()` method in the subclassed Model for proper saving and loading. Defaulting to empty config.\n",
      "WARNING:absl:Found untraced functions such as _update_step_xla, lstm_cell_layer_call_fn, lstm_cell_layer_call_and_return_conditional_losses, lstm_cell_1_layer_call_fn, lstm_cell_1_layer_call_and_return_conditional_losses while saving (showing 5 of 5). These functions will not be directly callable after loading.\n"
     ]
    },
    {
     "name": "stdout",
     "output_type": "stream",
     "text": [
      "INFO:tensorflow:Assets written to: chatbot\\assets\n"
     ]
    },
    {
     "name": "stderr",
     "output_type": "stream",
     "text": [
      "INFO:tensorflow:Assets written to: chatbot\\assets\n"
     ]
    },
    {
     "name": "stdout",
     "output_type": "stream",
     "text": [
      "WARNING:tensorflow:Model's `__init__()` arguments contain non-serializable objects. Please implement a `get_config()` method in the subclassed Model for proper saving and loading. Defaulting to empty config.\n"
     ]
    },
    {
     "name": "stderr",
     "output_type": "stream",
     "text": [
      "WARNING:tensorflow:Model's `__init__()` arguments contain non-serializable objects. Please implement a `get_config()` method in the subclassed Model for proper saving and loading. Defaulting to empty config.\n"
     ]
    },
    {
     "name": "stdout",
     "output_type": "stream",
     "text": [
      "WARNING:tensorflow:Model's `__init__()` arguments contain non-serializable objects. Please implement a `get_config()` method in the subclassed Model for proper saving and loading. Defaulting to empty config.\n"
     ]
    },
    {
     "name": "stderr",
     "output_type": "stream",
     "text": [
      "WARNING:tensorflow:Model's `__init__()` arguments contain non-serializable objects. Please implement a `get_config()` method in the subclassed Model for proper saving and loading. Defaulting to empty config.\n"
     ]
    }
   ],
   "source": [
    "import pickle\n",
    "\n",
    "pickle.dump(model, open('chatbot.pkl', 'wb'))\n",
    "\n",
    "model.save('chatbot')"
   ]
  },
  {
   "cell_type": "markdown",
   "metadata": {},
   "source": [
    "### Enumerates and prints the layers within the Encoder and Decoder components of the ChatBotTrainer model, providing a structured overview."
   ]
  },
  {
   "cell_type": "code",
   "execution_count": 26,
   "metadata": {},
   "outputs": [
    {
     "name": "stdout",
     "output_type": "stream",
     "text": [
      "Encoder layers:\n",
      "<keras.layers.core.embedding.Embedding object at 0x00000205D7C0F100>\n",
      "<keras.layers.normalization.layer_normalization.LayerNormalization object at 0x00000205D7C0ECB0>\n",
      "<keras.layers.rnn.lstm.LSTM object at 0x00000205D7E094B0>\n",
      "---------------------\n",
      "Decoder layers: \n",
      "<keras.layers.core.embedding.Embedding object at 0x00000205D7E23310>\n",
      "<keras.layers.normalization.layer_normalization.LayerNormalization object at 0x00000205D7E22C20>\n",
      "<keras.layers.rnn.lstm.LSTM object at 0x00000205D7E09C60>\n",
      "<keras.layers.core.dense.Dense object at 0x00000205D7C0F760>\n",
      "---------------------\n"
     ]
    }
   ],
   "source": [
    "for idx,i in enumerate(model.layers):\n",
    "    print('Encoder layers:' if idx==0 else 'Decoder layers: ')\n",
    "    for j in i.layers:\n",
    "        print(j)\n",
    "    print('---------------------')"
   ]
  },
  {
   "cell_type": "markdown",
   "metadata": {},
   "source": [
    "## Create Inference Model"
   ]
  },
  {
   "cell_type": "markdown",
   "metadata": {},
   "source": [
    "### Builds an Inference model for the ChatBot, using the trained Encoder and Decoder models to predict responses."
   ]
  },
  {
   "cell_type": "code",
   "execution_count": 27,
   "metadata": {},
   "outputs": [
    {
     "name": "stdout",
     "output_type": "stream",
     "text": [
      "\n",
      "Caching the list of root modules, please wait!\n",
      "(This will only be done once - type '%rehashx' to reset cache!)\n",
      "\n"
     ]
    }
   ],
   "source": [
    "class ChatBot(tf.keras.models.Model):\n",
    "    def __init__(self,base_encoder,base_decoder,*args,**kwargs):\n",
    "        super().__init__(*args,**kwargs)\n",
    "        self.encoder,self.decoder=self.build_inference_model(base_encoder,base_decoder)\n",
    "\n",
    "    def build_inference_model(self,base_encoder,base_decoder):\n",
    "        encoder_inputs=tf.keras.Input(shape=(None,))\n",
    "        x=base_encoder.layers[0](encoder_inputs)\n",
    "        x=base_encoder.layers[1](x)\n",
    "        x,encoder_state_h,encoder_state_c=base_encoder.layers[2](x)\n",
    "        encoder=tf.keras.models.Model(inputs=encoder_inputs,outputs=[encoder_state_h,encoder_state_c],name='chatbot_encoder')\n",
    "\n",
    "        decoder_input_state_h=tf.keras.Input(shape=(lstm_cells,))\n",
    "        decoder_input_state_c=tf.keras.Input(shape=(lstm_cells,))\n",
    "        decoder_inputs=tf.keras.Input(shape=(None,))\n",
    "        x=base_decoder.layers[0](decoder_inputs)\n",
    "        x=base_encoder.layers[1](x)\n",
    "        x,decoder_state_h,decoder_state_c=base_decoder.layers[2](x,initial_state=[decoder_input_state_h,decoder_input_state_c])\n",
    "        decoder_outputs=base_decoder.layers[-1](x)\n",
    "        decoder=tf.keras.models.Model(\n",
    "            inputs=[decoder_inputs,[decoder_input_state_h,decoder_input_state_c]],\n",
    "            outputs=[decoder_outputs,[decoder_state_h,decoder_state_c]],name='chatbot_decoder'\n",
    "        )\n",
    "        return encoder,decoder\n",
    "\n",
    "    def summary(self):\n",
    "        self.encoder.summary()\n",
    "        self.decoder.summary()\n",
    "\n",
    "    def softmax(self,z):\n",
    "        return np.exp(z)/sum(np.exp(z))\n",
    "\n",
    "    def sample(self,conditional_probability,temperature=0.5):\n",
    "        conditional_probability = np.asarray(conditional_probability).astype(\"float64\")\n",
    "        conditional_probability = np.log(conditional_probability) / temperature\n",
    "        reweighted_conditional_probability = self.softmax(conditional_probability)\n",
    "        probas = np.random.multinomial(1, reweighted_conditional_probability, 1)\n",
    "        return np.argmax(probas)\n",
    "\n",
    "    def preprocess(self,text):\n",
    "        text=clean_text(text)\n",
    "        seq=np.zeros((1,max_sequence_length),dtype=np.int32)\n",
    "        for i,word in enumerate(text.split()):\n",
    "            seq[:,i]=sequences2ids(word).numpy()[0]\n",
    "        return seq\n",
    "    \n",
    "    def postprocess(self,text):\n",
    "        text=re.sub(' - ','-',text.lower())\n",
    "        text=re.sub(' [.] ','. ',text)\n",
    "        text=re.sub(' [1] ','1',text)\n",
    "        text=re.sub(' [2] ','2',text)\n",
    "        text=re.sub(' [3] ','3',text)\n",
    "        text=re.sub(' [4] ','4',text)\n",
    "        text=re.sub(' [5] ','5',text)\n",
    "        text=re.sub(' [6] ','6',text)\n",
    "        text=re.sub(' [7] ','7',text)\n",
    "        text=re.sub(' [8] ','8',text)\n",
    "        text=re.sub(' [9] ','9',text)\n",
    "        text=re.sub(' [0] ','0',text)\n",
    "        text=re.sub(' [,] ',', ',text)\n",
    "        text=re.sub(' [?] ','? ',text)\n",
    "        text=re.sub(' [!] ','! ',text)\n",
    "        text=re.sub(' [$] ','$ ',text)\n",
    "        text=re.sub(' [&] ','& ',text)\n",
    "        text=re.sub(' [/] ','/ ',text)\n",
    "        text=re.sub(' [:] ',': ',text)\n",
    "        text=re.sub(' [;] ','; ',text)\n",
    "        text=re.sub(' [*] ','* ',text)\n",
    "        text=re.sub(' [\\'] ','\\'',text)\n",
    "        text=re.sub(' [\\\"] ','\\\"',text)\n",
    "        return text\n",
    "\n",
    "    def call(self,text,config=None):\n",
    "        input_seq=self.preprocess(text)\n",
    "        states=self.encoder(input_seq,training=False)\n",
    "        target_seq=np.zeros((1,1))\n",
    "        target_seq[:,:]=sequences2ids(['<start>']).numpy()[0][0]\n",
    "        stop_condition=False\n",
    "        decoded=[]\n",
    "        while not stop_condition:\n",
    "            decoder_outputs,new_states=self.decoder([target_seq,states],training=False)\n",
    "#             index=tf.argmax(decoder_outputs[:,-1,:],axis=-1).numpy().item()\n",
    "            index=self.sample(decoder_outputs[0,0,:]).item()\n",
    "            word=ids2sequences([index])\n",
    "            if word=='<end> ' or len(decoded)>=max_sequence_length:\n",
    "                stop_condition=True\n",
    "            else:\n",
    "                decoded.append(index)\n",
    "                target_seq=np.zeros((1,1))\n",
    "                target_seq[:,:]=index\n",
    "                states=new_states\n",
    "        return self.postprocess(ids2sequences(decoded))"
   ]
  },
  {
   "cell_type": "code",
   "execution_count": 28,
   "metadata": {},
   "outputs": [
    {
     "name": "stdout",
     "output_type": "stream",
     "text": [
      "Model: \"chatbot_encoder\"\n",
      "_________________________________________________________________\n",
      " Layer (type)                Output Shape              Param #   \n",
      "=================================================================\n",
      " input_1 (InputLayer)        [(None, None)]            0         \n",
      "                                                                 \n",
      " encoder_embedding (Embeddin  (None, None, 256)        625408    \n",
      " g)                                                              \n",
      "                                                                 \n",
      " layer_normalization (LayerN  (None, None, 256)        512       \n",
      " ormalization)                                                   \n",
      "                                                                 \n",
      " encoder_lstm (LSTM)         [(None, None, 256),       525312    \n",
      "                              (None, 256),                       \n",
      "                              (None, 256)]                       \n",
      "                                                                 \n",
      "=================================================================\n",
      "Total params: 1,151,232\n",
      "Trainable params: 1,151,232\n",
      "Non-trainable params: 0\n",
      "_________________________________________________________________\n",
      "Model: \"chatbot_decoder\"\n",
      "__________________________________________________________________________________________________\n",
      " Layer (type)                   Output Shape         Param #     Connected to                     \n",
      "==================================================================================================\n",
      " input_4 (InputLayer)           [(None, None)]       0           []                               \n",
      "                                                                                                  \n",
      " decoder_embedding (Embedding)  (None, None, 256)    625408      ['input_4[0][0]']                \n",
      "                                                                                                  \n",
      " layer_normalization (LayerNorm  (None, None, 256)   512         ['decoder_embedding[0][0]']      \n",
      " alization)                                                                                       \n",
      "                                                                                                  \n",
      " input_2 (InputLayer)           [(None, 256)]        0           []                               \n",
      "                                                                                                  \n",
      " input_3 (InputLayer)           [(None, 256)]        0           []                               \n",
      "                                                                                                  \n",
      " decoder_lstm (LSTM)            [(None, None, 256),  525312      ['layer_normalization[1][0]',    \n",
      "                                 (None, 256),                     'input_2[0][0]',                \n",
      "                                 (None, 256)]                     'input_3[0][0]']                \n",
      "                                                                                                  \n",
      " decoder_dense (Dense)          (None, None, 2443)   627851      ['decoder_lstm[0][0]']           \n",
      "                                                                                                  \n",
      "==================================================================================================\n",
      "Total params: 1,779,083\n",
      "Trainable params: 1,779,083\n",
      "Non-trainable params: 0\n",
      "__________________________________________________________________________________________________\n"
     ]
    }
   ],
   "source": [
    "chatbot=ChatBot(model.encoder,model.decoder,name='chatbot')\n",
    "chatbot.summary()"
   ]
  },
  {
   "cell_type": "code",
   "execution_count": 29,
   "metadata": {},
   "outputs": [
    {
     "data": {
      "image/png": "[encoded data removed]",
      "text/plain": [
       "<IPython.core.display.Image object>"
      ]
     },
     "execution_count": 29,
     "metadata": {},
     "output_type": "execute_result"
    }
   ],
   "source": [
    "tf.keras.utils.plot_model(chatbot.encoder,to_file='encoder.png',show_shapes=True,show_layer_activations=True)"
   ]
  },
  {
   "cell_type": "markdown",
   "metadata": {},
   "source": [
    "## Test ChatBot"
   ]
  },
  {
   "cell_type": "code",
   "execution_count": 30,
   "metadata": {},
   "outputs": [],
   "source": [
    "def print_conversation(texts):\n",
    "    for text in texts:\n",
    "        print(f'You: {text}')\n",
    "        print(f'Bot: {chatbot(text)}')\n",
    "        print('========================')"
   ]
  },
  {
   "cell_type": "code",
   "execution_count": 31,
   "metadata": {},
   "outputs": [
    {
     "name": "stdout",
     "output_type": "stream",
     "text": [
      "You: hi, how are you doing?\t\n",
      "Bot: i'm going to change the light bulb. it burnt out. \n",
      "========================\n",
      "You: yes, I am doing great\n",
      "Bot: i'm going to dinner with my family. \n",
      "========================\n",
      "You: what is your name?\n",
      "Bot: the party says it will be good in a cemetery. \n",
      "========================\n",
      "You: are you a human or a bot?\n",
      "Bot: yes. i just bought a cadillac. \n",
      "========================\n",
      "You: what is your favorite color?\n",
      "Bot: someone. a ticket for the money. \n",
      "========================\n",
      "You: what is your favorite food?\n",
      "Bot: i think i'm going to dream about anything. i'm really tired. \n",
      "========================\n",
      "You: what is your favorite movie?\n",
      "Bot: i got a ticket downtown for $10. \n",
      "========================\n"
     ]
    }
   ],
   "source": [
    "print_conversation([\n",
    "    'hi, how are you doing?\t',\n",
    "    'yes, I am doing great',\n",
    "    'what is your name?',\n",
    "    'are you a human or a bot?',\n",
    "    'what is your favorite color?',\n",
    "    'what is your favorite food?',\n",
    "    'what is your favorite movie?',\n",
    "])"
   ]
  },
  {
   "cell_type": "code",
   "execution_count": null,
   "metadata": {},
   "outputs": [],
   "source": []
  }
 ],
 "metadata": {
  "kernelspec": {
   "display_name": "Python 3",
   "language": "python",
   "name": "python3"
  },
  "language_info": {
   "codemirror_mode": {
    "name": "ipython",
    "version": 3
   },
   "file_extension": ".py",
   "mimetype": "text/x-python",
   "name": "python",
   "nbconvert_exporter": "python",
   "pygments_lexer": "ipython3",
   "version": "3.10.11"
  }
 },
 "nbformat": 4,
 "nbformat_minor": 2
}
